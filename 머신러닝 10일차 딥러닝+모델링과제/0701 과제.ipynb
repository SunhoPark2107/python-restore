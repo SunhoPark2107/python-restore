{
 "cells": [
  {
   "cell_type": "code",
   "execution_count": 1,
   "id": "dbeb1f86",
   "metadata": {},
   "outputs": [],
   "source": [
    "# 데이터 불러오기"
   ]
  },
  {
   "cell_type": "code",
   "execution_count": 190,
   "id": "49b6b0ad",
   "metadata": {},
   "outputs": [],
   "source": [
    "import pandas as pd\n",
    "import numpy as np"
   ]
  },
  {
   "cell_type": "code",
   "execution_count": 191,
   "id": "9a40b2fa",
   "metadata": {},
   "outputs": [],
   "source": [
    "df = pd.read_csv('./car.data', header = 0)\n",
    "df_new = pd.read_csv('./car.data', header = 0)"
   ]
  },
  {
   "cell_type": "code",
   "execution_count": 192,
   "id": "853e6663",
   "metadata": {
    "scrolled": true
   },
   "outputs": [
    {
     "data": {
      "text/plain": [
       "Index(['buying', 'maint', 'doors', 'persons', 'lug_boot', 'safety', 'class'], dtype='object')"
      ]
     },
     "execution_count": 192,
     "metadata": {},
     "output_type": "execute_result"
    }
   ],
   "source": [
    "df.columns"
   ]
  },
  {
   "cell_type": "code",
   "execution_count": 193,
   "id": "f3452387",
   "metadata": {
    "scrolled": false
   },
   "outputs": [
    {
     "data": {
      "text/html": [
       "<div>\n",
       "<style scoped>\n",
       "    .dataframe tbody tr th:only-of-type {\n",
       "        vertical-align: middle;\n",
       "    }\n",
       "\n",
       "    .dataframe tbody tr th {\n",
       "        vertical-align: top;\n",
       "    }\n",
       "\n",
       "    .dataframe thead th {\n",
       "        text-align: right;\n",
       "    }\n",
       "</style>\n",
       "<table border=\"1\" class=\"dataframe\">\n",
       "  <thead>\n",
       "    <tr style=\"text-align: right;\">\n",
       "      <th></th>\n",
       "      <th>buying_high</th>\n",
       "      <th>buying_low</th>\n",
       "      <th>buying_med</th>\n",
       "      <th>buying_vhigh</th>\n",
       "      <th>maint_high</th>\n",
       "      <th>maint_low</th>\n",
       "      <th>maint_med</th>\n",
       "      <th>maint_vhigh</th>\n",
       "      <th>doors_2</th>\n",
       "      <th>doors_3</th>\n",
       "      <th>...</th>\n",
       "      <th>lug_boot_big</th>\n",
       "      <th>lug_boot_med</th>\n",
       "      <th>lug_boot_small</th>\n",
       "      <th>safety_high</th>\n",
       "      <th>safety_low</th>\n",
       "      <th>safety_med</th>\n",
       "      <th>class_acc</th>\n",
       "      <th>class_good</th>\n",
       "      <th>class_unacc</th>\n",
       "      <th>class_vgood</th>\n",
       "    </tr>\n",
       "  </thead>\n",
       "  <tbody>\n",
       "    <tr>\n",
       "      <th>0</th>\n",
       "      <td>0</td>\n",
       "      <td>0</td>\n",
       "      <td>0</td>\n",
       "      <td>1</td>\n",
       "      <td>0</td>\n",
       "      <td>0</td>\n",
       "      <td>0</td>\n",
       "      <td>1</td>\n",
       "      <td>1</td>\n",
       "      <td>0</td>\n",
       "      <td>...</td>\n",
       "      <td>0</td>\n",
       "      <td>0</td>\n",
       "      <td>1</td>\n",
       "      <td>0</td>\n",
       "      <td>1</td>\n",
       "      <td>0</td>\n",
       "      <td>0</td>\n",
       "      <td>0</td>\n",
       "      <td>1</td>\n",
       "      <td>0</td>\n",
       "    </tr>\n",
       "    <tr>\n",
       "      <th>1</th>\n",
       "      <td>0</td>\n",
       "      <td>0</td>\n",
       "      <td>0</td>\n",
       "      <td>1</td>\n",
       "      <td>0</td>\n",
       "      <td>0</td>\n",
       "      <td>0</td>\n",
       "      <td>1</td>\n",
       "      <td>1</td>\n",
       "      <td>0</td>\n",
       "      <td>...</td>\n",
       "      <td>0</td>\n",
       "      <td>0</td>\n",
       "      <td>1</td>\n",
       "      <td>0</td>\n",
       "      <td>0</td>\n",
       "      <td>1</td>\n",
       "      <td>0</td>\n",
       "      <td>0</td>\n",
       "      <td>1</td>\n",
       "      <td>0</td>\n",
       "    </tr>\n",
       "    <tr>\n",
       "      <th>2</th>\n",
       "      <td>0</td>\n",
       "      <td>0</td>\n",
       "      <td>0</td>\n",
       "      <td>1</td>\n",
       "      <td>0</td>\n",
       "      <td>0</td>\n",
       "      <td>0</td>\n",
       "      <td>1</td>\n",
       "      <td>1</td>\n",
       "      <td>0</td>\n",
       "      <td>...</td>\n",
       "      <td>0</td>\n",
       "      <td>0</td>\n",
       "      <td>1</td>\n",
       "      <td>1</td>\n",
       "      <td>0</td>\n",
       "      <td>0</td>\n",
       "      <td>0</td>\n",
       "      <td>0</td>\n",
       "      <td>1</td>\n",
       "      <td>0</td>\n",
       "    </tr>\n",
       "    <tr>\n",
       "      <th>3</th>\n",
       "      <td>0</td>\n",
       "      <td>0</td>\n",
       "      <td>0</td>\n",
       "      <td>1</td>\n",
       "      <td>0</td>\n",
       "      <td>0</td>\n",
       "      <td>0</td>\n",
       "      <td>1</td>\n",
       "      <td>1</td>\n",
       "      <td>0</td>\n",
       "      <td>...</td>\n",
       "      <td>0</td>\n",
       "      <td>1</td>\n",
       "      <td>0</td>\n",
       "      <td>0</td>\n",
       "      <td>1</td>\n",
       "      <td>0</td>\n",
       "      <td>0</td>\n",
       "      <td>0</td>\n",
       "      <td>1</td>\n",
       "      <td>0</td>\n",
       "    </tr>\n",
       "    <tr>\n",
       "      <th>4</th>\n",
       "      <td>0</td>\n",
       "      <td>0</td>\n",
       "      <td>0</td>\n",
       "      <td>1</td>\n",
       "      <td>0</td>\n",
       "      <td>0</td>\n",
       "      <td>0</td>\n",
       "      <td>1</td>\n",
       "      <td>1</td>\n",
       "      <td>0</td>\n",
       "      <td>...</td>\n",
       "      <td>0</td>\n",
       "      <td>1</td>\n",
       "      <td>0</td>\n",
       "      <td>0</td>\n",
       "      <td>0</td>\n",
       "      <td>1</td>\n",
       "      <td>0</td>\n",
       "      <td>0</td>\n",
       "      <td>1</td>\n",
       "      <td>0</td>\n",
       "    </tr>\n",
       "  </tbody>\n",
       "</table>\n",
       "<p>5 rows × 25 columns</p>\n",
       "</div>"
      ],
      "text/plain": [
       "   buying_high  buying_low  buying_med  buying_vhigh  maint_high  maint_low  \\\n",
       "0            0           0           0             1           0          0   \n",
       "1            0           0           0             1           0          0   \n",
       "2            0           0           0             1           0          0   \n",
       "3            0           0           0             1           0          0   \n",
       "4            0           0           0             1           0          0   \n",
       "\n",
       "   maint_med  maint_vhigh  doors_2  doors_3  ...  lug_boot_big  lug_boot_med  \\\n",
       "0          0            1        1        0  ...             0             0   \n",
       "1          0            1        1        0  ...             0             0   \n",
       "2          0            1        1        0  ...             0             0   \n",
       "3          0            1        1        0  ...             0             1   \n",
       "4          0            1        1        0  ...             0             1   \n",
       "\n",
       "   lug_boot_small  safety_high  safety_low  safety_med  class_acc  class_good  \\\n",
       "0               1            0           1           0          0           0   \n",
       "1               1            0           0           1          0           0   \n",
       "2               1            1           0           0          0           0   \n",
       "3               0            0           1           0          0           0   \n",
       "4               0            0           0           1          0           0   \n",
       "\n",
       "   class_unacc  class_vgood  \n",
       "0            1            0  \n",
       "1            1            0  \n",
       "2            1            0  \n",
       "3            1            0  \n",
       "4            1            0  \n",
       "\n",
       "[5 rows x 25 columns]"
      ]
     },
     "metadata": {},
     "output_type": "display_data"
    }
   ],
   "source": [
    "# 독립변수와 종속변수 모두 범주형 데이터이므로, 모델링하기 위해 원-핫 인코딩으로 더미변수로 변환.\n",
    "data_dummies = pd.get_dummies(df)\n",
    "display(data_dummies.head())"
   ]
  },
  {
   "cell_type": "code",
   "execution_count": 194,
   "id": "5173d7a4",
   "metadata": {},
   "outputs": [],
   "source": [
    "# 더미변수화 된 데이터 독립변수와 종속변수로 나누기. \n",
    "x_features = data_dummies.loc[:, 'buying_high':'safety_med']\n",
    "X = x_features.values\n",
    "y = df['class']"
   ]
  },
  {
   "cell_type": "code",
   "execution_count": 195,
   "id": "cf2eb2ff",
   "metadata": {},
   "outputs": [],
   "source": [
    "# 1) 결정트리"
   ]
  },
  {
   "cell_type": "code",
   "execution_count": 196,
   "id": "ee392b13",
   "metadata": {},
   "outputs": [
    {
     "name": "stdout",
     "output_type": "stream",
     "text": [
      "train set score is 1.000\n",
      "test set score is 0.954\n",
      "\n",
      "['unacc', 'unacc', 'unacc', 'unacc', 'unacc']\n",
      "['unacc', 'unacc', 'unacc', 'unacc', 'unacc']\n"
     ]
    },
    {
     "data": {
      "text/plain": [
       "True"
      ]
     },
     "execution_count": 196,
     "metadata": {},
     "output_type": "execute_result"
    }
   ],
   "source": [
    "from sklearn.tree import DecisionTreeClassifier\n",
    "from sklearn.model_selection import train_test_split\n",
    "\n",
    "# train, test 셋 분할\n",
    "X_train, X_test, y_train, y_test = train_test_split(\n",
    "X, y, stratify=y, random_state=0)\n",
    "\n",
    "# 결정트리 학습\n",
    "tree = DecisionTreeClassifier(random_state=0)\n",
    "tree.fit(X_train, y_train)\n",
    "\n",
    "# 결정트리의 테스트 셋 정확도는 0.96\n",
    "# 오버피팅.\n",
    "\n",
    "print(\"train set score is {:.3f}\".format(tree.score(X_train, y_train)))\n",
    "print(\"test set score is {:.3f}\".format(tree.score(X_test, y_test)))\n",
    "\n",
    "\n",
    "# 예측값과 실제값 상위 5개 비교 => 모두 일치.\n",
    "\n",
    "print()\n",
    "print(tree.predict(X_test)[:5].tolist())\n",
    "print(y_test[:5].tolist())\n",
    "\n",
    "# 위에서부터 10개 데이터는 모두 일치함.\n",
    "\n",
    "dt_pred = tree.predict(X_test)[:10]\n",
    "test_1 = y_test[:10]\n",
    "np.all(dt_pred == test_1)"
   ]
  },
  {
   "cell_type": "code",
   "execution_count": 197,
   "id": "683abdc3",
   "metadata": {},
   "outputs": [],
   "source": [
    "# 랜덤포레스트, 그레이디언트 부스팅 회귀 트리"
   ]
  },
  {
   "cell_type": "code",
   "execution_count": 198,
   "id": "44c3556d",
   "metadata": {
    "scrolled": true
   },
   "outputs": [
    {
     "name": "stdout",
     "output_type": "stream",
     "text": [
      "train set score is 1.000\n",
      "test set score is 0.933\n",
      "\n",
      "['acc', 'unacc', 'unacc', 'unacc', 'unacc']\n",
      "['unacc', 'unacc', 'unacc', 'unacc', 'unacc']\n"
     ]
    },
    {
     "data": {
      "text/plain": [
       "False"
      ]
     },
     "execution_count": 198,
     "metadata": {},
     "output_type": "execute_result"
    }
   ],
   "source": [
    "# 랜덤 포레스트\n",
    "from sklearn.ensemble import RandomForestClassifier\n",
    "forest = RandomForestClassifier(n_estimators = 100, random_state = 0)\n",
    "forest.fit(X_train, y_train)\n",
    "print(\"train set score is {:.3f}\".format(forest.score(X_train, y_train)))\n",
    "print(\"test set score is {:.3f}\".format(forest.score(X_test, y_test)))\n",
    "\n",
    "print()\n",
    "print(forest.predict(X_test)[:5].tolist())\n",
    "print(y_test[:5].tolist())\n",
    "\n",
    "# 10개 데이터 일치 확인\n",
    "rf_pred = forest.predict(X_test)[:10]\n",
    "np.all(rf_pred == test_1)"
   ]
  },
  {
   "cell_type": "code",
   "execution_count": 201,
   "id": "bc422ec4",
   "metadata": {},
   "outputs": [
    {
     "name": "stdout",
     "output_type": "stream",
     "text": [
      "train set score is 0.992\n",
      "test set score is 0.979\n",
      "\n",
      "['unacc', 'unacc', 'unacc', 'unacc', 'unacc', 'unacc', 'unacc', 'unacc', 'unacc', 'unacc']\n",
      "['unacc', 'unacc', 'unacc', 'unacc', 'unacc', 'acc', 'unacc', 'unacc', 'unacc', 'unacc']\n"
     ]
    },
    {
     "data": {
      "text/plain": [
       "False"
      ]
     },
     "execution_count": 201,
     "metadata": {},
     "output_type": "execute_result"
    }
   ],
   "source": [
    "# 그레이디언트 부스팅 회귀 트리\n",
    "\n",
    "from sklearn.ensemble import GradientBoostingClassifier\n",
    "\n",
    "gbrt = GradientBoostingClassifier(random_state = 0)\n",
    "gbrt.fit(X_train, y_train)\n",
    "\n",
    "print(\"train set score is {:.3f}\".format(gbrt.score(X_train, y_train)))\n",
    "print(\"test set score is {:.3f}\".format(gbrt.score(X_test, y_test)))\n",
    "\n",
    "print()\n",
    "print(gbrt.predict(X_test)[:10].tolist())\n",
    "print(y_test[:10].tolist())\n",
    "\n",
    "\n",
    "# 10개 데이터 일치 확인\n",
    "gbrt_pred = gbrt.predict(X_test)[:10]\n",
    "np.all(gbrt_pred == test_1)"
   ]
  },
  {
   "cell_type": "code",
   "execution_count": null,
   "id": "b377feb3",
   "metadata": {},
   "outputs": [],
   "source": []
  },
  {
   "cell_type": "code",
   "execution_count": null,
   "id": "13546d05",
   "metadata": {},
   "outputs": [],
   "source": []
  },
  {
   "cell_type": "code",
   "execution_count": null,
   "id": "2664a31a",
   "metadata": {},
   "outputs": [],
   "source": []
  },
  {
   "cell_type": "code",
   "execution_count": 202,
   "id": "f7482369",
   "metadata": {},
   "outputs": [],
   "source": [
    "# df 자체에서 y값을 1, 2, 3, 4로 바꾸기.(수학적 모델들의 성능 향상 위해/)"
   ]
  },
  {
   "cell_type": "code",
   "execution_count": 203,
   "id": "a14f4ffb",
   "metadata": {},
   "outputs": [],
   "source": [
    "df_new.replace('unacc', '0', inplace = True)\n",
    "df_new.replace('acc', '1', inplace = True)\n",
    "df_new.replace('good', '2', inplace = True)\n",
    "df_new.replace('vgood', '3', inplace = True)"
   ]
  },
  {
   "cell_type": "code",
   "execution_count": 204,
   "id": "8ce80f16",
   "metadata": {},
   "outputs": [
    {
     "data": {
      "text/plain": [
       "0       0\n",
       "1       0\n",
       "2       0\n",
       "3       0\n",
       "4       0\n",
       "       ..\n",
       "1723    2\n",
       "1724    3\n",
       "1725    0\n",
       "1726    2\n",
       "1727    3\n",
       "Name: class, Length: 1728, dtype: object"
      ]
     },
     "execution_count": 204,
     "metadata": {},
     "output_type": "execute_result"
    }
   ],
   "source": [
    "df_new\n",
    "y_1d = df_new.loc[:, \"class\"]\n",
    "y_1d"
   ]
  },
  {
   "cell_type": "code",
   "execution_count": 205,
   "id": "825ffc2f",
   "metadata": {},
   "outputs": [],
   "source": [
    "# train, test 셋 분할\n",
    "X_train, X_test, y_train, y_test = train_test_split(X, y_1d, stratify=y, random_state=0)"
   ]
  },
  {
   "cell_type": "code",
   "execution_count": null,
   "id": "fba36746",
   "metadata": {},
   "outputs": [],
   "source": []
  },
  {
   "cell_type": "code",
   "execution_count": null,
   "id": "052e22b5",
   "metadata": {},
   "outputs": [],
   "source": []
  },
  {
   "cell_type": "code",
   "execution_count": null,
   "id": "f4eba60c",
   "metadata": {},
   "outputs": [],
   "source": []
  },
  {
   "cell_type": "code",
   "execution_count": 180,
   "id": "0459411b",
   "metadata": {},
   "outputs": [
    {
     "name": "stdout",
     "output_type": "stream",
     "text": [
      "train set score is 0.965\n",
      "test set score is 0.944\n",
      "\n",
      "['0', '1', '0', '0', '0', '0', '1', '0', '3', '0']\n",
      "['0', '2', '0', '0', '0', '0', '1', '0', '3', '0']\n"
     ]
    },
    {
     "data": {
      "text/plain": [
       "False"
      ]
     },
     "execution_count": 180,
     "metadata": {},
     "output_type": "execute_result"
    }
   ],
   "source": [
    "# 커널 서포트 벡터 분류기\n",
    "\n",
    "from sklearn.svm import SVC\n",
    "svm = SVC(kernel = 'rbf', C=1, gamma = 0.1)\n",
    "svm.fit(X_train, y_train)\n",
    "\n",
    "print(\"train set score is {:.3f}\".format(svm.score(X_train, y_train)))\n",
    "print(\"test set score is {:.3f}\".format(svm.score(X_test, y_test)))\n",
    "\n",
    "print()\n",
    "print(svm.predict(X_test)[:10].tolist())\n",
    "print(y_test[:10].tolist())\n",
    "\n",
    "# 10개 데이터 일치 확인    # 하나 틀림.\n",
    "sv_pred = svm.predict(X_test)[:10]\n",
    "np.all(sv_pred == test_2)"
   ]
  },
  {
   "cell_type": "code",
   "execution_count": 181,
   "id": "6088f33b",
   "metadata": {},
   "outputs": [
    {
     "name": "stdout",
     "output_type": "stream",
     "text": [
      "train set score is 1.000\n",
      "test set score is 0.998\n",
      "\n",
      "['0', '2', '0', '0', '0']\n",
      "['0', '2', '0', '0', '0']\n"
     ]
    },
    {
     "data": {
      "text/plain": [
       "True"
      ]
     },
     "execution_count": 181,
     "metadata": {},
     "output_type": "execute_result"
    }
   ],
   "source": [
    "# 커널 서포트 벡터 분류기(매개변수 조정)\n",
    "\n",
    "from sklearn.svm import SVC\n",
    "svm = SVC(kernel = 'rbf', C=10, gamma = 0.1)\n",
    "svm.fit(X_train, y_train)\n",
    "\n",
    "print(\"train set score is {:.3f}\".format(svm.score(X_train, y_train)))\n",
    "print(\"test set score is {:.3f}\".format(svm.score(X_test, y_test)))\n",
    "\n",
    "print()\n",
    "print(svm.predict(X_test)[:5].tolist())\n",
    "print(y_test[:5].tolist())\n",
    "\n",
    "# 10개 데이터 일치 확인\n",
    "sv_pred = svm.predict(X_test)[:10]\n",
    "np.all(sv_pred == test_2)"
   ]
  },
  {
   "cell_type": "code",
   "execution_count": 182,
   "id": "80c5ead5",
   "metadata": {},
   "outputs": [
    {
     "name": "stdout",
     "output_type": "stream",
     "text": [
      "train set score is 0.910\n",
      "test set score is 0.905\n",
      "\n",
      "['0', '1', '0', '0', '0']\n",
      "['0', '2', '0', '0', '0']\n"
     ]
    },
    {
     "data": {
      "text/plain": [
       "False"
      ]
     },
     "execution_count": 182,
     "metadata": {},
     "output_type": "execute_result"
    }
   ],
   "source": [
    "# 로지스틱 회귀\n",
    "\n",
    "from sklearn.linear_model import LogisticRegression\n",
    "\n",
    "lr = LogisticRegression(solver='liblinear', multi_class='auto', C=100.0, random_state=1)\n",
    "lr.fit(X_train, y_train)\n",
    "print(\"train set score is {:.3f}\".format(lr.score(X_train, y_train)))\n",
    "print(\"test set score is {:.3f}\".format(lr.score(X_test, y_test)))\n",
    "\n",
    "print()\n",
    "print(lr.predict(X_test)[:5].tolist())\n",
    "print(y_test[:5].tolist())\n",
    "\n",
    "# 10개 데이터 일치 확인\n",
    "lr_pred = lr.predict(X_test)[:10]\n",
    "np.all(lr_pred == test_2)"
   ]
  },
  {
   "cell_type": "code",
   "execution_count": null,
   "id": "afc3f651",
   "metadata": {},
   "outputs": [],
   "source": []
  },
  {
   "cell_type": "code",
   "execution_count": null,
   "id": "01c44f95",
   "metadata": {},
   "outputs": [],
   "source": []
  },
  {
   "cell_type": "code",
   "execution_count": null,
   "id": "54180fe5",
   "metadata": {},
   "outputs": [],
   "source": []
  }
 ],
 "metadata": {
  "kernelspec": {
   "display_name": "Python 3",
   "language": "python",
   "name": "python3"
  },
  "language_info": {
   "codemirror_mode": {
    "name": "ipython",
    "version": 3
   },
   "file_extension": ".py",
   "mimetype": "text/x-python",
   "name": "python",
   "nbconvert_exporter": "python",
   "pygments_lexer": "ipython3",
   "version": "3.8.8"
  }
 },
 "nbformat": 4,
 "nbformat_minor": 5
}
