{
  "nbformat": 4,
  "nbformat_minor": 0,
  "metadata": {
    "colab": {
      "name": "0705 딥러닝-시계열분석 + tensorflow.ipynb",
      "provenance": [],
      "authorship_tag": "ABX9TyOyTx6zw9TF0q4FjL9F4Qmt",
      "include_colab_link": true
    },
    "kernelspec": {
      "name": "python3",
      "display_name": "Python 3"
    },
    "language_info": {
      "name": "python"
    }
  },
  "cells": [
    {
      "cell_type": "markdown",
      "metadata": {
        "id": "view-in-github",
        "colab_type": "text"
      },
      "source": [
        "<a href=\"https://colab.research.google.com/github/SunhoPark2107/python-restore/blob/main/0705_%EB%94%A5%EB%9F%AC%EB%8B%9D_%EC%8B%9C%EA%B3%84%EC%97%B4%EB%B6%84%EC%84%9D_%2B_tensorflow.ipynb\" target=\"_parent\"><img src=\"https://colab.research.google.com/assets/colab-badge.svg\" alt=\"Open In Colab\"/></a>"
      ]
    },
    {
      "cell_type": "code",
      "metadata": {
        "colab": {
          "base_uri": "https://localhost:8080/"
        },
        "id": "V26BOzPmdobP",
        "outputId": "37b39625-c6d9-42b6-b66c-6e9f53cdd6d7"
      },
      "source": [
        "from google.colab import drive\n",
        "drive.mount('/content/gdrive')"
      ],
      "execution_count": 1,
      "outputs": [
        {
          "output_type": "stream",
          "text": [
            "Mounted at /content/gdrive\n"
          ],
          "name": "stdout"
        }
      ]
    },
    {
      "cell_type": "code",
      "metadata": {
        "id": "ZW37Ihhedo-o"
      },
      "source": [
        "import numpy as np\n",
        "xy = np.loadtxt('/content/gdrive/My Drive/Colab Notebooks/data-02-stock_daily.csv', delimiter=\",\")"
      ],
      "execution_count": 2,
      "outputs": []
    },
    {
      "cell_type": "code",
      "metadata": {
        "colab": {
          "base_uri": "https://localhost:8080/"
        },
        "id": "fY71L0Y2dt1T",
        "outputId": "f30a2f84-6c5a-4faa-e65f-833c88c9b65c"
      },
      "source": [
        "#train, test split\n",
        "seq_length = 7\n",
        "train_size = int(len(xy)*0.7)\n",
        "train_set = xy[:train_size]\n",
        "test_set = xy[train_size - seq_length:]\n",
        "print(train_set.shape, test_set.shape)"
      ],
      "execution_count": 3,
      "outputs": [
        {
          "output_type": "stream",
          "text": [
            "(512, 5) (227, 5)\n"
          ],
          "name": "stdout"
        }
      ]
    },
    {
      "cell_type": "code",
      "metadata": {
        "id": "0SRRvMRZdyH1"
      },
      "source": [
        "def minmax_scaler(data):\n",
        "  numerator = data - np.min(data, 0)\n",
        "  denominator = np.max(data, 0)-np.min(data,0)\n",
        "  return numerator / (denominator + 1e-7)"
      ],
      "execution_count": 4,
      "outputs": []
    },
    {
      "cell_type": "code",
      "metadata": {
        "id": "72UilwkKdzr5"
      },
      "source": [
        "#scaling data\n",
        "train_set = minmax_scaler(train_set)\n",
        "test_set = minmax_scaler(test_set)"
      ],
      "execution_count": 5,
      "outputs": []
    },
    {
      "cell_type": "code",
      "metadata": {
        "id": "5lt_a8YVd0f8"
      },
      "source": [
        "def build_dataset(time_series_data, seq_length):\n",
        "  data_X = []; data_y = []\n",
        "  for i in range(0, len(time_series_data)-seq_length):\n",
        "    x_ = time_series_data[i: i + seq_length, :]\n",
        "    y_ = time_series_data[i+seq_length, [-1]]\n",
        "    data_X.append(x_); data_y.append(y_)\n",
        "  return np.array(data_X), np.array(data_y)\n"
      ],
      "execution_count": 6,
      "outputs": []
    },
    {
      "cell_type": "code",
      "metadata": {
        "id": "AzbheL09d1l8"
      },
      "source": [
        "train_X, train_y = build_dataset(train_set, seq_length)\n",
        "test_X, test_y = build_dataset(test_set, seq_length)"
      ],
      "execution_count": 7,
      "outputs": []
    },
    {
      "cell_type": "code",
      "metadata": {
        "id": "-ZL2aIHad2YE"
      },
      "source": [
        "import torch\n",
        "import torch.optim as optim\n",
        "import matplotlib.pyplot as plt"
      ],
      "execution_count": 8,
      "outputs": []
    },
    {
      "cell_type": "code",
      "metadata": {
        "id": "gYu1L3Lxd3OK"
      },
      "source": [
        "data_dim = 5\n",
        "hidden_dim = 10\n",
        "output_dim = 1\n",
        "learning_rate = 0.01\n",
        "iterations = 500"
      ],
      "execution_count": 9,
      "outputs": []
    },
    {
      "cell_type": "code",
      "metadata": {
        "id": "J03xOADJd4CH"
      },
      "source": [
        "train_X_tensor = torch.FloatTensor(train_X)\n",
        "train_y_tensor = torch.FloatTensor(train_y)\n",
        "test_X_tensor = torch.FloatTensor(test_X)\n",
        "test_y_tensor = torch.FloatTensor(test_y)"
      ],
      "execution_count": 10,
      "outputs": []
    },
    {
      "cell_type": "code",
      "metadata": {
        "id": "BJ3jlt1ed43Q"
      },
      "source": [
        "class Net(torch.nn.Module):\n",
        "  def __init__(self, input_dim, hidden_dim, output_dim, layers):\n",
        "    super(Net, self).__init__()\n",
        "    self.rnn = torch.nn.LSTM(input_dim, hidden_dim, num_layers=layers, \n",
        "                             batch_first=True)\n",
        "    self.fc = torch.nn.Linear(hidden_dim, output_dim, bias=True)\n",
        "\n",
        "  def forward(self, x):\n",
        "    x, _status = self.rnn(x)\n",
        "    x = self.fc(x[:,-1])\n",
        "    return x\n",
        "\n",
        "net = Net(data_dim, hidden_dim, output_dim, 1)"
      ],
      "execution_count": 11,
      "outputs": []
    },
    {
      "cell_type": "code",
      "metadata": {
        "id": "C9U3nD0fd5vj"
      },
      "source": [
        "criterion = torch.nn.MSELoss()\n",
        "optimizer = optim.Adam(net.parameters(), lr = learning_rate)"
      ],
      "execution_count": 12,
      "outputs": []
    },
    {
      "cell_type": "code",
      "metadata": {
        "colab": {
          "base_uri": "https://localhost:8080/"
        },
        "id": "9E-VLcwSd6lU",
        "outputId": "5da82c4d-3e30-4081-d6d6-2d091a442dcc"
      },
      "source": [
        "# training!\n",
        "for i in range(iterations):\n",
        "  optimizer.zero_grad()\n",
        "  outputs = net(train_X_tensor)\n",
        "  loss = criterion(outputs, train_y_tensor)\n",
        "  loss.backward()\n",
        "  optimizer.step()\n",
        "  print(i, loss.item())"
      ],
      "execution_count": 13,
      "outputs": [
        {
          "output_type": "stream",
          "text": [
            "0 0.3816586434841156\n",
            "1 0.2933013141155243\n",
            "2 0.2232895940542221\n",
            "3 0.16713787615299225\n",
            "4 0.12248915433883667\n",
            "5 0.0880480706691742\n",
            "6 0.06338530033826828\n",
            "7 0.04867362976074219\n",
            "8 0.043964844197034836\n",
            "9 0.047742124646902084\n",
            "10 0.055655818432569504\n",
            "11 0.06252619624137878\n",
            "12 0.0654703676700592\n",
            "13 0.0641372948884964\n",
            "14 0.05958113446831703\n",
            "15 0.05330348759889603\n",
            "16 0.046701304614543915\n",
            "17 0.040805768221616745\n",
            "18 0.03620252013206482\n",
            "19 0.03306516259908676\n",
            "20 0.03125288337469101\n",
            "21 0.03043215163052082\n",
            "22 0.030192047357559204\n",
            "23 0.0301357414573431\n",
            "24 0.0299412552267313\n",
            "25 0.029392128810286522\n",
            "26 0.028384430333971977\n",
            "27 0.026917090639472008\n",
            "28 0.025072161108255386\n",
            "29 0.022989261895418167\n",
            "30 0.020837189629673958\n",
            "31 0.01878475584089756\n",
            "32 0.016972925513982773\n",
            "33 0.015490898862481117\n",
            "34 0.01435969676822424\n",
            "35 0.013527119532227516\n",
            "36 0.012877955101430416\n",
            "37 0.012261230498552322\n",
            "38 0.0115318289026618\n",
            "39 0.010596764273941517\n",
            "40 0.009449233300983906\n",
            "41 0.00817281473428011\n",
            "42 0.006910208147019148\n",
            "43 0.00580865191295743\n",
            "44 0.0049645970575511456\n",
            "45 0.004388651344925165\n",
            "46 0.004003308713436127\n",
            "47 0.0036760286893695593\n",
            "48 0.003279854776337743\n",
            "49 0.0027605921495705843\n",
            "50 0.0021791686303913593\n",
            "51 0.0016979065258055925\n",
            "52 0.0014907715376466513\n",
            "53 0.0015945250634104013\n",
            "54 0.0018171501578763127\n",
            "55 0.0018917074194177985\n",
            "56 0.0017659191507846117\n",
            "57 0.0016313083469867706\n",
            "58 0.0016752146184444427\n",
            "59 0.0018744560657069087\n",
            "60 0.002043049084022641\n",
            "61 0.0020421678200364113\n",
            "62 0.0019030937692150474\n",
            "63 0.0017628476489335299\n",
            "64 0.0017147090984508395\n",
            "65 0.0017292395932599902\n",
            "66 0.0017131323693320155\n",
            "67 0.0016208236338570714\n",
            "68 0.0014895610511302948\n",
            "69 0.0013845976209267974\n",
            "70 0.0013364808401092887\n",
            "71 0.0013285413151606917\n",
            "72 0.0013257545651867986\n",
            "73 0.0013066371902823448\n",
            "74 0.001273960922844708\n",
            "75 0.001244852552190423\n",
            "76 0.0012339232489466667\n",
            "77 0.0012426611501723528\n",
            "78 0.0012604092480614781\n",
            "79 0.0012734932824969292\n",
            "80 0.0012745298445224762\n",
            "81 0.0012655918253585696\n",
            "82 0.001254456932656467\n",
            "83 0.0012480012373998761\n",
            "84 0.00124772684648633\n",
            "85 0.0012498408323153853\n",
            "86 0.0012488450156524777\n",
            "87 0.0012416080571711063\n",
            "88 0.001229188870638609\n",
            "89 0.0012156148441135883\n",
            "90 0.0012048642383888364\n",
            "91 0.0011983163421973586\n",
            "92 0.0011943407589569688\n",
            "93 0.0011900514364242554\n",
            "94 0.0011836999328806996\n",
            "95 0.0011758715845644474\n",
            "96 0.0011687325313687325\n",
            "97 0.0011641544988378882\n",
            "98 0.0011622991878539324\n",
            "99 0.0011616949923336506\n",
            "100 0.0011605375912040472\n",
            "101 0.0011580451391637325\n",
            "102 0.001154806581325829\n",
            "103 0.0011520078405737877\n",
            "104 0.0011503060813993216\n",
            "105 0.0011493137571960688\n",
            "106 0.001148034236393869\n",
            "107 0.0011457462096586823\n",
            "108 0.0011425449047237635\n",
            "109 0.0011391304433345795\n",
            "110 0.0011361398501321673\n",
            "111 0.0011336593888700008\n",
            "112 0.0011312837013974786\n",
            "113 0.001128575881011784\n",
            "114 0.0011254701530560851\n",
            "115 0.0011222857283428311\n",
            "116 0.0011194102698937058\n",
            "117 0.0011169746285304427\n",
            "118 0.0011147925397381186\n",
            "119 0.0011125733144581318\n",
            "120 0.0011101830750703812\n",
            "121 0.0011077186791226268\n",
            "122 0.001105372211895883\n",
            "123 0.001103234593756497\n",
            "124 0.0011012215400114655\n",
            "125 0.00109916552901268\n",
            "126 0.0010969643481075764\n",
            "127 0.0010946531547233462\n",
            "128 0.0010923434747382998\n",
            "129 0.0010901103960350156\n",
            "130 0.0010879329638555646\n",
            "131 0.0010857318993657827\n",
            "132 0.001083452720195055\n",
            "133 0.0010811180109158158\n",
            "134 0.0010787952924147248\n",
            "135 0.001076534972526133\n",
            "136 0.0010743282036855817\n",
            "137 0.0010721298167482018\n",
            "138 0.0010699066333472729\n",
            "139 0.0010676686652004719\n",
            "140 0.001065450836904347\n",
            "141 0.001063276082277298\n",
            "142 0.0010611338075250387\n",
            "143 0.001058993861079216\n",
            "144 0.0010568373836576939\n",
            "145 0.001054670661687851\n",
            "146 0.0010525139514356852\n",
            "147 0.0010503769153729081\n",
            "148 0.0010482508223503828\n",
            "149 0.0010461196070536971\n",
            "150 0.0010439761681482196\n",
            "151 0.0010418292367830873\n",
            "152 0.0010396915022283792\n",
            "153 0.0010375672718510032\n",
            "154 0.0010354515397921205\n",
            "155 0.0010333348764106631\n",
            "156 0.0010312172817066312\n",
            "157 0.0010291053913533688\n",
            "158 0.0010270050261169672\n",
            "159 0.0010249156039208174\n",
            "160 0.0010228315368294716\n",
            "161 0.0010207488667219877\n",
            "162 0.0010186684085056186\n",
            "163 0.0010165937710553408\n",
            "164 0.0010145276319235563\n",
            "165 0.0010124669643118978\n",
            "166 0.001010409090667963\n",
            "167 0.0010083524975925684\n",
            "168 0.0010062995133921504\n",
            "169 0.0010042518842965364\n",
            "170 0.0010022100759670138\n",
            "171 0.0010001721093431115\n",
            "172 0.0009981367038562894\n",
            "173 0.000996104790829122\n",
            "174 0.0009940773015841842\n",
            "175 0.0009920552838593721\n",
            "176 0.000990038737654686\n",
            "177 0.0009880255674943328\n",
            "178 0.000986016122624278\n",
            "179 0.000984011683613062\n",
            "180 0.0009820121340453625\n",
            "181 0.000980017357505858\n",
            "182 0.0009780264226719737\n",
            "183 0.0009760395041666925\n",
            "184 0.0009740564273670316\n",
            "185 0.0009720777743496001\n",
            "186 0.0009701036615297198\n",
            "187 0.0009681337978690863\n",
            "188 0.0009661680669523776\n",
            "189 0.000964206294156611\n",
            "190 0.0009622488869354129\n",
            "191 0.0009602956124581397\n",
            "192 0.0009583469363860786\n",
            "193 0.0009564022184349597\n",
            "194 0.0009544614003971219\n",
            "195 0.0009525248897261918\n",
            "196 0.0009505927446298301\n",
            "197 0.000948664965108037\n",
            "198 0.0009467412019148469\n",
            "199 0.0009448214550502598\n",
            "200 0.0009429059573449194\n",
            "201 0.0009409947087988257\n",
            "202 0.0009390875929966569\n",
            "203 0.0009371844935230911\n",
            "204 0.0009352855267934501\n",
            "205 0.0009333904599770904\n",
            "206 0.0009314995259046555\n",
            "207 0.0009296128991991282\n",
            "208 0.0009277303470298648\n",
            "209 0.0009258519276045263\n",
            "210 0.0009239775827154517\n",
            "211 0.0009221074869856238\n",
            "212 0.0009202413493767381\n",
            "213 0.0009183794027194381\n",
            "214 0.0009165213559754193\n",
            "215 0.0009146677912212908\n",
            "216 0.0009128184174187481\n",
            "217 0.0009109729435294867\n",
            "218 0.0009091318352147937\n",
            "219 0.0009072948014363647\n",
            "220 0.0009054620168171823\n",
            "221 0.0009036334813572466\n",
            "222 0.0009018090786412358\n",
            "223 0.0008999886340461671\n",
            "224 0.0008981726714409888\n",
            "225 0.000896361016202718\n",
            "226 0.0008945534937083721\n",
            "227 0.0008927501039579511\n",
            "228 0.0008909513708204031\n",
            "229 0.0008891562465578318\n",
            "230 0.0008873658371157944\n",
            "231 0.0008855797932483256\n",
            "232 0.0008837977657094598\n",
            "233 0.000882020452991128\n",
            "234 0.0008802472148090601\n",
            "235 0.0008784784004092216\n",
            "236 0.000876713776960969\n",
            "237 0.0008749536937102675\n",
            "238 0.0008731982670724392\n",
            "239 0.0008714466821402311\n",
            "240 0.000869699870236218\n",
            "241 0.0008679574821144342\n",
            "242 0.000866219459567219\n",
            "243 0.000864486035425216\n",
            "244 0.0008627567440271378\n",
            "245 0.0008610322838649154\n",
            "246 0.0008593123639002442\n",
            "247 0.0008575968677178025\n",
            "248 0.0008558859117329121\n",
            "249 0.0008541796705685556\n",
            "250 0.0008524779113940895\n",
            "251 0.0008507808088324964\n",
            "252 0.0008490883628837764\n",
            "253 0.0008474004571326077\n",
            "254 0.000845717266201973\n",
            "255 0.0008440387318842113\n",
            "256 0.0008423650288023055\n",
            "257 0.0008406959241256118\n",
            "258 0.0008390314760617912\n",
            "259 0.0008373718592338264\n",
            "260 0.0008357171318493783\n",
            "261 0.0008340673521161079\n",
            "262 0.000832421996165067\n",
            "263 0.0008307814714498818\n",
            "264 0.000829146069008857\n",
            "265 0.000827515497803688\n",
            "266 0.0008258896414190531\n",
            "267 0.0008242687908932567\n",
            "268 0.0008226530626416206\n",
            "269 0.0008210422820411623\n",
            "270 0.0008194360416382551\n",
            "271 0.0008178352145478129\n",
            "272 0.0008162391022779047\n",
            "273 0.0008146478212438524\n",
            "274 0.0008130621281452477\n",
            "275 0.0008114810916595161\n",
            "276 0.0008099052938632667\n",
            "277 0.0008083346765488386\n",
            "278 0.0008067690650932491\n",
            "279 0.0008052084012888372\n",
            "280 0.0008036531507968903\n",
            "281 0.0008021029061637819\n",
            "282 0.000800557725597173\n",
            "283 0.000799017958343029\n",
            "284 0.0007974833133630455\n",
            "285 0.000795953965280205\n",
            "286 0.000794429739471525\n",
            "287 0.000792910810559988\n",
            "288 0.0007913971785455942\n",
            "289 0.0007898890180513263\n",
            "290 0.0007883859216235578\n",
            "291 0.0007868885295465589\n",
            "292 0.0007853962015360594\n",
            "293 0.0007839090540073812\n",
            "294 0.0007824274362064898\n",
            "295 0.0007809515227563679\n",
            "296 0.0007794807897880673\n",
            "297 0.0007780154119245708\n",
            "298 0.0007765556802041829\n",
            "299 0.0007751011871732771\n",
            "300 0.0007736522238701582\n",
            "301 0.0007722087320871651\n",
            "302 0.0007707707700319588\n",
            "303 0.0007693383959122002\n",
            "304 0.0007679115515202284\n",
            "305 0.0007664901204407215\n",
            "306 0.0007650742772966623\n",
            "307 0.0007636641385033727\n",
            "308 0.0007622597622685134\n",
            "309 0.0007608606247231364\n",
            "310 0.0007594673661515117\n",
            "311 0.0007580796955153346\n",
            "312 0.0007566976128146052\n",
            "313 0.0007553210598416626\n",
            "314 0.0007539503858424723\n",
            "315 0.0007525853579863906\n",
            "316 0.0007512260344810784\n",
            "317 0.0007498723571188748\n",
            "318 0.0007485243258997798\n",
            "319 0.0007471821154467762\n",
            "320 0.0007458457257598639\n",
            "321 0.0007445149240083992\n",
            "322 0.0007431900594383478\n",
            "323 0.0007418708992190659\n",
            "324 0.0007405575015582144\n",
            "325 0.0007392498664557934\n",
            "326 0.0007379481685347855\n",
            "327 0.0007366522331722081\n",
            "328 0.0007353621767833829\n",
            "329 0.0007340777083300054\n",
            "330 0.000732799235265702\n",
            "331 0.0007315267575904727\n",
            "332 0.0007302601006813347\n",
            "333 0.0007289990899153054\n",
            "334 0.0007277440163306892\n",
            "335 0.0007264949381351471\n",
            "336 0.0007252515642903745\n",
            "337 0.0007240144186653197\n",
            "338 0.0007227829773910344\n",
            "339 0.0007215574150905013\n",
            "340 0.0007203379645943642\n",
            "341 0.0007191241602413356\n",
            "342 0.0007179162930697203\n",
            "343 0.0007167145377025008\n",
            "344 0.0007155186031013727\n",
            "345 0.0007143286056816578\n",
            "346 0.0007131444872356951\n",
            "347 0.0007119663059711456\n",
            "348 0.0007107944111339748\n",
            "349 0.0007096279296092689\n",
            "350 0.0007084676763042808\n",
            "351 0.0007073133019730449\n",
            "352 0.0007061650394462049\n",
            "353 0.0007050225394777954\n",
            "354 0.0007038862095214427\n",
            "355 0.0007027557585388422\n",
            "356 0.0007016309536993504\n",
            "357 0.0007005123770795763\n",
            "358 0.000699399970471859\n",
            "359 0.0006982930935919285\n",
            "360 0.0006971920956857502\n",
            "361 0.0006960975006222725\n",
            "362 0.0006950085517019033\n",
            "363 0.0006939256563782692\n",
            "364 0.0006928486400283873\n",
            "365 0.0006917775608599186\n",
            "366 0.0006907123606652021\n",
            "367 0.0006896531558595598\n",
            "368 0.0006885997718200088\n",
            "369 0.0006875524413771927\n",
            "370 0.0006865108734928071\n",
            "371 0.0006854753009974957\n",
            "372 0.0006844456074759364\n",
            "373 0.0006834219675511122\n",
            "374 0.0006824040901847184\n",
            "375 0.000681391975376755\n",
            "376 0.0006803858559578657\n",
            "377 0.0006793856155127287\n",
            "378 0.0006783911376260221\n",
            "379 0.0006774024805054069\n",
            "380 0.0006764198187738657\n",
            "381 0.0006754429778084159\n",
            "382 0.0006744718994013965\n",
            "383 0.0006735065253451467\n",
            "384 0.0006725472048856318\n",
            "385 0.0006715933559462428\n",
            "386 0.0006706456188112497\n",
            "387 0.0006697032949887216\n",
            "388 0.0006687670247629285\n",
            "389 0.0006678362842649221\n",
            "390 0.0006669114227406681\n",
            "391 0.0006659922073595226\n",
            "392 0.0006650789291597903\n",
            "393 0.0006641708896495402\n",
            "394 0.0006632689037360251\n",
            "395 0.0006623724475502968\n",
            "396 0.0006614815210923553\n",
            "397 0.0006605966482311487\n",
            "398 0.0006597170140594244\n",
            "399 0.0006588432006537914\n",
            "400 0.0006579748587682843\n",
            "401 0.0006571123376488686\n",
            "402 0.0006562552298419178\n",
            "403 0.0006554035353474319\n",
            "404 0.0006545576616190374\n",
            "405 0.0006537170265801251\n",
            "406 0.0006528819794766605\n",
            "407 0.0006520525785163045\n",
            "408 0.0006512285326607525\n",
            "409 0.0006504100165329874\n",
            "410 0.0006495967973023653\n",
            "411 0.0006487889913842082\n",
            "412 0.0006479868898168206\n",
            "413 0.0006471897941082716\n",
            "414 0.000646398460958153\n",
            "415 0.000645612133666873\n",
            "416 0.0006448313943110406\n",
            "417 0.0006440557772293687\n",
            "418 0.0006432856316678226\n",
            "419 0.0006425206083804369\n",
            "420 0.0006417609401978552\n",
            "421 0.0006410066271200776\n",
            "422 0.0006402573781087995\n",
            "423 0.0006395133095793426\n",
            "424 0.000638774479739368\n",
            "425 0.0006380408303812146\n",
            "426 0.0006373124197125435\n",
            "427 0.0006365888984873891\n",
            "428 0.000635870557744056\n",
            "429 0.0006351573392748833\n",
            "430 0.0006344492430798709\n",
            "431 0.0006337463273666799\n",
            "432 0.0006330483010970056\n",
            "433 0.0006323552806861699\n",
            "434 0.0006316671497188509\n",
            "435 0.0006309840246103704\n",
            "436 0.0006303058471530676\n",
            "437 0.0006296327919699252\n",
            "438 0.0006289642187766731\n",
            "439 0.0006283009424805641\n",
            "440 0.0006276422063820064\n",
            "441 0.0006269885925576091\n",
            "442 0.0006263396935537457\n",
            "443 0.0006256953347474337\n",
            "444 0.0006250559235922992\n",
            "445 0.0006244214018806815\n",
            "446 0.0006237915367819369\n",
            "447 0.0006231664447113872\n",
            "448 0.000622545660007745\n",
            "449 0.0006219299975782633\n",
            "450 0.000621318758931011\n",
            "451 0.0006207121768966317\n",
            "452 0.000620109960436821\n",
            "453 0.000619512633420527\n",
            "454 0.0006189199048094451\n",
            "455 0.00061833142535761\n",
            "456 0.0006177474861033261\n",
            "457 0.0006171682034619153\n",
            "458 0.000616593228187412\n",
            "459 0.0006160229677334428\n",
            "460 0.0006154566654004157\n",
            "461 0.0006148950778879225\n",
            "462 0.0006143377395346761\n",
            "463 0.000613784824963659\n",
            "464 0.0006132361013442278\n",
            "465 0.000612691801507026\n",
            "466 0.0006121517508290708\n",
            "467 0.0006116159493103623\n",
            "468 0.0006110842223279178\n",
            "469 0.0006105568609200418\n",
            "470 0.0006100336904637516\n",
            "471 0.000609514769166708\n",
            "472 0.0006089996895752847\n",
            "473 0.0006084890337660909\n",
            "474 0.0006079821032471955\n",
            "475 0.0006074795383028686\n",
            "476 0.0006069808732718229\n",
            "477 0.000606486399192363\n",
            "478 0.0006059958250261843\n",
            "479 0.0006055090925656259\n",
            "480 0.0006050264928489923\n",
            "481 0.0006045478512533009\n",
            "482 0.0006040728185325861\n",
            "483 0.0006036019185557961\n",
            "484 0.0006031345692463219\n",
            "485 0.0006026715273037553\n",
            "486 0.0006022120360285044\n",
            "487 0.000601756211835891\n",
            "488 0.0006013042875565588\n",
            "489 0.0006008562631905079\n",
            "490 0.0006004117312841117\n",
            "491 0.0005999706336297095\n",
            "492 0.0005995336687192321\n",
            "493 0.0005991000798530877\n",
            "494 0.0005986702162772417\n",
            "495 0.0005982439033687115\n",
            "496 0.000597821141127497\n",
            "497 0.0005974019295535982\n",
            "498 0.0005969862104393542\n",
            "499 0.0005965742166154087\n"
          ],
          "name": "stdout"
        }
      ]
    },
    {
      "cell_type": "code",
      "metadata": {
        "colab": {
          "base_uri": "https://localhost:8080/",
          "height": 265
        },
        "id": "wtJjH1C-d7Yb",
        "outputId": "37b00144-4467-470f-d2a2-943f380e5f09"
      },
      "source": [
        "plt.plot(test_y)\n",
        "plt.plot(net(test_X_tensor).data.numpy())\n",
        "plt.legend(['org', 'pred'])\n",
        "plt.show()"
      ],
      "execution_count": 14,
      "outputs": [
        {
          "output_type": "display_data",
          "data": {
            "image/png": "[encoded data removed]",
            "text/plain": [
              "<Figure size 432x288 with 1 Axes>"
            ]
          },
          "metadata": {
            "tags": [],
            "needs_background": "light"
          }
        }
      ]
    },
    {
      "cell_type": "code",
      "metadata": {
        "id": "KIJaiEi-DXCM"
      },
      "source": [
        "import tensorflow as tf\n",
        "import keras"
      ],
      "execution_count": 15,
      "outputs": []
    },
    {
      "cell_type": "code",
      "metadata": {
        "colab": {
          "base_uri": "https://localhost:8080/"
        },
        "id": "EZiSkYGCDY8X",
        "outputId": "cf729650-8cc6-40db-ff64-ef13bc8fed03"
      },
      "source": [
        "# 파이토치로 tensor 배열 만들어 가설(사용자 정의 식)에 적용하기.\n",
        "\n",
        "x = torch.FloatTensor([-1.8, 0.6, 1.0])\n",
        "w = torch.FloatTensor([2])\n",
        "b = torch.FloatTensor([3])\n",
        "z = w * x + b\n",
        "\n",
        "print(x, w, b, z)"
      ],
      "execution_count": 23,
      "outputs": [
        {
          "output_type": "stream",
          "text": [
            "tensor([-1.8000,  0.6000,  1.0000]) tensor([2.]) tensor([3.]) tensor([-0.6000,  4.2000,  5.0000])\n"
          ],
          "name": "stdout"
        }
      ]
    },
    {
      "cell_type": "code",
      "metadata": {
        "colab": {
          "base_uri": "https://localhost:8080/"
        },
        "id": "zjnEV01UIeO2",
        "outputId": "821f100e-8993-4c01-8ab8-95dd645bd388"
      },
      "source": [
        "# Tensorflow로 tensor 배열 만들어 가설(사용자 정의 식)에 적용하기.\n",
        "# tensorflow 1.0 스타일\n",
        "\n",
        "# 그래프 설계 마침.(앞으로 무엇을 할 것이다 라는 것)\n",
        "g = tf.Graph()\n",
        "with g.as_default():\n",
        "  x = tf.compat.v1.placeholder(dtype = tf.float32, shape = (None), name = \"x\")\n",
        "  w = tf.Variable(2.0, name = \"weight\")\n",
        "  b = tf.Variable(3.0, name = \"bias\")\n",
        "  z = w * x + b\n",
        "  init = tf.compat.v1.global_variables_initializer()\n",
        "\n",
        "# 세션 만들기(실행 코드)\n",
        "with tf.compat.v1.Session(graph=g) as sess:\n",
        "  sess.run(init)\n",
        "  for t in [-1.8, 0.6, 1.0]:\n",
        "    print(t, sess.run(z, feed_dict = {x:t}))"
      ],
      "execution_count": 22,
      "outputs": [
        {
          "output_type": "stream",
          "text": [
            "-1.8 -0.5999999\n",
            "0.6 4.2\n",
            "1.0 5.0\n"
          ],
          "name": "stdout"
        }
      ]
    },
    {
      "cell_type": "code",
      "metadata": {
        "colab": {
          "base_uri": "https://localhost:8080/"
        },
        "id": "WSUfP_7zJ1Mr",
        "outputId": "e27cd36d-0bd4-4c58-d069-f254f09b1a61"
      },
      "source": [
        "# tensorflow 2 스타일\n",
        "\n",
        "w = tf.Variable(2.0, name = \"weight\")\n",
        "b = tf.Variable(3.0, name = \"bias\")\n",
        "\n",
        "for x in [-1.8, 0.6, 1.0]:\n",
        "  z = w * x + b\n",
        "  print(x, z)"
      ],
      "execution_count": 24,
      "outputs": [
        {
          "output_type": "stream",
          "text": [
            "-1.8 tf.Tensor(-0.5999999, shape=(), dtype=float32)\n",
            "0.6 tf.Tensor(4.2, shape=(), dtype=float32)\n",
            "1.0 tf.Tensor(5.0, shape=(), dtype=float32)\n"
          ],
          "name": "stdout"
        }
      ]
    },
    {
      "cell_type": "code",
      "metadata": {
        "colab": {
          "base_uri": "https://localhost:8080/"
        },
        "id": "8XPZjtcaM5Lz",
        "outputId": "2c2e7336-81ef-45da-821f-14ca88b9926e"
      },
      "source": [
        "# tensorflow2 극단적으로 간결화된 코드.\n",
        "\n",
        "w = tf.Variable(2.0, name = \"weight\")\n",
        "b = tf.Variable(3.0, name = \"bias\")\n",
        "\n",
        "z = w * [-1.8, 0.6, 1.0] + b\n",
        "print(z)"
      ],
      "execution_count": 25,
      "outputs": [
        {
          "output_type": "stream",
          "text": [
            "tf.Tensor([-0.5999999  4.2        5.       ], shape=(3,), dtype=float32)\n"
          ],
          "name": "stdout"
        }
      ]
    },
    {
      "cell_type": "code",
      "metadata": {
        "id": "pd73PicmNNs0"
      },
      "source": [
        "class TfLinearRegressor():\n",
        "  def __init__(self, learning_rate = 0.01):\n",
        "    self.w = tf.Variable(tf.zeros(shape=(1)))\n",
        "    self.b = tf.Variable(tf.zeros(shape=(1)))\n",
        "    self.optimizer = tf.keras.optimizers.SGD(lr=learning_rate)\n",
        "\n",
        "  def fit(self, X, y, num_epochs=10):\n",
        "    costs = []\n",
        "    for step in range(num_epochs):\n",
        "      with tf.GradientTape() as tape:\n",
        "        z_net = self.w*X+self.b\n",
        "        z_net = tf.reshape(z_net, [-1])\n",
        "        sqr_errors = tf.square(y-z_net)\n",
        "        mean_cost = tf.reduce_mean(sqr_errors)\n",
        "      \n",
        "      grads = tape.gradient(mean_cost, [self.w, self.b])\n",
        "      self.optimizer.apply_gradients(zip(grads, [self.w, self.b]))\n",
        "      costs.append(mean_cost.numpy())\n",
        "    return costs\n",
        "\n",
        "  def predict(self, X):\n",
        "    return self.w * X + self.b\n"
      ],
      "execution_count": 34,
      "outputs": []
    },
    {
      "cell_type": "code",
      "metadata": {
        "colab": {
          "base_uri": "https://localhost:8080/"
        },
        "id": "fEax02DqVIez",
        "outputId": "3a279a7a-59f0-4802-9c7c-cf60f875dbf5"
      },
      "source": [
        "lr_model = TfLinearRegressor()"
      ],
      "execution_count": 35,
      "outputs": [
        {
          "output_type": "stream",
          "text": [
            "/usr/local/lib/python3.7/dist-packages/tensorflow/python/keras/optimizer_v2/optimizer_v2.py:375: UserWarning: The `lr` argument is deprecated, use `learning_rate` instead.\n",
            "  \"The `lr` argument is deprecated, use `learning_rate` instead.\")\n"
          ],
          "name": "stderr"
        }
      ]
    },
    {
      "cell_type": "code",
      "metadata": {
        "id": "YIiYbP5CVhCh"
      },
      "source": [
        "X_train = np.arange(10).reshape((10,1))\n",
        "y_train = np.array([1.0, 1.3, 3.1, 2.0, 5.0, 6.3, 6.6, 7.4, 8.0, 9.0])"
      ],
      "execution_count": 36,
      "outputs": []
    },
    {
      "cell_type": "code",
      "metadata": {
        "id": "kOLTkekCV0K5"
      },
      "source": [
        "train_costs = lr_model.fit(X_train, y_train)"
      ],
      "execution_count": 37,
      "outputs": []
    },
    {
      "cell_type": "code",
      "metadata": {
        "colab": {
          "base_uri": "https://localhost:8080/",
          "height": 282
        },
        "id": "POaaCpfDWSGW",
        "outputId": "df7b6b98-54fa-4263-addf-3c1a28fd4a69"
      },
      "source": [
        "plt.plot(range(1, 11), train_costs)"
      ],
      "execution_count": 38,
      "outputs": [
        {
          "output_type": "execute_result",
          "data": {
            "text/plain": [
              "[<matplotlib.lines.Line2D at 0x7f3eff1c6a10>]"
            ]
          },
          "metadata": {
            "tags": []
          },
          "execution_count": 38
        },
        {
          "output_type": "display_data",
          "data": {
            "image/png": "[encoded data removed]",
            "text/plain": [
              "<Figure size 432x288 with 1 Axes>"
            ]
          },
          "metadata": {
            "tags": [],
            "needs_background": "light"
          }
        }
      ]
    },
    {
      "cell_type": "code",
      "metadata": {
        "id": "hAhNMHIfWff_"
      },
      "source": [
        ""
      ],
      "execution_count": null,
      "outputs": []
    }
  ]
}