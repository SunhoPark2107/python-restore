{
 "cells": [
  {
   "cell_type": "code",
   "execution_count": 1,
   "id": "4622b8fa",
   "metadata": {},
   "outputs": [],
   "source": [
    "import pandas as pd\n",
    "import numpy as np\n",
    "import matplotlib.pyplot as plt\n",
    "import mglearn"
   ]
  },
  {
   "cell_type": "code",
   "execution_count": 2,
   "id": "42220f5b",
   "metadata": {},
   "outputs": [],
   "source": [
    "df = pd.read_excel('Dry_Bean_Dataset.xlsx', header=0)"
   ]
  },
  {
   "cell_type": "code",
   "execution_count": 3,
   "id": "3a715317",
   "metadata": {
    "scrolled": false
   },
   "outputs": [
    {
     "data": {
      "text/html": [
       "<div>\n",
       "<style scoped>\n",
       "    .dataframe tbody tr th:only-of-type {\n",
       "        vertical-align: middle;\n",
       "    }\n",
       "\n",
       "    .dataframe tbody tr th {\n",
       "        vertical-align: top;\n",
       "    }\n",
       "\n",
       "    .dataframe thead th {\n",
       "        text-align: right;\n",
       "    }\n",
       "</style>\n",
       "<table border=\"1\" class=\"dataframe\">\n",
       "  <thead>\n",
       "    <tr style=\"text-align: right;\">\n",
       "      <th></th>\n",
       "      <th>Area</th>\n",
       "      <th>Perimeter</th>\n",
       "      <th>MajorAxisLength</th>\n",
       "      <th>MinorAxisLength</th>\n",
       "      <th>AspectRation</th>\n",
       "      <th>Eccentricity</th>\n",
       "      <th>ConvexArea</th>\n",
       "      <th>EquivDiameter</th>\n",
       "      <th>Extent</th>\n",
       "      <th>Solidity</th>\n",
       "      <th>roundness</th>\n",
       "      <th>Compactness</th>\n",
       "      <th>ShapeFactor1</th>\n",
       "      <th>ShapeFactor2</th>\n",
       "      <th>ShapeFactor3</th>\n",
       "      <th>ShapeFactor4</th>\n",
       "      <th>Class</th>\n",
       "    </tr>\n",
       "  </thead>\n",
       "  <tbody>\n",
       "    <tr>\n",
       "      <th>0</th>\n",
       "      <td>28395</td>\n",
       "      <td>610.291</td>\n",
       "      <td>208.178117</td>\n",
       "      <td>173.888747</td>\n",
       "      <td>1.197191</td>\n",
       "      <td>0.549812</td>\n",
       "      <td>28715</td>\n",
       "      <td>190.141097</td>\n",
       "      <td>0.763923</td>\n",
       "      <td>0.988856</td>\n",
       "      <td>0.958027</td>\n",
       "      <td>0.913358</td>\n",
       "      <td>0.007332</td>\n",
       "      <td>0.003147</td>\n",
       "      <td>0.834222</td>\n",
       "      <td>0.998724</td>\n",
       "      <td>SEKER</td>\n",
       "    </tr>\n",
       "    <tr>\n",
       "      <th>1</th>\n",
       "      <td>28734</td>\n",
       "      <td>638.018</td>\n",
       "      <td>200.524796</td>\n",
       "      <td>182.734419</td>\n",
       "      <td>1.097356</td>\n",
       "      <td>0.411785</td>\n",
       "      <td>29172</td>\n",
       "      <td>191.272750</td>\n",
       "      <td>0.783968</td>\n",
       "      <td>0.984986</td>\n",
       "      <td>0.887034</td>\n",
       "      <td>0.953861</td>\n",
       "      <td>0.006979</td>\n",
       "      <td>0.003564</td>\n",
       "      <td>0.909851</td>\n",
       "      <td>0.998430</td>\n",
       "      <td>SEKER</td>\n",
       "    </tr>\n",
       "    <tr>\n",
       "      <th>2</th>\n",
       "      <td>29380</td>\n",
       "      <td>624.110</td>\n",
       "      <td>212.826130</td>\n",
       "      <td>175.931143</td>\n",
       "      <td>1.209713</td>\n",
       "      <td>0.562727</td>\n",
       "      <td>29690</td>\n",
       "      <td>193.410904</td>\n",
       "      <td>0.778113</td>\n",
       "      <td>0.989559</td>\n",
       "      <td>0.947849</td>\n",
       "      <td>0.908774</td>\n",
       "      <td>0.007244</td>\n",
       "      <td>0.003048</td>\n",
       "      <td>0.825871</td>\n",
       "      <td>0.999066</td>\n",
       "      <td>SEKER</td>\n",
       "    </tr>\n",
       "    <tr>\n",
       "      <th>3</th>\n",
       "      <td>30008</td>\n",
       "      <td>645.884</td>\n",
       "      <td>210.557999</td>\n",
       "      <td>182.516516</td>\n",
       "      <td>1.153638</td>\n",
       "      <td>0.498616</td>\n",
       "      <td>30724</td>\n",
       "      <td>195.467062</td>\n",
       "      <td>0.782681</td>\n",
       "      <td>0.976696</td>\n",
       "      <td>0.903936</td>\n",
       "      <td>0.928329</td>\n",
       "      <td>0.007017</td>\n",
       "      <td>0.003215</td>\n",
       "      <td>0.861794</td>\n",
       "      <td>0.994199</td>\n",
       "      <td>SEKER</td>\n",
       "    </tr>\n",
       "    <tr>\n",
       "      <th>4</th>\n",
       "      <td>30140</td>\n",
       "      <td>620.134</td>\n",
       "      <td>201.847882</td>\n",
       "      <td>190.279279</td>\n",
       "      <td>1.060798</td>\n",
       "      <td>0.333680</td>\n",
       "      <td>30417</td>\n",
       "      <td>195.896503</td>\n",
       "      <td>0.773098</td>\n",
       "      <td>0.990893</td>\n",
       "      <td>0.984877</td>\n",
       "      <td>0.970516</td>\n",
       "      <td>0.006697</td>\n",
       "      <td>0.003665</td>\n",
       "      <td>0.941900</td>\n",
       "      <td>0.999166</td>\n",
       "      <td>SEKER</td>\n",
       "    </tr>\n",
       "  </tbody>\n",
       "</table>\n",
       "</div>"
      ],
      "text/plain": [
       "    Area  Perimeter  MajorAxisLength  MinorAxisLength  AspectRation  \\\n",
       "0  28395    610.291       208.178117       173.888747      1.197191   \n",
       "1  28734    638.018       200.524796       182.734419      1.097356   \n",
       "2  29380    624.110       212.826130       175.931143      1.209713   \n",
       "3  30008    645.884       210.557999       182.516516      1.153638   \n",
       "4  30140    620.134       201.847882       190.279279      1.060798   \n",
       "\n",
       "   Eccentricity  ConvexArea  EquivDiameter    Extent  Solidity  roundness  \\\n",
       "0      0.549812       28715     190.141097  0.763923  0.988856   0.958027   \n",
       "1      0.411785       29172     191.272750  0.783968  0.984986   0.887034   \n",
       "2      0.562727       29690     193.410904  0.778113  0.989559   0.947849   \n",
       "3      0.498616       30724     195.467062  0.782681  0.976696   0.903936   \n",
       "4      0.333680       30417     195.896503  0.773098  0.990893   0.984877   \n",
       "\n",
       "   Compactness  ShapeFactor1  ShapeFactor2  ShapeFactor3  ShapeFactor4  Class  \n",
       "0     0.913358      0.007332      0.003147      0.834222      0.998724  SEKER  \n",
       "1     0.953861      0.006979      0.003564      0.909851      0.998430  SEKER  \n",
       "2     0.908774      0.007244      0.003048      0.825871      0.999066  SEKER  \n",
       "3     0.928329      0.007017      0.003215      0.861794      0.994199  SEKER  \n",
       "4     0.970516      0.006697      0.003665      0.941900      0.999166  SEKER  "
      ]
     },
     "execution_count": 3,
     "metadata": {},
     "output_type": "execute_result"
    }
   ],
   "source": [
    "df.head()"
   ]
  },
  {
   "cell_type": "code",
   "execution_count": null,
   "id": "e79c98f2",
   "metadata": {},
   "outputs": [],
   "source": []
  },
  {
   "cell_type": "code",
   "execution_count": 4,
   "id": "98c137f6",
   "metadata": {},
   "outputs": [],
   "source": [
    "X = df.iloc[:, 0:16]\n",
    "y = df.iloc[:, 16]"
   ]
  },
  {
   "cell_type": "code",
   "execution_count": 5,
   "id": "68c7b07d",
   "metadata": {
    "scrolled": true
   },
   "outputs": [
    {
     "name": "stdout",
     "output_type": "stream",
     "text": [
      "(13611, 16) (13611,)\n"
     ]
    }
   ],
   "source": [
    "print(X.shape, y.shape)"
   ]
  },
  {
   "cell_type": "code",
   "execution_count": 6,
   "id": "03e4cc1a",
   "metadata": {},
   "outputs": [],
   "source": [
    "from sklearn.model_selection import train_test_split\n",
    "\n",
    "X_train, X_test, y_train, y_test = train_test_split(X, y, random_state=0)"
   ]
  },
  {
   "cell_type": "code",
   "execution_count": 7,
   "id": "50069bbe",
   "metadata": {},
   "outputs": [
    {
     "name": "stdout",
     "output_type": "stream",
     "text": [
      "<class 'pandas.core.frame.DataFrame'>\n",
      "RangeIndex: 13611 entries, 0 to 13610\n",
      "Data columns (total 17 columns):\n",
      " #   Column           Non-Null Count  Dtype  \n",
      "---  ------           --------------  -----  \n",
      " 0   Area             13611 non-null  int64  \n",
      " 1   Perimeter        13611 non-null  float64\n",
      " 2   MajorAxisLength  13611 non-null  float64\n",
      " 3   MinorAxisLength  13611 non-null  float64\n",
      " 4   AspectRation     13611 non-null  float64\n",
      " 5   Eccentricity     13611 non-null  float64\n",
      " 6   ConvexArea       13611 non-null  int64  \n",
      " 7   EquivDiameter    13611 non-null  float64\n",
      " 8   Extent           13611 non-null  float64\n",
      " 9   Solidity         13611 non-null  float64\n",
      " 10  roundness        13611 non-null  float64\n",
      " 11  Compactness      13611 non-null  float64\n",
      " 12  ShapeFactor1     13611 non-null  float64\n",
      " 13  ShapeFactor2     13611 non-null  float64\n",
      " 14  ShapeFactor3     13611 non-null  float64\n",
      " 15  ShapeFactor4     13611 non-null  float64\n",
      " 16  Class            13611 non-null  object \n",
      "dtypes: float64(14), int64(2), object(1)\n",
      "memory usage: 1.8+ MB\n"
     ]
    }
   ],
   "source": [
    "df.info()"
   ]
  },
  {
   "cell_type": "code",
   "execution_count": 8,
   "id": "35bf20b8",
   "metadata": {},
   "outputs": [
    {
     "name": "stdout",
     "output_type": "stream",
     "text": [
      "train set score is 1.000\n",
      "test set score is 0.928\n"
     ]
    }
   ],
   "source": [
    "# 랜덤포레스트\n",
    "\n",
    "from sklearn.ensemble import RandomForestClassifier\n",
    "forest = RandomForestClassifier(n_estimators = 300, random_state = 0)\n",
    "forest.fit(X_train, y_train)\n",
    "print(\"train set score is {:.3f}\".format(forest.score(X_train, y_train)))\n",
    "print(\"test set score is {:.3f}\".format(forest.score(X_test, y_test)))"
   ]
  },
  {
   "cell_type": "code",
   "execution_count": 9,
   "id": "b9ddc60a",
   "metadata": {},
   "outputs": [
    {
     "name": "stdout",
     "output_type": "stream",
     "text": [
      "1 번째 score: 0.552\n",
      "2 번째 score: 0.811\n",
      "3 번째 score: 0.912\n",
      "4 번째 score: 0.908\n",
      "5 번째 score: 0.910\n",
      "6 번째 score: 0.906\n",
      "7 번째 score: 0.906\n",
      "8 번째 score: 0.909\n",
      "9 번째 score: 0.912\n",
      "10 번째 score: 0.913\n",
      "11 번째 score: 0.919\n",
      "12 번째 score: 0.921\n",
      "13 번째 score: 0.918\n",
      "14 번째 score: 0.917\n",
      "15 번째 score: 0.918\n",
      "16 번째 score: 0.928\n"
     ]
    }
   ],
   "source": [
    "# 변수의 개수를 하나씩 늘려나가면서 정확도 체크.\n",
    "\n",
    "for i in range(1,17):\n",
    "    X = df.iloc[:, 0:i]\n",
    "    y = df.iloc[:, 16]\n",
    "    \n",
    "    X_train, X_test, y_train, y_test = train_test_split(X, y, random_state=0)\n",
    "    \n",
    "    forest = RandomForestClassifier(n_estimators = 300, random_state = 0)\n",
    "    forest.fit(X_train, y_train)\n",
    "    \n",
    "    print(i, \"개 특성을 적용한 score: {:.3f}\".format(forest.score(X_test, y_test)))"
   ]
  },
  {
   "cell_type": "code",
   "execution_count": 10,
   "id": "72ae96ea",
   "metadata": {},
   "outputs": [],
   "source": [
    "bean_features = ['Area', 'Perimeter', 'MajorAxisLength', 'MinorAxisLength',\n",
    "       'AspectRation', 'Eccentricity', 'ConvexArea', 'EquivDiameter', 'Extent',\n",
    "       'Solidity', 'roundness', 'Compactness', 'ShapeFactor1', 'ShapeFactor2',\n",
    "       'ShapeFactor3', 'ShapeFactor4']"
   ]
  },
  {
   "cell_type": "code",
   "execution_count": 11,
   "id": "7b9e5407",
   "metadata": {
    "scrolled": false
   },
   "outputs": [
    {
     "data": {
      "text/html": [
       "<div>\n",
       "<style scoped>\n",
       "    .dataframe tbody tr th:only-of-type {\n",
       "        vertical-align: middle;\n",
       "    }\n",
       "\n",
       "    .dataframe tbody tr th {\n",
       "        vertical-align: top;\n",
       "    }\n",
       "\n",
       "    .dataframe thead th {\n",
       "        text-align: right;\n",
       "    }\n",
       "</style>\n",
       "<table border=\"1\" class=\"dataframe\">\n",
       "  <thead>\n",
       "    <tr style=\"text-align: right;\">\n",
       "      <th></th>\n",
       "      <th>names</th>\n",
       "      <th>importances</th>\n",
       "    </tr>\n",
       "  </thead>\n",
       "  <tbody>\n",
       "    <tr>\n",
       "      <th>1</th>\n",
       "      <td>Perimeter</td>\n",
       "      <td>0.102213</td>\n",
       "    </tr>\n",
       "    <tr>\n",
       "      <th>11</th>\n",
       "      <td>Compactness</td>\n",
       "      <td>0.095659</td>\n",
       "    </tr>\n",
       "    <tr>\n",
       "      <th>14</th>\n",
       "      <td>ShapeFactor3</td>\n",
       "      <td>0.092025</td>\n",
       "    </tr>\n",
       "    <tr>\n",
       "      <th>12</th>\n",
       "      <td>ShapeFactor1</td>\n",
       "      <td>0.084373</td>\n",
       "    </tr>\n",
       "    <tr>\n",
       "      <th>3</th>\n",
       "      <td>MinorAxisLength</td>\n",
       "      <td>0.076437</td>\n",
       "    </tr>\n",
       "    <tr>\n",
       "      <th>6</th>\n",
       "      <td>ConvexArea</td>\n",
       "      <td>0.075140</td>\n",
       "    </tr>\n",
       "    <tr>\n",
       "      <th>2</th>\n",
       "      <td>MajorAxisLength</td>\n",
       "      <td>0.073836</td>\n",
       "    </tr>\n",
       "    <tr>\n",
       "      <th>4</th>\n",
       "      <td>AspectRation</td>\n",
       "      <td>0.066941</td>\n",
       "    </tr>\n",
       "    <tr>\n",
       "      <th>5</th>\n",
       "      <td>Eccentricity</td>\n",
       "      <td>0.066352</td>\n",
       "    </tr>\n",
       "    <tr>\n",
       "      <th>7</th>\n",
       "      <td>EquivDiameter</td>\n",
       "      <td>0.057410</td>\n",
       "    </tr>\n",
       "    <tr>\n",
       "      <th>10</th>\n",
       "      <td>roundness</td>\n",
       "      <td>0.055070</td>\n",
       "    </tr>\n",
       "    <tr>\n",
       "      <th>0</th>\n",
       "      <td>Area</td>\n",
       "      <td>0.054538</td>\n",
       "    </tr>\n",
       "    <tr>\n",
       "      <th>13</th>\n",
       "      <td>ShapeFactor2</td>\n",
       "      <td>0.038128</td>\n",
       "    </tr>\n",
       "    <tr>\n",
       "      <th>15</th>\n",
       "      <td>ShapeFactor4</td>\n",
       "      <td>0.031449</td>\n",
       "    </tr>\n",
       "    <tr>\n",
       "      <th>9</th>\n",
       "      <td>Solidity</td>\n",
       "      <td>0.018808</td>\n",
       "    </tr>\n",
       "    <tr>\n",
       "      <th>8</th>\n",
       "      <td>Extent</td>\n",
       "      <td>0.011623</td>\n",
       "    </tr>\n",
       "  </tbody>\n",
       "</table>\n",
       "</div>"
      ],
      "text/plain": [
       "              names  importances\n",
       "1         Perimeter     0.102213\n",
       "11      Compactness     0.095659\n",
       "14     ShapeFactor3     0.092025\n",
       "12     ShapeFactor1     0.084373\n",
       "3   MinorAxisLength     0.076437\n",
       "6        ConvexArea     0.075140\n",
       "2   MajorAxisLength     0.073836\n",
       "4      AspectRation     0.066941\n",
       "5      Eccentricity     0.066352\n",
       "7     EquivDiameter     0.057410\n",
       "10        roundness     0.055070\n",
       "0              Area     0.054538\n",
       "13     ShapeFactor2     0.038128\n",
       "15     ShapeFactor4     0.031449\n",
       "9          Solidity     0.018808\n",
       "8            Extent     0.011623"
      ]
     },
     "execution_count": 11,
     "metadata": {},
     "output_type": "execute_result"
    }
   ],
   "source": [
    "feature_names = pd.DataFrame(bean_features)\n",
    "feature_importances = pd.DataFrame(forest.feature_importances_)\n",
    "feature_im = pd.concat([feature_names, feature_importances], axis=1)\n",
    "feature_im.columns = ['names', 'importances']\n",
    "feature_im['importances'].sort_values()\n",
    "feature_im = feature_im.sort_values('importances', ascending =False)\n",
    "feature_im"
   ]
  },
  {
   "cell_type": "code",
   "execution_count": 12,
   "id": "7fe792ba",
   "metadata": {
    "scrolled": true
   },
   "outputs": [],
   "source": [
    "bean_features_sorted = feature_im['names'].to_list()"
   ]
  },
  {
   "cell_type": "code",
   "execution_count": 13,
   "id": "9fe3a9de",
   "metadata": {
    "scrolled": false
   },
   "outputs": [
    {
     "data": {
      "image/png": "[encoded data removed]",
      "text/plain": [
       "<Figure size 432x288 with 1 Axes>"
      ]
     },
     "metadata": {
      "needs_background": "light"
     },
     "output_type": "display_data"
    }
   ],
   "source": [
    "# 특성 중요도 알아보기.\n",
    "\n",
    "def plot_feature_importances_beans(model):\n",
    "    n_features = X_train.shape[1]\n",
    "    plt.barh(np.arange(n_features), np.sort(model.feature_importances_)[::-1], align = 'center')\n",
    "    plt.yticks(np.arange(n_features), bean_features_sorted)\n",
    "    plt.xlabel(\"feature importances\")\n",
    "    plt.ylabel(\"features\")\n",
    "    plt.ylim(-1, n_features)\n",
    "    \n",
    "plot_feature_importances_beans(forest)"
   ]
  },
  {
   "cell_type": "code",
   "execution_count": 14,
   "id": "0a4b316a",
   "metadata": {},
   "outputs": [
    {
     "data": {
      "text/plain": [
       "['Area', 'ShapeFactor2', 'ShapeFactor4', 'Solidity', 'Extent']"
      ]
     },
     "execution_count": 14,
     "metadata": {},
     "output_type": "execute_result"
    }
   ],
   "source": [
    "# 특성 중요도가 낮은 5개 항목 제거\n",
    "bean_features_bottom_5 = feature_im['names'].tail(5)\n",
    "bean_features_bottom_5 = bean_features_bottom_5.to_list()\n",
    "bean_features_bottom_5"
   ]
  },
  {
   "cell_type": "code",
   "execution_count": 15,
   "id": "e8738a1d",
   "metadata": {},
   "outputs": [
    {
     "name": "stdout",
     "output_type": "stream",
     "text": [
      "drop 5 features model score is 0.916\n"
     ]
    }
   ],
   "source": [
    "X_drop_5 = X.drop(bean_features_bottom_5, axis = 1)\n",
    "\n",
    "X_train, X_test, y_train, y_test = train_test_split(X_drop_5, y, random_state=0)\n",
    "\n",
    "# 랜덤포레스트 모델 실행\n",
    "forest = RandomForestClassifier(n_estimators = 300, random_state = 0)\n",
    "forest.fit(X_train, y_train)\n",
    "print(\"drop 5 features model score is {:.3f}\".format(forest.score(X_test, y_test)))"
   ]
  },
  {
   "cell_type": "code",
   "execution_count": 19,
   "id": "f62331d5",
   "metadata": {
    "scrolled": true
   },
   "outputs": [
    {
     "name": "stdout",
     "output_type": "stream",
     "text": [
      "0 개의 중요도 하위 특성을 제거한 score: 0.928\n",
      "1 개의 중요도 하위 특성을 제거한 score: 0.923\n",
      "2 개의 중요도 하위 특성을 제거한 score: 0.924\n",
      "3 개의 중요도 하위 특성을 제거한 score: 0.916\n",
      "4 개의 중요도 하위 특성을 제거한 score: 0.915\n",
      "5 개의 중요도 하위 특성을 제거한 score: 0.916\n",
      "6 개의 중요도 하위 특성을 제거한 score: 0.910\n",
      "7 개의 중요도 하위 특성을 제거한 score: 0.907\n",
      "8 개의 중요도 하위 특성을 제거한 score: 0.909\n",
      "9 개의 중요도 하위 특성을 제거한 score: 0.909\n",
      "10 개의 중요도 하위 특성을 제거한 score: 0.909\n",
      "11 개의 중요도 하위 특성을 제거한 score: 0.909\n",
      "12 개의 중요도 하위 특성을 제거한 score: 0.905\n",
      "13 개의 중요도 하위 특성을 제거한 score: 0.881\n",
      "14 개의 중요도 하위 특성을 제거한 score: 0.884\n",
      "15 개의 중요도 하위 특성을 제거한 score: 0.548\n"
     ]
    }
   ],
   "source": [
    "# 특성 중요도가 낮은 순서로 차례차례 제거\n",
    "\n",
    "for i in range(16):\n",
    "    bean_features_bottom = feature_im['names'].tail(i)\n",
    "    bean_features_bottom = bean_features_bottom.to_list()\n",
    "    \n",
    "    X_drop = X.drop(bean_features_bottom, axis = 1)\n",
    "    \n",
    "    X_train, X_test, y_train, y_test = train_test_split(X_drop, y, random_state=0)\n",
    "    \n",
    "    forest = RandomForestClassifier(n_estimators = 300, random_state = 0)\n",
    "    forest.fit(X_train, y_train)\n",
    "    \n",
    "    print(i, \"개의 중요도 하위 특성을 제거한 score: {:.3f}\".format(forest.score(X_test, y_test)))"
   ]
  },
  {
   "cell_type": "code",
   "execution_count": 20,
   "id": "50bc66b3",
   "metadata": {},
   "outputs": [
    {
     "name": "stdout",
     "output_type": "stream",
     "text": [
      "1 개 특성을 무작위로 제거한 score: 0.928\n",
      "2 개 특성을 무작위로 제거한 score: 0.918\n",
      "3 개 특성을 무작위로 제거한 score: 0.917\n",
      "4 개 특성을 무작위로 제거한 score: 0.918\n",
      "5 개 특성을 무작위로 제거한 score: 0.921\n",
      "6 개 특성을 무작위로 제거한 score: 0.919\n",
      "7 개 특성을 무작위로 제거한 score: 0.913\n",
      "8 개 특성을 무작위로 제거한 score: 0.912\n",
      "9 개 특성을 무작위로 제거한 score: 0.909\n",
      "10 개 특성을 무작위로 제거한 score: 0.906\n",
      "11 개 특성을 무작위로 제거한 score: 0.906\n",
      "12 개 특성을 무작위로 제거한 score: 0.910\n",
      "13 개 특성을 무작위로 제거한 score: 0.908\n",
      "14 개 특성을 무작위로 제거한 score: 0.912\n",
      "15 개 특성을 무작위로 제거한 score: 0.811\n",
      "16 개 특성을 무작위로 제거한 score: 0.552\n"
     ]
    }
   ],
   "source": [
    "for i in range(1,17):\n",
    "    X = df.iloc[:, 0:17-i]\n",
    "    y = df.iloc[:, 16]\n",
    "    \n",
    "    X_train, X_test, y_train, y_test = train_test_split(X, y, random_state=0)\n",
    "    \n",
    "    forest = RandomForestClassifier(n_estimators = 300, random_state = 0)\n",
    "    forest.fit(X_train, y_train)\n",
    "    \n",
    "    print(i-1, \"개 특성을 무작위로 제거한 score: {:.3f}\".format(forest.score(X_test, y_test)))"
   ]
  },
  {
   "cell_type": "code",
   "execution_count": null,
   "id": "e19cfb55",
   "metadata": {},
   "outputs": [],
   "source": []
  }
 ],
 "metadata": {
  "kernelspec": {
   "display_name": "Python 3",
   "language": "python",
   "name": "python3"
  },
  "language_info": {
   "codemirror_mode": {
    "name": "ipython",
    "version": 3
   },
   "file_extension": ".py",
   "mimetype": "text/x-python",
   "name": "python",
   "nbconvert_exporter": "python",
   "pygments_lexer": "ipython3",
   "version": "3.8.8"
  }
 },
 "nbformat": 4,
 "nbformat_minor": 5
}
