{
 "cells": [
  {
   "cell_type": "code",
   "execution_count": null,
   "id": "700c9542",
   "metadata": {},
   "outputs": [],
   "source": [
    "# 코드가 이것저것 추가하다보니 조금 이상해졌는데... ㅠㅠ 수정할 시간이 없어서 그냥 올립니다 ㅠ"
   ]
  },
  {
   "cell_type": "code",
   "execution_count": 59,
   "id": "4622b8fa",
   "metadata": {},
   "outputs": [],
   "source": [
    "import pandas as pd\n",
    "import numpy as np\n",
    "import matplotlib.pyplot as plt\n",
    "import mglearn\n",
    "import statsmodels.api as sm"
   ]
  },
  {
   "cell_type": "code",
   "execution_count": 60,
   "id": "42220f5b",
   "metadata": {},
   "outputs": [],
   "source": [
    "df = pd.read_excel('Dry_Bean_Dataset.xlsx', header=0)"
   ]
  },
  {
   "cell_type": "code",
   "execution_count": 61,
   "id": "3a715317",
   "metadata": {
    "scrolled": false
   },
   "outputs": [
    {
     "data": {
      "text/html": [
       "<div>\n",
       "<style scoped>\n",
       "    .dataframe tbody tr th:only-of-type {\n",
       "        vertical-align: middle;\n",
       "    }\n",
       "\n",
       "    .dataframe tbody tr th {\n",
       "        vertical-align: top;\n",
       "    }\n",
       "\n",
       "    .dataframe thead th {\n",
       "        text-align: right;\n",
       "    }\n",
       "</style>\n",
       "<table border=\"1\" class=\"dataframe\">\n",
       "  <thead>\n",
       "    <tr style=\"text-align: right;\">\n",
       "      <th></th>\n",
       "      <th>Area</th>\n",
       "      <th>Perimeter</th>\n",
       "      <th>MajorAxisLength</th>\n",
       "      <th>MinorAxisLength</th>\n",
       "      <th>AspectRation</th>\n",
       "      <th>Eccentricity</th>\n",
       "      <th>ConvexArea</th>\n",
       "      <th>EquivDiameter</th>\n",
       "      <th>Extent</th>\n",
       "      <th>Solidity</th>\n",
       "      <th>roundness</th>\n",
       "      <th>Compactness</th>\n",
       "      <th>ShapeFactor1</th>\n",
       "      <th>ShapeFactor2</th>\n",
       "      <th>ShapeFactor3</th>\n",
       "      <th>ShapeFactor4</th>\n",
       "      <th>Class</th>\n",
       "    </tr>\n",
       "  </thead>\n",
       "  <tbody>\n",
       "    <tr>\n",
       "      <th>0</th>\n",
       "      <td>28395</td>\n",
       "      <td>610.291</td>\n",
       "      <td>208.178117</td>\n",
       "      <td>173.888747</td>\n",
       "      <td>1.197191</td>\n",
       "      <td>0.549812</td>\n",
       "      <td>28715</td>\n",
       "      <td>190.141097</td>\n",
       "      <td>0.763923</td>\n",
       "      <td>0.988856</td>\n",
       "      <td>0.958027</td>\n",
       "      <td>0.913358</td>\n",
       "      <td>0.007332</td>\n",
       "      <td>0.003147</td>\n",
       "      <td>0.834222</td>\n",
       "      <td>0.998724</td>\n",
       "      <td>SEKER</td>\n",
       "    </tr>\n",
       "    <tr>\n",
       "      <th>1</th>\n",
       "      <td>28734</td>\n",
       "      <td>638.018</td>\n",
       "      <td>200.524796</td>\n",
       "      <td>182.734419</td>\n",
       "      <td>1.097356</td>\n",
       "      <td>0.411785</td>\n",
       "      <td>29172</td>\n",
       "      <td>191.272750</td>\n",
       "      <td>0.783968</td>\n",
       "      <td>0.984986</td>\n",
       "      <td>0.887034</td>\n",
       "      <td>0.953861</td>\n",
       "      <td>0.006979</td>\n",
       "      <td>0.003564</td>\n",
       "      <td>0.909851</td>\n",
       "      <td>0.998430</td>\n",
       "      <td>SEKER</td>\n",
       "    </tr>\n",
       "    <tr>\n",
       "      <th>2</th>\n",
       "      <td>29380</td>\n",
       "      <td>624.110</td>\n",
       "      <td>212.826130</td>\n",
       "      <td>175.931143</td>\n",
       "      <td>1.209713</td>\n",
       "      <td>0.562727</td>\n",
       "      <td>29690</td>\n",
       "      <td>193.410904</td>\n",
       "      <td>0.778113</td>\n",
       "      <td>0.989559</td>\n",
       "      <td>0.947849</td>\n",
       "      <td>0.908774</td>\n",
       "      <td>0.007244</td>\n",
       "      <td>0.003048</td>\n",
       "      <td>0.825871</td>\n",
       "      <td>0.999066</td>\n",
       "      <td>SEKER</td>\n",
       "    </tr>\n",
       "    <tr>\n",
       "      <th>3</th>\n",
       "      <td>30008</td>\n",
       "      <td>645.884</td>\n",
       "      <td>210.557999</td>\n",
       "      <td>182.516516</td>\n",
       "      <td>1.153638</td>\n",
       "      <td>0.498616</td>\n",
       "      <td>30724</td>\n",
       "      <td>195.467062</td>\n",
       "      <td>0.782681</td>\n",
       "      <td>0.976696</td>\n",
       "      <td>0.903936</td>\n",
       "      <td>0.928329</td>\n",
       "      <td>0.007017</td>\n",
       "      <td>0.003215</td>\n",
       "      <td>0.861794</td>\n",
       "      <td>0.994199</td>\n",
       "      <td>SEKER</td>\n",
       "    </tr>\n",
       "    <tr>\n",
       "      <th>4</th>\n",
       "      <td>30140</td>\n",
       "      <td>620.134</td>\n",
       "      <td>201.847882</td>\n",
       "      <td>190.279279</td>\n",
       "      <td>1.060798</td>\n",
       "      <td>0.333680</td>\n",
       "      <td>30417</td>\n",
       "      <td>195.896503</td>\n",
       "      <td>0.773098</td>\n",
       "      <td>0.990893</td>\n",
       "      <td>0.984877</td>\n",
       "      <td>0.970516</td>\n",
       "      <td>0.006697</td>\n",
       "      <td>0.003665</td>\n",
       "      <td>0.941900</td>\n",
       "      <td>0.999166</td>\n",
       "      <td>SEKER</td>\n",
       "    </tr>\n",
       "  </tbody>\n",
       "</table>\n",
       "</div>"
      ],
      "text/plain": [
       "    Area  Perimeter  MajorAxisLength  MinorAxisLength  AspectRation  \\\n",
       "0  28395    610.291       208.178117       173.888747      1.197191   \n",
       "1  28734    638.018       200.524796       182.734419      1.097356   \n",
       "2  29380    624.110       212.826130       175.931143      1.209713   \n",
       "3  30008    645.884       210.557999       182.516516      1.153638   \n",
       "4  30140    620.134       201.847882       190.279279      1.060798   \n",
       "\n",
       "   Eccentricity  ConvexArea  EquivDiameter    Extent  Solidity  roundness  \\\n",
       "0      0.549812       28715     190.141097  0.763923  0.988856   0.958027   \n",
       "1      0.411785       29172     191.272750  0.783968  0.984986   0.887034   \n",
       "2      0.562727       29690     193.410904  0.778113  0.989559   0.947849   \n",
       "3      0.498616       30724     195.467062  0.782681  0.976696   0.903936   \n",
       "4      0.333680       30417     195.896503  0.773098  0.990893   0.984877   \n",
       "\n",
       "   Compactness  ShapeFactor1  ShapeFactor2  ShapeFactor3  ShapeFactor4  Class  \n",
       "0     0.913358      0.007332      0.003147      0.834222      0.998724  SEKER  \n",
       "1     0.953861      0.006979      0.003564      0.909851      0.998430  SEKER  \n",
       "2     0.908774      0.007244      0.003048      0.825871      0.999066  SEKER  \n",
       "3     0.928329      0.007017      0.003215      0.861794      0.994199  SEKER  \n",
       "4     0.970516      0.006697      0.003665      0.941900      0.999166  SEKER  "
      ]
     },
     "execution_count": 61,
     "metadata": {},
     "output_type": "execute_result"
    }
   ],
   "source": [
    "df.head()"
   ]
  },
  {
   "cell_type": "code",
   "execution_count": null,
   "id": "e79c98f2",
   "metadata": {},
   "outputs": [],
   "source": []
  },
  {
   "cell_type": "code",
   "execution_count": 62,
   "id": "98c137f6",
   "metadata": {},
   "outputs": [],
   "source": [
    "X = df.iloc[:, 0:16]\n",
    "y = df.iloc[:, 16]"
   ]
  },
  {
   "cell_type": "code",
   "execution_count": 63,
   "id": "68c7b07d",
   "metadata": {
    "scrolled": true
   },
   "outputs": [
    {
     "name": "stdout",
     "output_type": "stream",
     "text": [
      "(13611, 16) (13611,)\n"
     ]
    }
   ],
   "source": [
    "print(X.shape, y.shape)"
   ]
  },
  {
   "cell_type": "code",
   "execution_count": 64,
   "id": "03e4cc1a",
   "metadata": {},
   "outputs": [],
   "source": [
    "from sklearn.model_selection import train_test_split\n",
    "\n",
    "X_train, X_test, y_train, y_test = train_test_split(X, y, random_state=0)"
   ]
  },
  {
   "cell_type": "code",
   "execution_count": 65,
   "id": "50069bbe",
   "metadata": {},
   "outputs": [
    {
     "name": "stdout",
     "output_type": "stream",
     "text": [
      "<class 'pandas.core.frame.DataFrame'>\n",
      "RangeIndex: 13611 entries, 0 to 13610\n",
      "Data columns (total 17 columns):\n",
      " #   Column           Non-Null Count  Dtype  \n",
      "---  ------           --------------  -----  \n",
      " 0   Area             13611 non-null  int64  \n",
      " 1   Perimeter        13611 non-null  float64\n",
      " 2   MajorAxisLength  13611 non-null  float64\n",
      " 3   MinorAxisLength  13611 non-null  float64\n",
      " 4   AspectRation     13611 non-null  float64\n",
      " 5   Eccentricity     13611 non-null  float64\n",
      " 6   ConvexArea       13611 non-null  int64  \n",
      " 7   EquivDiameter    13611 non-null  float64\n",
      " 8   Extent           13611 non-null  float64\n",
      " 9   Solidity         13611 non-null  float64\n",
      " 10  roundness        13611 non-null  float64\n",
      " 11  Compactness      13611 non-null  float64\n",
      " 12  ShapeFactor1     13611 non-null  float64\n",
      " 13  ShapeFactor2     13611 non-null  float64\n",
      " 14  ShapeFactor3     13611 non-null  float64\n",
      " 15  ShapeFactor4     13611 non-null  float64\n",
      " 16  Class            13611 non-null  object \n",
      "dtypes: float64(14), int64(2), object(1)\n",
      "memory usage: 1.8+ MB\n"
     ]
    }
   ],
   "source": [
    "df.info()"
   ]
  },
  {
   "cell_type": "code",
   "execution_count": 66,
   "id": "35bf20b8",
   "metadata": {},
   "outputs": [
    {
     "name": "stdout",
     "output_type": "stream",
     "text": [
      "train set score is 1.000\n",
      "test set score is 0.928\n"
     ]
    }
   ],
   "source": [
    "# 랜덤포레스트\n",
    "\n",
    "from sklearn.ensemble import RandomForestClassifier\n",
    "forest = RandomForestClassifier(n_estimators = 300, random_state = 0)\n",
    "forest.fit(X_train, y_train)\n",
    "print(\"train set score is {:.3f}\".format(forest.score(X_train, y_train)))\n",
    "print(\"test set score is {:.3f}\".format(forest.score(X_test, y_test)))"
   ]
  },
  {
   "cell_type": "code",
   "execution_count": 67,
   "id": "b9ddc60a",
   "metadata": {
    "scrolled": true
   },
   "outputs": [
    {
     "name": "stdout",
     "output_type": "stream",
     "text": [
      "1 개 특성을 적용한 score: 0.552\n",
      "2 개 특성을 적용한 score: 0.811\n",
      "3 개 특성을 적용한 score: 0.912\n",
      "4 개 특성을 적용한 score: 0.908\n",
      "5 개 특성을 적용한 score: 0.910\n",
      "6 개 특성을 적용한 score: 0.906\n",
      "7 개 특성을 적용한 score: 0.906\n",
      "8 개 특성을 적용한 score: 0.909\n",
      "9 개 특성을 적용한 score: 0.912\n",
      "10 개 특성을 적용한 score: 0.913\n",
      "11 개 특성을 적용한 score: 0.919\n",
      "12 개 특성을 적용한 score: 0.921\n",
      "13 개 특성을 적용한 score: 0.918\n",
      "14 개 특성을 적용한 score: 0.917\n",
      "15 개 특성을 적용한 score: 0.918\n",
      "16 개 특성을 적용한 score: 0.928\n"
     ]
    }
   ],
   "source": [
    "# 변수의 개수를 하나씩 늘려나가면서 정확도 체크.\n",
    "\n",
    "for i in range(1,17):\n",
    "    X = df.iloc[:, 0:i]\n",
    "    y = df.iloc[:, 16]\n",
    "    \n",
    "    X_train, X_test, y_train, y_test = train_test_split(X, y, random_state=0)\n",
    "    \n",
    "    forest = RandomForestClassifier(n_estimators = 300, random_state = 0)\n",
    "    forest.fit(X_train, y_train)\n",
    "    \n",
    "    print(i, \"개 특성을 적용한 score: {:.3f}\".format(forest.score(X_test, y_test)))"
   ]
  },
  {
   "cell_type": "code",
   "execution_count": 68,
   "id": "867a7c52",
   "metadata": {},
   "outputs": [
    {
     "data": {
      "text/plain": [
       "Index(['Perimeter', 'MajorAxisLength', 'MinorAxisLength', 'Eccentricity',\n",
       "       'ConvexArea', 'Compactness', 'ShapeFactor1', 'ShapeFactor3'],\n",
       "      dtype='object')"
      ]
     },
     "execution_count": 68,
     "metadata": {},
     "output_type": "execute_result"
    }
   ],
   "source": [
    "from sklearn.feature_selection import SelectFromModel\n",
    "\n",
    "sel = SelectFromModel(RandomForestClassifier(n_estimators = 300))\n",
    "sel.fit(X_train, y_train)\n",
    "\n",
    "sel.get_support() # 모델이 중요하다고 생각한 변수\n",
    "\n",
    "selected_feat= X_train.columns[(sel.get_support())]\n",
    "selected_feat"
   ]
  },
  {
   "cell_type": "code",
   "execution_count": 78,
   "id": "6373076f",
   "metadata": {
    "scrolled": true
   },
   "outputs": [
    {
     "name": "stdout",
     "output_type": "stream",
     "text": [
      "get_support 로 선택된 변수 8개를 사용한 점수: 0.909\n"
     ]
    }
   ],
   "source": [
    "X_train_selctedfeat = X_train[(selected_feat)]\n",
    "X_test_selctedfeat = X_test[(selected_feat)]\n",
    "\n",
    "forest_selected = RandomForestClassifier(n_estimators = 300, random_state = 0)\n",
    "forest_selected.fit(X_train_selctedfeat, y_train)\n",
    "\n",
    "print(\"get_support 로 선택된 변수 8개를 사용한 점수: {:.3f}\".format(forest_selected.score(X_test_selctedfeat, y_test)))"
   ]
  },
  {
   "cell_type": "code",
   "execution_count": 79,
   "id": "72ae96ea",
   "metadata": {},
   "outputs": [],
   "source": [
    "bean_features = ['Area', 'Perimeter', 'MajorAxisLength', 'MinorAxisLength',\n",
    "       'AspectRation', 'Eccentricity', 'ConvexArea', 'EquivDiameter', 'Extent',\n",
    "       'Solidity', 'roundness', 'Compactness', 'ShapeFactor1', 'ShapeFactor2',\n",
    "       'ShapeFactor3', 'ShapeFactor4']"
   ]
  },
  {
   "cell_type": "code",
   "execution_count": 80,
   "id": "7b9e5407",
   "metadata": {
    "scrolled": false
   },
   "outputs": [
    {
     "data": {
      "text/html": [
       "<div>\n",
       "<style scoped>\n",
       "    .dataframe tbody tr th:only-of-type {\n",
       "        vertical-align: middle;\n",
       "    }\n",
       "\n",
       "    .dataframe tbody tr th {\n",
       "        vertical-align: top;\n",
       "    }\n",
       "\n",
       "    .dataframe thead th {\n",
       "        text-align: right;\n",
       "    }\n",
       "</style>\n",
       "<table border=\"1\" class=\"dataframe\">\n",
       "  <thead>\n",
       "    <tr style=\"text-align: right;\">\n",
       "      <th></th>\n",
       "      <th>names</th>\n",
       "      <th>importances</th>\n",
       "    </tr>\n",
       "  </thead>\n",
       "  <tbody>\n",
       "    <tr>\n",
       "      <th>1</th>\n",
       "      <td>Perimeter</td>\n",
       "      <td>0.102213</td>\n",
       "    </tr>\n",
       "    <tr>\n",
       "      <th>11</th>\n",
       "      <td>Compactness</td>\n",
       "      <td>0.095659</td>\n",
       "    </tr>\n",
       "    <tr>\n",
       "      <th>14</th>\n",
       "      <td>ShapeFactor3</td>\n",
       "      <td>0.092025</td>\n",
       "    </tr>\n",
       "    <tr>\n",
       "      <th>12</th>\n",
       "      <td>ShapeFactor1</td>\n",
       "      <td>0.084373</td>\n",
       "    </tr>\n",
       "    <tr>\n",
       "      <th>3</th>\n",
       "      <td>MinorAxisLength</td>\n",
       "      <td>0.076437</td>\n",
       "    </tr>\n",
       "    <tr>\n",
       "      <th>6</th>\n",
       "      <td>ConvexArea</td>\n",
       "      <td>0.075140</td>\n",
       "    </tr>\n",
       "    <tr>\n",
       "      <th>2</th>\n",
       "      <td>MajorAxisLength</td>\n",
       "      <td>0.073836</td>\n",
       "    </tr>\n",
       "    <tr>\n",
       "      <th>4</th>\n",
       "      <td>AspectRation</td>\n",
       "      <td>0.066941</td>\n",
       "    </tr>\n",
       "    <tr>\n",
       "      <th>5</th>\n",
       "      <td>Eccentricity</td>\n",
       "      <td>0.066352</td>\n",
       "    </tr>\n",
       "    <tr>\n",
       "      <th>7</th>\n",
       "      <td>EquivDiameter</td>\n",
       "      <td>0.057410</td>\n",
       "    </tr>\n",
       "    <tr>\n",
       "      <th>10</th>\n",
       "      <td>roundness</td>\n",
       "      <td>0.055070</td>\n",
       "    </tr>\n",
       "    <tr>\n",
       "      <th>0</th>\n",
       "      <td>Area</td>\n",
       "      <td>0.054538</td>\n",
       "    </tr>\n",
       "    <tr>\n",
       "      <th>13</th>\n",
       "      <td>ShapeFactor2</td>\n",
       "      <td>0.038128</td>\n",
       "    </tr>\n",
       "    <tr>\n",
       "      <th>15</th>\n",
       "      <td>ShapeFactor4</td>\n",
       "      <td>0.031449</td>\n",
       "    </tr>\n",
       "    <tr>\n",
       "      <th>9</th>\n",
       "      <td>Solidity</td>\n",
       "      <td>0.018808</td>\n",
       "    </tr>\n",
       "    <tr>\n",
       "      <th>8</th>\n",
       "      <td>Extent</td>\n",
       "      <td>0.011623</td>\n",
       "    </tr>\n",
       "  </tbody>\n",
       "</table>\n",
       "</div>"
      ],
      "text/plain": [
       "              names  importances\n",
       "1         Perimeter     0.102213\n",
       "11      Compactness     0.095659\n",
       "14     ShapeFactor3     0.092025\n",
       "12     ShapeFactor1     0.084373\n",
       "3   MinorAxisLength     0.076437\n",
       "6        ConvexArea     0.075140\n",
       "2   MajorAxisLength     0.073836\n",
       "4      AspectRation     0.066941\n",
       "5      Eccentricity     0.066352\n",
       "7     EquivDiameter     0.057410\n",
       "10        roundness     0.055070\n",
       "0              Area     0.054538\n",
       "13     ShapeFactor2     0.038128\n",
       "15     ShapeFactor4     0.031449\n",
       "9          Solidity     0.018808\n",
       "8            Extent     0.011623"
      ]
     },
     "execution_count": 80,
     "metadata": {},
     "output_type": "execute_result"
    }
   ],
   "source": [
    "feature_names = pd.DataFrame(bean_features)\n",
    "feature_importances = pd.DataFrame(forest.feature_importances_)\n",
    "feature_im = pd.concat([feature_names, feature_importances], axis=1)\n",
    "feature_im.columns = ['names', 'importances']\n",
    "feature_im['importances'].sort_values()\n",
    "feature_im = feature_im.sort_values('importances', ascending =False)\n",
    "feature_im"
   ]
  },
  {
   "cell_type": "code",
   "execution_count": 81,
   "id": "7fe792ba",
   "metadata": {
    "scrolled": true
   },
   "outputs": [],
   "source": [
    "bean_features_sorted = feature_im['names'].to_list()"
   ]
  },
  {
   "cell_type": "code",
   "execution_count": 82,
   "id": "9fe3a9de",
   "metadata": {
    "scrolled": false
   },
   "outputs": [
    {
     "data": {
      "image/png": "[encoded data removed]",
      "text/plain": [
       "<Figure size 432x288 with 1 Axes>"
      ]
     },
     "metadata": {
      "needs_background": "light"
     },
     "output_type": "display_data"
    }
   ],
   "source": [
    "# 특성 중요도 알아보기.\n",
    "\n",
    "def plot_feature_importances_beans(model):\n",
    "    n_features = X_train.shape[1]\n",
    "    plt.barh(np.arange(n_features), np.sort(model.feature_importances_)[::-1], align = 'center')\n",
    "    plt.yticks(np.arange(n_features), bean_features_sorted)\n",
    "    plt.xlabel(\"feature importances\")\n",
    "    plt.ylabel(\"features\")\n",
    "    plt.ylim(-1, n_features)\n",
    "    \n",
    "plot_feature_importances_beans(forest)"
   ]
  },
  {
   "cell_type": "code",
   "execution_count": 83,
   "id": "0a4b316a",
   "metadata": {},
   "outputs": [
    {
     "data": {
      "text/plain": [
       "['Area', 'ShapeFactor2', 'ShapeFactor4', 'Solidity', 'Extent']"
      ]
     },
     "execution_count": 83,
     "metadata": {},
     "output_type": "execute_result"
    }
   ],
   "source": [
    "# 특성 중요도가 낮은 5개 항목 제거\n",
    "bean_features_bottom_5 = feature_im['names'].tail(5)\n",
    "bean_features_bottom_5 = bean_features_bottom_5.to_list()\n",
    "bean_features_bottom_5"
   ]
  },
  {
   "cell_type": "code",
   "execution_count": 84,
   "id": "e8738a1d",
   "metadata": {},
   "outputs": [
    {
     "name": "stdout",
     "output_type": "stream",
     "text": [
      "drop 5 features model score is 0.916\n"
     ]
    }
   ],
   "source": [
    "X_drop_5 = X.drop(bean_features_bottom_5, axis = 1)\n",
    "\n",
    "X_train, X_test, y_train, y_test = train_test_split(X_drop_5, y, random_state=0)\n",
    "\n",
    "# 랜덤포레스트 모델 실행\n",
    "forest = RandomForestClassifier(n_estimators = 300, random_state = 0)\n",
    "forest.fit(X_train, y_train)\n",
    "print(\"drop 5 features model score is {:.3f}\".format(forest.score(X_test, y_test)))"
   ]
  },
  {
   "cell_type": "code",
   "execution_count": 85,
   "id": "f62331d5",
   "metadata": {
    "scrolled": true
   },
   "outputs": [
    {
     "name": "stdout",
     "output_type": "stream",
     "text": [
      "0 개의 중요도 하위 특성을 제거한 score: 0.928\n",
      "1 개의 중요도 하위 특성을 제거한 score: 0.923\n",
      "2 개의 중요도 하위 특성을 제거한 score: 0.924\n",
      "3 개의 중요도 하위 특성을 제거한 score: 0.916\n",
      "4 개의 중요도 하위 특성을 제거한 score: 0.915\n",
      "5 개의 중요도 하위 특성을 제거한 score: 0.916\n",
      "6 개의 중요도 하위 특성을 제거한 score: 0.910\n",
      "7 개의 중요도 하위 특성을 제거한 score: 0.907\n",
      "8 개의 중요도 하위 특성을 제거한 score: 0.909\n",
      "9 개의 중요도 하위 특성을 제거한 score: 0.909\n",
      "10 개의 중요도 하위 특성을 제거한 score: 0.909\n",
      "11 개의 중요도 하위 특성을 제거한 score: 0.909\n",
      "12 개의 중요도 하위 특성을 제거한 score: 0.905\n",
      "13 개의 중요도 하위 특성을 제거한 score: 0.881\n",
      "14 개의 중요도 하위 특성을 제거한 score: 0.884\n",
      "15 개의 중요도 하위 특성을 제거한 score: 0.548\n"
     ]
    }
   ],
   "source": [
    "# 특성 중요도가 낮은 순서로 차례차례 제거\n",
    "\n",
    "for i in range(16):\n",
    "    bean_features_bottom = feature_im['names'].tail(i)\n",
    "    bean_features_bottom = bean_features_bottom.to_list()\n",
    "    \n",
    "    X_drop = X.drop(bean_features_bottom, axis = 1)\n",
    "    \n",
    "    X_train, X_test, y_train, y_test = train_test_split(X_drop, y, random_state=0)\n",
    "    \n",
    "    forest = RandomForestClassifier(n_estimators = 300, random_state = 0)\n",
    "    forest.fit(X_train, y_train)\n",
    "    \n",
    "    print(i, \"개의 중요도 하위 특성을 제거한 score: {:.3f}\".format(forest.score(X_test, y_test)))\n",
    "    "
   ]
  },
  {
   "cell_type": "code",
   "execution_count": 86,
   "id": "fdf2250a",
   "metadata": {},
   "outputs": [
    {
     "name": "stdout",
     "output_type": "stream",
     "text": [
      "[0.9280047017337644, 0.9233029679694388, 0.9238906846899795, 0.9156626506024096, 0.9147810755215986, 0.9162503673229503, 0.9097854833970026, 0.9071407581545695, 0.9091977666764619, 0.9094916250367323, 0.9091977666764619, 0.9094916250367323, 0.905083749632677, 0.8809873640905084, 0.8836320893329416, 0.5480458419042021]\n"
     ]
    }
   ],
   "source": [
    "score_dropbylow = []\n",
    "for i in range(16):\n",
    "\n",
    "    \n",
    "    bean_features_bottom = feature_im['names'].tail(i)\n",
    "    bean_features_bottom = bean_features_bottom.to_list()\n",
    "    \n",
    "    X_drop = X.drop(bean_features_bottom, axis = 1)\n",
    "    \n",
    "    X_train, X_test, y_train, y_test = train_test_split(X_drop, y, random_state=0)\n",
    "    \n",
    "    forest = RandomForestClassifier(n_estimators = 300, random_state = 0)\n",
    "    forest.fit(X_train, y_train)\n",
    "    \n",
    "    score_dropbylow.append(forest.score(X_test, y_test))\n",
    "    \n",
    "\n",
    "print(score_dropbylow)\n",
    "\n"
   ]
  },
  {
   "cell_type": "code",
   "execution_count": 87,
   "id": "83fd99a8",
   "metadata": {},
   "outputs": [
    {
     "name": "stdout",
     "output_type": "stream",
     "text": [
      "0 개 특성을 무작위로 제거한 score: 0.928\n",
      "1 개 특성을 무작위로 제거한 score: 0.918\n",
      "2 개 특성을 무작위로 제거한 score: 0.917\n",
      "3 개 특성을 무작위로 제거한 score: 0.918\n",
      "4 개 특성을 무작위로 제거한 score: 0.921\n",
      "5 개 특성을 무작위로 제거한 score: 0.919\n",
      "6 개 특성을 무작위로 제거한 score: 0.913\n",
      "7 개 특성을 무작위로 제거한 score: 0.912\n",
      "8 개 특성을 무작위로 제거한 score: 0.909\n",
      "9 개 특성을 무작위로 제거한 score: 0.906\n",
      "10 개 특성을 무작위로 제거한 score: 0.906\n",
      "11 개 특성을 무작위로 제거한 score: 0.910\n",
      "12 개 특성을 무작위로 제거한 score: 0.908\n",
      "13 개 특성을 무작위로 제거한 score: 0.912\n",
      "14 개 특성을 무작위로 제거한 score: 0.811\n",
      "15 개 특성을 무작위로 제거한 score: 0.552\n"
     ]
    }
   ],
   "source": [
    "for i in range(1,17):\n",
    "    X = df.iloc[:, 0:17-i]\n",
    "    y = df.iloc[:, 16]\n",
    "    \n",
    "    X_train, X_test, y_train, y_test = train_test_split(X, y, random_state=0)\n",
    "    \n",
    "    forest = RandomForestClassifier(n_estimators = 300, random_state = 0)\n",
    "    forest.fit(X_train, y_train)\n",
    "    \n",
    "    print(i-1, \"개 특성을 무작위로 제거한 score: {:.3f}\".format(forest.score(X_test, y_test)))"
   ]
  },
  {
   "cell_type": "code",
   "execution_count": 88,
   "id": "5a1869a7",
   "metadata": {},
   "outputs": [
    {
     "name": "stdout",
     "output_type": "stream",
     "text": [
      "[0.9280047017337644, 0.9180135174845724, 0.916838084043491, 0.9180135174845724, 0.9206582427270056, 0.9186012342051131, 0.9127240669997061, 0.9118424919188951, 0.9086100499559212, 0.9056714663532177, 0.9062591830737584, 0.910079341757273, 0.9077284748751102, 0.9118424919188951, 0.8107552159858948, 0.5515721422274463]\n"
     ]
    }
   ],
   "source": [
    "score_dropbyorder = []\n",
    "\n",
    "for i in range(1, 17):\n",
    "\n",
    "    X = df.iloc[:, 0:17-i]\n",
    "    y = df.iloc[:, 16]\n",
    "    \n",
    "    X_train, X_test, y_train, y_test = train_test_split(X, y, random_state=0)\n",
    "    \n",
    "    forest = RandomForestClassifier(n_estimators = 300, random_state = 0)\n",
    "    forest.fit(X_train, y_train)\n",
    "    \n",
    "    score_dropbyorder.append(forest.score(X_test, y_test))\n",
    "    \n",
    "\n",
    "print(score_dropbyorder)"
   ]
  },
  {
   "cell_type": "code",
   "execution_count": 89,
   "id": "c24366e6",
   "metadata": {},
   "outputs": [
    {
     "data": {
      "image/png": "[encoded data removed]",
      "text/plain": [
       "<Figure size 432x288 with 1 Axes>"
      ]
     },
     "metadata": {
      "needs_background": "light"
     },
     "output_type": "display_data"
    }
   ],
   "source": [
    "score_dropbyorder = pd.DataFrame(score_dropbyorder)\n",
    "\n",
    "plt.plot(score_dropbyorder)\n",
    "plt.ylim(0.85, 0.95)\n",
    "plt.title(\"score_dropbyorder\")\n",
    "plt.show()"
   ]
  },
  {
   "cell_type": "code",
   "execution_count": 90,
   "id": "70b0c5d3",
   "metadata": {},
   "outputs": [
    {
     "data": {
      "image/png": "[encoded data removed]",
      "text/plain": [
       "<Figure size 432x288 with 1 Axes>"
      ]
     },
     "metadata": {
      "needs_background": "light"
     },
     "output_type": "display_data"
    }
   ],
   "source": [
    "score_dropbylow = pd.DataFrame(score_dropbylow)\n",
    "\n",
    "plt.plot(score_dropbylow)\n",
    "plt.ylim(0.85, 0.95)\n",
    "plt.title(\"score_dropbylow\")\n",
    "plt.show()\n",
    "\n"
   ]
  },
  {
   "cell_type": "code",
   "execution_count": 91,
   "id": "161ff439",
   "metadata": {},
   "outputs": [
    {
     "name": "stdout",
     "output_type": "stream",
     "text": [
      "Requirement already satisfied: boruta in c:\\programdata\\anaconda3\\lib\\site-packages (0.3)\n",
      "Requirement already satisfied: scikit-learn>=0.17.1 in c:\\programdata\\anaconda3\\lib\\site-packages (from boruta) (0.24.1)\n",
      "Requirement already satisfied: numpy>=1.10.4 in c:\\programdata\\anaconda3\\lib\\site-packages (from boruta) (1.19.5)\n",
      "Requirement already satisfied: scipy>=0.17.0 in c:\\programdata\\anaconda3\\lib\\site-packages (from boruta) (1.6.2)\n",
      "Requirement already satisfied: joblib>=0.11 in c:\\programdata\\anaconda3\\lib\\site-packages (from scikit-learn>=0.17.1->boruta) (1.0.1)\n",
      "Requirement already satisfied: threadpoolctl>=2.0.0 in c:\\programdata\\anaconda3\\lib\\site-packages (from scikit-learn>=0.17.1->boruta) (2.1.0)\n"
     ]
    }
   ],
   "source": [
    "!pip install boruta\n",
    "from boruta import BorutaPy"
   ]
  },
  {
   "cell_type": "code",
   "execution_count": 92,
   "id": "d600e776",
   "metadata": {
    "scrolled": false
   },
   "outputs": [],
   "source": [
    "# load X and y\n",
    "# NOTE BorutaPy accepts numpy arrays only, hence the .values attribute\n",
    "# X = X.values\n",
    "# y = y.values\n",
    "# y = y.ravel()\n"
   ]
  },
  {
   "cell_type": "code",
   "execution_count": 44,
   "id": "03fe0698",
   "metadata": {},
   "outputs": [
    {
     "name": "stdout",
     "output_type": "stream",
     "text": [
      "features in the green area: ['Area', 'Perimeter', 'MajorAxisLength', 'MinorAxisLength', 'AspectRation', 'Eccentricity', 'ConvexArea', 'EquivDiameter', 'Extent', 'Solidity', 'roundness', 'Compactness', 'ShapeFactor1', 'ShapeFactor2', 'ShapeFactor3', 'ShapeFactor4']\n",
      "features in the blue area: []\n"
     ]
    }
   ],
   "source": [
    "###initialize Boruta\n",
    "boruta = BorutaPy(\n",
    "   estimator = forest, \n",
    "   n_estimators = 'auto',\n",
    "   max_iter = 100 # number of trials to perform\n",
    ")\n",
    "### fit Boruta (it accepts np.array, not pd.DataFrame)\n",
    "boruta.fit(np.array(X), np.array(y))\n",
    "### print results\n",
    "green_area = X.columns[boruta.support_].to_list()\n",
    "blue_area = X.columns[boruta.support_weak_].to_list()\n",
    "print('features in the green area:', green_area)\n",
    "print('features in the blue area:', blue_area)"
   ]
  },
  {
   "cell_type": "code",
   "execution_count": 45,
   "id": "1851e678",
   "metadata": {},
   "outputs": [],
   "source": [
    "### initialize hits counter\n",
    "hits = np.zeros((len(X.columns)))\n",
    "### repeat 20 times\n",
    "for iter_ in range(20):\n",
    "   ### make X_shadow by randomly permuting each column of X\n",
    "   np.random.seed(iter_)\n",
    "   X_shadow = X.apply(np.random.permutation)\n",
    "   X_boruta = pd.concat([X, X_shadow], axis = 1)\n",
    "   ### fit a random forest (suggested max_depth between 3 and 7)\n",
    "   forest.fit(X_boruta, y)\n",
    "   ### store feature importance\n",
    "   feat_imp_X = forest.feature_importances_[:len(X.columns)]\n",
    "   feat_imp_shadow = forest.feature_importances_[len(X.columns):]\n",
    "   ### compute hits for this trial and add to counter\n",
    "   hits += (feat_imp_X > feat_imp_shadow.max())"
   ]
  },
  {
   "cell_type": "code",
   "execution_count": 46,
   "id": "87d0e04f",
   "metadata": {},
   "outputs": [
    {
     "name": "stdout",
     "output_type": "stream",
     "text": [
      "[20. 20. 20. 20. 20. 20. 20. 20. 20. 20. 20. 20. 20. 20. 20. 20.]\n"
     ]
    }
   ],
   "source": [
    "print(hits)"
   ]
  },
  {
   "cell_type": "code",
   "execution_count": null,
   "id": "05eb6342",
   "metadata": {},
   "outputs": [],
   "source": [
    "# Boruta => 모든 항목을 중요하다고 해서 실패. ;("
   ]
  },
  {
   "cell_type": "code",
   "execution_count": null,
   "id": "9d3f1c48",
   "metadata": {},
   "outputs": [],
   "source": []
  }
 ],
 "metadata": {
  "kernelspec": {
   "display_name": "Python 3",
   "language": "python",
   "name": "python3"
  },
  "language_info": {
   "codemirror_mode": {
    "name": "ipython",
    "version": 3
   },
   "file_extension": ".py",
   "mimetype": "text/x-python",
   "name": "python",
   "nbconvert_exporter": "python",
   "pygments_lexer": "ipython3",
   "version": "3.8.8"
  }
 },
 "nbformat": 4,
 "nbformat_minor": 5
}
