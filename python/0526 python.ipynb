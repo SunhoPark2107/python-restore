{
 "cells": [
  {
   "cell_type": "code",
   "execution_count": null,
   "id": "0650e423",
   "metadata": {},
   "outputs": [],
   "source": [
    "f = open(\"c:/테스트폴더/새파일.txt\", \"r\")\n",
    "line1 = f.readlines()\n",
    "print(line1)\n",
    "f.close()"
   ]
  },
  {
   "cell_type": "code",
   "execution_count": null,
   "id": "40b7c357",
   "metadata": {},
   "outputs": [],
   "source": [
    "f = open(\"C:\\테스트폴더\\새파일.txt\", \"r\")\n",
    "lines = f.readlines()\n",
    "f.close()\n",
    "print(lines)"
   ]
  },
  {
   "cell_type": "code",
   "execution_count": null,
   "id": "e469afcb",
   "metadata": {},
   "outputs": [],
   "source": [
    "f = open(\"C:\\테스트폴더\\새파일.txt\", \"r\")\n",
    "lines = f.readlines()\n",
    "print(lines)\n",
    "refined_list = []\n",
    "for item in lines:\n",
    "    replace_words = item.replace(\"\\n\",\"\")\n",
    "    refined_list.append(replace_words)\n",
    "print(refined_list)"
   ]
  },
  {
   "cell_type": "code",
   "execution_count": null,
   "id": "a394f721",
   "metadata": {},
   "outputs": [],
   "source": [
    "f = open(\"C:\\테스트폴더\\새파일.txt\", \"r\")\n",
    "page = f.read()\n",
    "f.close()\n",
    "page2 = page.split('\\n')\n",
    "print(page)\n",
    "print(page2)"
   ]
  },
  {
   "cell_type": "code",
   "execution_count": null,
   "id": "bacdb68d",
   "metadata": {},
   "outputs": [],
   "source": [
    "f = open(\"C:\\테스트폴더\\새파일.txt\", \"a\")\n",
    "f.write(\"♥\")\n",
    "f.close()"
   ]
  },
  {
   "cell_type": "code",
   "execution_count": null,
   "id": "c358b125",
   "metadata": {},
   "outputs": [],
   "source": [
    "# with 문 활용한 파일 append\n",
    "with open(\"C:\\테스트폴더\\새파일.txt\", \"a\") as f:\n",
    "    f.write(\"★\")"
   ]
  },
  {
   "cell_type": "code",
   "execution_count": null,
   "id": "f7ec346b",
   "metadata": {},
   "outputs": [],
   "source": []
  },
  {
   "cell_type": "code",
   "execution_count": null,
   "id": "0ccc162e",
   "metadata": {},
   "outputs": [],
   "source": [
    "# 클래스 만들기!"
   ]
  },
  {
   "cell_type": "code",
   "execution_count": null,
   "id": "69874758",
   "metadata": {},
   "outputs": [],
   "source": [
    "class FourCal :\n",
    "    # self.first\n",
    "    # self.second 이 두 가지가 코딩에는 보이지 않지만, 클래스 내에 이 두 가지가 있다는 것을 알아 두어야 함.\n",
    "    # 로컬에 있는 것을 사용하는 것이 아니라 클래스 내에서만 참조하겠다는 이야기(?)\n",
    "    def setdata(self, a, b):                          # 데이터 세팅이 선행되어야 한다. 세팅해주는 사용자 정의 함수 하나 만들어 놓기.\n",
    "        self.first = a\n",
    "        self.second = b\n",
    "    def add(self):                                    # 항상 class def입력에는 self라는 말 잘 넣어 줘야 함.\n",
    "        result = self.first + self.second             # 여기도 self\n",
    "        return result                                 # result에는 self안 붙음.\n",
    "    def mul(self):  \n",
    "        result = self.first * self.second  \n",
    "        return result\n",
    "    \n",
    "aCal = FourCal()\n",
    "bCal = FourCal()\n",
    "aCal.setdata(4, 2)\n",
    "print(aCal.add())\n",
    "bCal.setdata(3, 8)\n",
    "print(bCal.add())"
   ]
  },
  {
   "cell_type": "code",
   "execution_count": 16,
   "id": "b289ff72",
   "metadata": {},
   "outputs": [
    {
     "ename": "TypeError",
     "evalue": "FourCal() takes no arguments",
     "output_type": "error",
     "traceback": [
      "\u001b[1;31m---------------------------------------------------------------------------\u001b[0m",
      "\u001b[1;31mTypeError\u001b[0m                                 Traceback (most recent call last)",
      "\u001b[1;32m<ipython-input-16-afb99633bb99>\u001b[0m in \u001b[0;36m<module>\u001b[1;34m\u001b[0m\n\u001b[0;32m     17\u001b[0m \u001b[1;33m\u001b[0m\u001b[0m\n\u001b[0;32m     18\u001b[0m \u001b[1;33m\u001b[0m\u001b[0m\n\u001b[1;32m---> 19\u001b[1;33m \u001b[0maCal\u001b[0m \u001b[1;33m=\u001b[0m \u001b[0mFourCal\u001b[0m\u001b[1;33m(\u001b[0m\u001b[1;36m4\u001b[0m\u001b[1;33m,\u001b[0m \u001b[1;36m2\u001b[0m\u001b[1;33m)\u001b[0m\u001b[1;33m\u001b[0m\u001b[1;33m\u001b[0m\u001b[0m\n\u001b[0m\u001b[0;32m     20\u001b[0m \u001b[0mbCal\u001b[0m \u001b[1;33m=\u001b[0m \u001b[0mFourCal\u001b[0m\u001b[1;33m(\u001b[0m\u001b[1;36m3\u001b[0m\u001b[1;33m,\u001b[0m \u001b[1;36m8\u001b[0m\u001b[1;33m)\u001b[0m\u001b[1;33m\u001b[0m\u001b[1;33m\u001b[0m\u001b[0m\n\u001b[0;32m     21\u001b[0m \u001b[0mprint\u001b[0m\u001b[1;33m(\u001b[0m\u001b[0maCal\u001b[0m\u001b[1;33m.\u001b[0m\u001b[0madd\u001b[0m\u001b[1;33m(\u001b[0m\u001b[1;33m)\u001b[0m\u001b[1;33m)\u001b[0m\u001b[1;33m\u001b[0m\u001b[1;33m\u001b[0m\u001b[0m\n",
      "\u001b[1;31mTypeError\u001b[0m: FourCal() takes no arguments"
     ]
    }
   ],
   "source": [
    "class FourCal :\n",
    "    # self.first\n",
    "    # self.second 이 두 가지가 코딩에는 보이지 않지만, 클래스 내에 이 두 가지가 있다는 것을 알아 두어야 함.\n",
    "    # 로컬에 있는 것을 사용하는 것이 아니라 클래스 내에서만 참조하겠다는 이야기(?)\n",
    "    def __init__(self, a, b):                          # __init__은 생성자 메소드로, 객체 생성과 동시에 값을 적용할 수 있게 해주는 정의된(?)함수 만들어줌.\n",
    "        self.first = a\n",
    "        self.second = b\n",
    "    def add(self):                                    # 항상 class def입력에는 self라는 말 잘 넣어 줘야 함.\n",
    "        result = self.first + self.second             # 여기도 self\n",
    "        return result                                 # result에는 self안 붙음.\n",
    "    def mul(self):  \n",
    "        result = self.first * self.second  \n",
    "        return result\n",
    "    def div(self):\n",
    "        result = self.first / self.second\n",
    "        return result\n",
    "    \n",
    "\n",
    "aCal = FourCal(4, 2)\n",
    "bCal = FourCal(3, 8)\n",
    "print(aCal.add())\n",
    "print(bCal.add())"
   ]
  },
  {
   "cell_type": "code",
   "execution_count": null,
   "id": "c431942b",
   "metadata": {},
   "outputs": [],
   "source": [
    "# 상속\n",
    "# FourCal의 정의 받아서 그대로 사용하는것.\n",
    "class MoreFourCal(FourCal):\n",
    "    pass\n",
    "\n",
    "c = MoreFourCal(4, 2)\n",
    "d = c.add()\n",
    "print(d)\n"
   ]
  },
  {
   "cell_type": "code",
   "execution_count": null,
   "id": "dd7d9f98",
   "metadata": {},
   "outputs": [],
   "source": [
    "# 상속\n",
    "# FourCal의 정의 받아서 그대로 사용하는것.\n",
    "# 상속받은것에 함수 특성 추가\n",
    "# div 기능 수정 => 0이 분모가 되면 안 되므로(불능) 조치를 취해 주어야 한다.\n",
    "\n",
    "class MoreFourCal(FourCal):\n",
    "    def pow(self):\n",
    "        result = self.first ** self.second\n",
    "        return result\n",
    "    def div(self):\n",
    "        if self.second == 0:\n",
    "            self.second = 0.00000000000000001\n",
    "        result = self.first / self.second\n",
    "        return result\n",
    "\n",
    "c = MoreFourCal(4, 2)\n",
    "d = c.add()\n",
    "print(d)\n",
    "e = c.pow()\n",
    "print(e)\n",
    "f = c.div()\n",
    "print(f)"
   ]
  },
  {
   "cell_type": "code",
   "execution_count": null,
   "id": "820d6bea",
   "metadata": {},
   "outputs": [],
   "source": [
    "class MoreFourCal(FourCal):\n",
    "    def pow(self):\n",
    "        result = self.first ** self.second\n",
    "        return result\n",
    "    def div(self):\n",
    "        if self.second == 0:\n",
    "            return 0\n",
    "        else : \n",
    "            return self.first / self.second\n",
    "        \n",
    "\n",
    "c = MoreFourCal(4, 0)\n",
    "d = c.add()\n",
    "print(d)\n",
    "e = c.pow()\n",
    "print(e)\n",
    "f = c.div()\n",
    "print(f)"
   ]
  },
  {
   "cell_type": "code",
   "execution_count": null,
   "id": "be4f41c2",
   "metadata": {},
   "outputs": [],
   "source": [
    "class MyMath:\n",
    "    MyPI = 3.14\n",
    "    \n",
    "mm1 = MyMath()\n",
    "mm1.MyPI = 4\n",
    "mm2 = MyMath()\n",
    "print(mm1.MyPI, mm2.MyPI)"
   ]
  },
  {
   "cell_type": "code",
   "execution_count": 1,
   "id": "fac547b7",
   "metadata": {},
   "outputs": [
    {
     "name": "stdout",
     "output_type": "stream",
     "text": [
      "7\n",
      "-1\n"
     ]
    }
   ],
   "source": [
    "# 모듈 적용이 잘 안 될 땐 세션 다시 시작해보기!\n",
    "\n",
    "import mod1\n",
    "print(mod1.add_mod1(3, 4))\n",
    "print(mod1.sub_mod1(3, 4))"
   ]
  },
  {
   "cell_type": "code",
   "execution_count": 2,
   "id": "52ddb538",
   "metadata": {},
   "outputs": [
    {
     "name": "stdout",
     "output_type": "stream",
     "text": [
      "7\n",
      "-1\n"
     ]
    }
   ],
   "source": [
    "# 이런 식으로 더 자주 쓰인다.\n",
    "# mod1.함수 이렇게 반복하지 않도록, 쓸 함수를 미리 꺼내오는 것.\n",
    "\n",
    "from mod1 import add_mod1, sub_mod1\n",
    "print(add_mod1(3, 4))\n",
    "print(sub_mod1(3, 4))"
   ]
  },
  {
   "cell_type": "code",
   "execution_count": null,
   "id": "f15c68b6",
   "metadata": {},
   "outputs": [],
   "source": [
    "# 가능하면 이런거는 하지 말기.\n",
    "# 모듈에 있는 함수를 죄다 가져오면, 이미 있는 함수와 충돌 날 수도 있고, 프로그램 과부하 걸릴 수도 있다.\n",
    "from mod1 import *\n",
    "print(add_mod1(3, 4))\n",
    "print(sub_mod1(3, 4))"
   ]
  },
  {
   "cell_type": "code",
   "execution_count": 3,
   "id": "bc9d518f",
   "metadata": {},
   "outputs": [
    {
     "name": "stdout",
     "output_type": "stream",
     "text": [
      "7\n",
      "-1\n"
     ]
    }
   ],
   "source": [
    "# 모듈 이름 재설정.\n",
    "\n",
    "import mod1 as m1\n",
    "print(m1.add_mod1(3, 4))\n",
    "print(m1.sub_mod1(3, 4))"
   ]
  },
  {
   "cell_type": "code",
   "execution_count": 8,
   "id": "056c539e",
   "metadata": {},
   "outputs": [
    {
     "name": "stdout",
     "output_type": "stream",
     "text": [
      "7\n",
      "3.14\n",
      "12.56\n"
     ]
    }
   ],
   "source": [
    "# mod2\n",
    "\n",
    "import mod2\n",
    "print(mod2.add_mod2(3, 4))\n",
    "print(mod2.PI)\n",
    "mm2 = mod2.Math_mod2()\n",
    "print(mm2.solve(2))"
   ]
  },
  {
   "cell_type": "code",
   "execution_count": 9,
   "id": "5c224fe7",
   "metadata": {},
   "outputs": [],
   "source": [
    "# 패키지\n",
    "import numpy as np\n",
    "import pandas as pd\n",
    "import matplotlib.pyplot as plt"
   ]
  },
  {
   "cell_type": "code",
   "execution_count": 15,
   "id": "ee393302",
   "metadata": {},
   "outputs": [
    {
     "name": "stdout",
     "output_type": "stream",
     "text": [
      "division by zero\n",
      "4e+19\n"
     ]
    }
   ],
   "source": [
    "# 예외 처리\n",
    "try:\n",
    "    4/0\n",
    "except ZeroDivisionError as e:\n",
    "    print(e)\n",
    "    \n",
    "try:\n",
    "    print(4/0)\n",
    "except ZeroDivisionError as e:\n",
    "    print(4/0.0000000000000000001)"
   ]
  },
  {
   "cell_type": "code",
   "execution_count": null,
   "id": "6d0abc46",
   "metadata": {},
   "outputs": [],
   "source": []
  },
  {
   "cell_type": "code",
   "execution_count": null,
   "id": "b4bbc53c",
   "metadata": {},
   "outputs": [],
   "source": []
  },
  {
   "cell_type": "code",
   "execution_count": null,
   "id": "e2554cf3",
   "metadata": {},
   "outputs": [],
   "source": []
  },
  {
   "cell_type": "code",
   "execution_count": null,
   "id": "6b582bb2",
   "metadata": {},
   "outputs": [],
   "source": []
  },
  {
   "cell_type": "code",
   "execution_count": null,
   "id": "76311ebd",
   "metadata": {},
   "outputs": [],
   "source": []
  },
  {
   "cell_type": "code",
   "execution_count": null,
   "id": "9997e56e",
   "metadata": {},
   "outputs": [],
   "source": []
  },
  {
   "cell_type": "code",
   "execution_count": null,
   "id": "7d9ff0fd",
   "metadata": {},
   "outputs": [],
   "source": []
  },
  {
   "cell_type": "code",
   "execution_count": null,
   "id": "56869a91",
   "metadata": {},
   "outputs": [],
   "source": []
  },
  {
   "cell_type": "code",
   "execution_count": null,
   "id": "961c0bf3",
   "metadata": {},
   "outputs": [],
   "source": []
  },
  {
   "cell_type": "code",
   "execution_count": null,
   "id": "ef1780e4",
   "metadata": {},
   "outputs": [],
   "source": []
  }
 ],
 "metadata": {
  "kernelspec": {
   "display_name": "Python 3",
   "language": "python",
   "name": "python3"
  },
  "language_info": {
   "codemirror_mode": {
    "name": "ipython",
    "version": 3
   },
   "file_extension": ".py",
   "mimetype": "text/x-python",
   "name": "python",
   "nbconvert_exporter": "python",
   "pygments_lexer": "ipython3",
   "version": "3.8.8"
  }
 },
 "nbformat": 4,
 "nbformat_minor": 5
}
