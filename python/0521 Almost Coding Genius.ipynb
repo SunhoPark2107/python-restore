{
 "cells": [
  {
   "cell_type": "code",
   "execution_count": 1,
   "id": "35242f0b",
   "metadata": {},
   "outputs": [],
   "source": [
    "a = \"Life is ~~~\""
   ]
  },
  {
   "cell_type": "code",
   "execution_count": 2,
   "id": "ef4a007f",
   "metadata": {},
   "outputs": [],
   "source": [
    "a1 = a[0:4]"
   ]
  },
  {
   "cell_type": "code",
   "execution_count": 3,
   "id": "59d1b6bc",
   "metadata": {},
   "outputs": [],
   "source": [
    "a2 = a[0:5]"
   ]
  },
  {
   "cell_type": "code",
   "execution_count": 7,
   "id": "e1646f91",
   "metadata": {},
   "outputs": [
    {
     "name": "stdout",
     "output_type": "stream",
     "text": [
      "다르다\n"
     ]
    }
   ],
   "source": [
    "if a1 == a2:\n",
    "    print(\"같다\")\n",
    "else:\n",
    "    print(\"다르다\")"
   ]
  },
  {
   "cell_type": "code",
   "execution_count": 10,
   "id": "9486497d",
   "metadata": {},
   "outputs": [
    {
     "name": "stdout",
     "output_type": "stream",
     "text": [
      "Life 4\n",
      "Life  5\n"
     ]
    }
   ],
   "source": [
    "print(a1, len(a1))\n",
    "print(a2, len(a2))"
   ]
  },
  {
   "cell_type": "code",
   "execution_count": 11,
   "id": "dfa4027c",
   "metadata": {},
   "outputs": [],
   "source": [
    "words1 = \"딸기, 바나나, 수박\""
   ]
  },
  {
   "cell_type": "code",
   "execution_count": 27,
   "id": "7c87c34d",
   "metadata": {},
   "outputs": [
    {
     "name": "stdout",
     "output_type": "stream",
     "text": [
      "바나나\n"
     ]
    }
   ],
   "source": [
    "# find 함수 사용법\n",
    "# words.find('나')+2 는 2번째 '나'를 찾겠다는 의미인듯.\n",
    "\n",
    "indexOfBanana = words1.find('바')\n",
    "lastWordsBanana = words1.find('나')+2\n",
    "lastWordsBanana1 = words1.find('나')+len('바나나')-1\n",
    "bananaFromWords1 = words1[indexOfBanana:lastWordsBanana1]\n",
    "print(bananaFromWords1)"
   ]
  },
  {
   "cell_type": "code",
   "execution_count": 13,
   "id": "e21239cc",
   "metadata": {},
   "outputs": [
    {
     "name": "stdout",
     "output_type": "stream",
     "text": [
      "수박\n"
     ]
    }
   ],
   "source": [
    "wmFromWords1 = words1[9:]\n",
    "print(wmFromWords1)"
   ]
  },
  {
   "cell_type": "code",
   "execution_count": 14,
   "id": "2180fd3c",
   "metadata": {},
   "outputs": [
    {
     "name": "stdout",
     "output_type": "stream",
     "text": [
      "딸기\n"
     ]
    }
   ],
   "source": [
    "sbFromWords1 = words1[:2]\n",
    "print(sbFromWords1)"
   ]
  },
  {
   "cell_type": "code",
   "execution_count": 33,
   "id": "3d5c29b3",
   "metadata": {},
   "outputs": [
    {
     "name": "stdout",
     "output_type": "stream",
     "text": [
      "토마토\n"
     ]
    }
   ],
   "source": [
    "words2 = \"카프레제, 토마토\"\n",
    "indexOfTomato = words2.find('토')\n",
    "lastWordsTomato = words2.find('토')+len('토마토')\n",
    "birdFromWords2 = words2[indexOfTomato:lastWordsTomato]\n",
    "print(birdFromWords2)"
   ]
  },
  {
   "cell_type": "code",
   "execution_count": 37,
   "id": "1869d388",
   "metadata": {},
   "outputs": [],
   "source": [
    "a = 'Pithon'"
   ]
  },
  {
   "cell_type": "code",
   "execution_count": 38,
   "id": "7af4a1e0",
   "metadata": {},
   "outputs": [
    {
     "data": {
      "text/plain": [
       "'i'"
      ]
     },
     "execution_count": 38,
     "metadata": {},
     "output_type": "execute_result"
    }
   ],
   "source": [
    "a[1]"
   ]
  },
  {
   "cell_type": "code",
   "execution_count": 39,
   "id": "d402963d",
   "metadata": {},
   "outputs": [
    {
     "ename": "TypeError",
     "evalue": "'str' object does not support item assignment",
     "output_type": "error",
     "traceback": [
      "\u001b[1;31m---------------------------------------------------------------------------\u001b[0m",
      "\u001b[1;31mTypeError\u001b[0m                                 Traceback (most recent call last)",
      "\u001b[1;32m<ipython-input-39-46db9aa2c53d>\u001b[0m in \u001b[0;36m<module>\u001b[1;34m\u001b[0m\n\u001b[1;32m----> 1\u001b[1;33m \u001b[0ma\u001b[0m\u001b[1;33m[\u001b[0m\u001b[1;36m1\u001b[0m\u001b[1;33m]\u001b[0m \u001b[1;33m=\u001b[0m \u001b[1;34m'y'\u001b[0m    \u001b[1;31m# 에러가 남.\u001b[0m\u001b[1;33m\u001b[0m\u001b[1;33m\u001b[0m\u001b[0m\n\u001b[0m",
      "\u001b[1;31mTypeError\u001b[0m: 'str' object does not support item assignment"
     ]
    }
   ],
   "source": [
    "a[1] = 'y'    # 에러가 남.(못바꿈.)"
   ]
  },
  {
   "cell_type": "code",
   "execution_count": 41,
   "id": "eeba52f1",
   "metadata": {},
   "outputs": [
    {
     "name": "stdout",
     "output_type": "stream",
     "text": [
      "Python\n"
     ]
    }
   ],
   "source": [
    "a2 = a[:1]+\"y\"+a[2:]      # 이렇게 새로 지정해 주어야 함.(replace가 안 됨.)"
   ]
  },
  {
   "cell_type": "code",
   "execution_count": 43,
   "id": "9d1a32b7",
   "metadata": {},
   "outputs": [
    {
     "name": "stdout",
     "output_type": "stream",
     "text": [
      "Python\n"
     ]
    }
   ],
   "source": [
    "a = a2            # 실제 쓸 때는 이렇게 a2를 다시 a로 지정해 주는게 깔끔하다.\n",
    "print(a)"
   ]
  },
  {
   "cell_type": "code",
   "execution_count": 2,
   "id": "94ed46f7",
   "metadata": {},
   "outputs": [
    {
     "name": "stdout",
     "output_type": "stream",
     "text": [
      "name\tmajor\thowManyPhone\n",
      "서호준\tIT\t           2\n",
      "김한남\tBT\t           3\n"
     ]
    }
   ],
   "source": [
    "name1 = \"서호준\"; major1 = \"IT\"; howManyPhone1 = 2\n",
    "name2 = \"김한남\"; major2 = \"BT\"; howManyPhone2 = 3\n",
    "\n",
    "# tab은 데이터 형식을 표에 가깝게 만들어 준다고 생각하면 됨. ('\\t')\n",
    "# \"%12s\" => 12개의 str자리에 str(howManyPhone1)이 들어오는 것.\n",
    "\n",
    "print(\"name\"+ \"\\t\"+ \"major\" + \"\\t\" + \"howManyPhone\")\n",
    "print(name1 + \"\\t\" + major1 + \"\\t\" + \"%12s\" % str(howManyPhone1))\n",
    "print(name2 + \"\\t\" + major2 + \"\\t\" + \"%12s\" % str(howManyPhone2))"
   ]
  },
  {
   "cell_type": "code",
   "execution_count": 11,
   "id": "30c6be2c",
   "metadata": {},
   "outputs": [
    {
     "name": "stdout",
     "output_type": "stream",
     "text": [
      "120\n",
      "%s120\n",
      "       120\n",
      "1200000000\n"
     ]
    }
   ],
   "source": [
    "print(\"%s\" % \"120\")     # % 가 의미하는 것은 뒤에 있는 걸 앞으로 끌어오는 것. 그래서 \"%s\"는 문자열을 의미하므로 문자열 자리에 120이라는 str이 들어옴.\n",
    "print(\"%s\" \"120\")\n",
    "print(\"%10s\" % \"120\")   # %s 사이에 10을 넣으니까, 7칸의 공백이 생김. (120까지 포함하여 총 10칸 차지.)\n",
    "print(\"%10s\" % \"1200000000\")"
   ]
  },
  {
   "cell_type": "code",
   "execution_count": 15,
   "id": "6f285342",
   "metadata": {},
   "outputs": [
    {
     "name": "stdout",
     "output_type": "stream",
     "text": [
      "120       \n",
      "1200000000\n"
     ]
    }
   ],
   "source": [
    "print(\"%-10s\" % \"120\")\n",
    "print(\"%-10s\" % \"1200000000\")     # 이 경우 왼쪽 정렬. (7칸의 공백이 뒤에 생김.)"
   ]
  },
  {
   "cell_type": "code",
   "execution_count": 16,
   "id": "c7798445",
   "metadata": {},
   "outputs": [
    {
     "name": "stdout",
     "output_type": "stream",
     "text": [
      "120.00\n",
      "120000.00\n"
     ]
    }
   ],
   "source": [
    "print(\"%0.2f\" % 120)      # 소수점 아래 자리수 지정.(유효자리수.)\n",
    "print(\"%0.2f\" % 120000)"
   ]
  },
  {
   "cell_type": "code",
   "execution_count": 17,
   "id": "a489395d",
   "metadata": {},
   "outputs": [
    {
     "data": {
      "text/plain": [
       "'~~~~호준~~~~~~~~~2~~~~~~~~~~~~~~~호준'"
      ]
     },
     "execution_count": 17,
     "metadata": {},
     "output_type": "execute_result"
    }
   ],
   "source": [
    "\"~~~~{0}~~~~~~~~~{1}~~~~~~~~~~~~~~~{0}\".format(\"호준\",2)  # 문자열 길이 맞추고 싶을 때(?)"
   ]
  },
  {
   "cell_type": "code",
   "execution_count": 19,
   "id": "a7069bb9",
   "metadata": {},
   "outputs": [
    {
     "data": {
      "text/plain": [
       "'~~~~~~호준~~~~2~~~~2~~~'"
      ]
     },
     "execution_count": 19,
     "metadata": {},
     "output_type": "execute_result"
    }
   ],
   "source": [
    "\"~~~~~~{name}~~~~{howMany}~~~~{howMany}~~~\".format(name = \"호준\", howMany = 2)"
   ]
  },
  {
   "cell_type": "code",
   "execution_count": 22,
   "id": "2f385eb0",
   "metadata": {},
   "outputs": [
    {
     "data": {
      "text/plain": [
       "'120       '"
      ]
     },
     "execution_count": 22,
     "metadata": {},
     "output_type": "execute_result"
    }
   ],
   "source": [
    "\"{0:<10}\".format(\"120\")    # 왼쪽 정렬"
   ]
  },
  {
   "cell_type": "code",
   "execution_count": 23,
   "id": "bca6d96a",
   "metadata": {},
   "outputs": [
    {
     "data": {
      "text/plain": [
       "'       120'"
      ]
     },
     "execution_count": 23,
     "metadata": {},
     "output_type": "execute_result"
    }
   ],
   "source": [
    "\"{0:>10}\".format(\"120\")    # 오른쪽 정렬"
   ]
  },
  {
   "cell_type": "code",
   "execution_count": 24,
   "id": "e60a3662",
   "metadata": {},
   "outputs": [
    {
     "data": {
      "text/plain": [
       "'   120    '"
      ]
     },
     "execution_count": 24,
     "metadata": {},
     "output_type": "execute_result"
    }
   ],
   "source": [
    "\"{0:^10}\".format(\"120\")    # 가운데 정렬"
   ]
  },
  {
   "cell_type": "code",
   "execution_count": 25,
   "id": "d4722640",
   "metadata": {},
   "outputs": [
    {
     "data": {
      "text/plain": [
       "'_______120'"
      ]
     },
     "execution_count": 25,
     "metadata": {},
     "output_type": "execute_result"
    }
   ],
   "source": [
    "\"{0:_>10}\".format(\"120\")"
   ]
  },
  {
   "cell_type": "code",
   "execution_count": 5,
   "id": "b0a1017e",
   "metadata": {},
   "outputs": [
    {
     "data": {
      "text/plain": [
       "'나의 이름은 선호입니다. 나이는 60살 까지 살고 싶어요.'"
      ]
     },
     "execution_count": 5,
     "metadata": {},
     "output_type": "execute_result"
    }
   ],
   "source": [
    "name = \"선호\"\n",
    "age = 60\n",
    "\"나의 이름은 {0}입니다. 나이는 {1}살 까지 살고 싶어요.\".format(name, age)"
   ]
  },
  {
   "cell_type": "code",
   "execution_count": 6,
   "id": "0f36f35f",
   "metadata": {},
   "outputs": [
    {
     "data": {
      "text/plain": [
       "'나의 이름은 선호입니다. 나이는 60살 까지 살고 싶어요.'"
      ]
     },
     "execution_count": 6,
     "metadata": {},
     "output_type": "execute_result"
    }
   ],
   "source": [
    "f\"나의 이름은 {name}입니다. 나이는 {age}살 까지 살고 싶어요.\""
   ]
  },
  {
   "cell_type": "code",
   "execution_count": 7,
   "id": "2ff551f1",
   "metadata": {},
   "outputs": [
    {
     "data": {
      "text/plain": [
       "'안녕하세요 선호님, 오늘은 60일째 학습일입니다!'"
      ]
     },
     "execution_count": 7,
     "metadata": {},
     "output_type": "execute_result"
    }
   ],
   "source": [
    "f\"안녕하세요 {name}님, 오늘은 {age}일째 학습일입니다!\""
   ]
  },
  {
   "cell_type": "code",
   "execution_count": 2,
   "id": "ae4b1ab1",
   "metadata": {},
   "outputs": [
    {
     "data": {
      "text/plain": [
       "3"
      ]
     },
     "execution_count": 2,
     "metadata": {},
     "output_type": "execute_result"
    }
   ],
   "source": [
    "len(\"바나나\")"
   ]
  },
  {
   "cell_type": "code",
   "execution_count": 3,
   "id": "7d1c25f9",
   "metadata": {},
   "outputs": [
    {
     "data": {
      "text/plain": [
       "6"
      ]
     },
     "execution_count": 3,
     "metadata": {},
     "output_type": "execute_result"
    }
   ],
   "source": [
    "\"내가 가장 좋아하는 바나나는 크기가 큰 바나나 입니다. 왜냐면 작은 바나나는\\\n",
    "같은 무게를 사도 껍질로 다 버려져요.\".count(\"나\")"
   ]
  },
  {
   "cell_type": "code",
   "execution_count": 4,
   "id": "860d06a4",
   "metadata": {},
   "outputs": [
    {
     "data": {
      "text/plain": [
       "3"
      ]
     },
     "execution_count": 4,
     "metadata": {},
     "output_type": "execute_result"
    }
   ],
   "source": [
    "\"\"\"내가 가장 좋아하는 바나나는 크기가 큰 바나나 입니다. 왜냐면 작은 바나나는\n",
    "같은 무게를 사도 껍질로 다 버려져요.\"\"\".count(\"바나나\")"
   ]
  },
  {
   "cell_type": "code",
   "execution_count": 6,
   "id": "a86122fc",
   "metadata": {},
   "outputs": [],
   "source": [
    "# find 사용하는 이유 - index 했는데, 찾는 문자열이 없으면 프로그램이 뻗어버린다고 한다."
   ]
  },
  {
   "cell_type": "code",
   "execution_count": 7,
   "id": "0e3fd370",
   "metadata": {},
   "outputs": [
    {
     "data": {
      "text/plain": [
       "'a,b,c,d'"
      ]
     },
     "execution_count": 7,
     "metadata": {},
     "output_type": "execute_result"
    }
   ],
   "source": [
    "\",\".join(\"abcd\")"
   ]
  },
  {
   "cell_type": "code",
   "execution_count": 8,
   "id": "b479bf97",
   "metadata": {},
   "outputs": [
    {
     "data": {
      "text/plain": [
       "'abc,def,ghi'"
      ]
     },
     "execution_count": 8,
     "metadata": {},
     "output_type": "execute_result"
    }
   ],
   "source": [
    "\",\".join([\"abc\", \"def\",\"ghi\"])"
   ]
  },
  {
   "cell_type": "code",
   "execution_count": 9,
   "id": "8e5b2d08",
   "metadata": {},
   "outputs": [
    {
     "data": {
      "text/plain": [
       "'010-1234-5678'"
      ]
     },
     "execution_count": 9,
     "metadata": {},
     "output_type": "execute_result"
    }
   ],
   "source": [
    "# 숫자만으로 저장된 전화 번호를 DB에서 얻었다 010 1234 5678 이 번호를 -로 연결하자.\n",
    "# 010-1234-5678\n",
    "\n",
    "\"-\".join([\"010\",\"1234\",\"5678\"])\n",
    "\n",
    "\n",
    "phone_num = \"01012345678\"\n",
    "\n",
    "\n",
    "\"-\".join([])"
   ]
  },
  {
   "cell_type": "code",
   "execution_count": 17,
   "id": "39d69271",
   "metadata": {},
   "outputs": [
    {
     "data": {
      "text/plain": [
       "'010-1234-5678'"
      ]
     },
     "execution_count": 17,
     "metadata": {},
     "output_type": "execute_result"
    }
   ],
   "source": [
    "phone_num = \"01012345678\"\n",
    "first_num = \"010\"\n",
    "mid_num = phone_num[3:7]\n",
    "last_num = phone_num[7:]\n",
    "\"-\".join([\"010\", mid_num, last_num])\n",
    "\"-\".join([first_num, mid_num, last_num])   # 모두 다 변수로 바꾸어 주더라도 여러 개가 들어가려면 반드시 리스트 형태로 들어가야 한다!~!"
   ]
  },
  {
   "cell_type": "code",
   "execution_count": 19,
   "id": "14f6e9bf",
   "metadata": {},
   "outputs": [
    {
     "name": "stdout",
     "output_type": "stream",
     "text": [
      "I love chocolate. because chocolate is so sweet.\n"
     ]
    }
   ],
   "source": [
    "a = \"I love apple. because apple is so sweet.\"\n",
    "b = a.replace(\"apple\", \"chocolate\")\n",
    "print(b)"
   ]
  },
  {
   "cell_type": "code",
   "execution_count": 2,
   "id": "0e53361a",
   "metadata": {},
   "outputs": [
    {
     "name": "stdout",
     "output_type": "stream",
     "text": [
      "01012345678\n"
     ]
    }
   ],
   "source": [
    "# '010-1234-5678'   -> '01040495394'\n",
    "a = '010-1234-5678'\n",
    "b = a.replace(\"-\", \"\")\n",
    "print(b)"
   ]
  },
  {
   "cell_type": "code",
   "execution_count": 11,
   "id": "f4d7453d",
   "metadata": {},
   "outputs": [
    {
     "name": "stdout",
     "output_type": "stream",
     "text": [
      "['010', '1234', '5678']\n",
      "식별번호: 010 국번: 1234 개인번호: 5678\n"
     ]
    }
   ],
   "source": [
    "a = '010-1234-5678'\n",
    "b = a.split('-')\n",
    "print(b)\n",
    "print(\"식별번호:\", b[0], \"국번:\", b[1], \"개인번호:\", b[2])"
   ]
  },
  {
   "cell_type": "code",
   "execution_count": 19,
   "id": "ffec8ee7",
   "metadata": {},
   "outputs": [
    {
     "ename": "NameError",
     "evalue": "name 'unlist' is not defined",
     "output_type": "error",
     "traceback": [
      "\u001b[1;31m---------------------------------------------------------------------------\u001b[0m",
      "\u001b[1;31mNameError\u001b[0m                                 Traceback (most recent call last)",
      "\u001b[1;32m<ipython-input-19-188e86791811>\u001b[0m in \u001b[0;36m<module>\u001b[1;34m\u001b[0m\n\u001b[0;32m      1\u001b[0m \u001b[0ma\u001b[0m \u001b[1;33m=\u001b[0m \u001b[1;34m'010-1234-5678'\u001b[0m\u001b[1;33m\u001b[0m\u001b[1;33m\u001b[0m\u001b[0m\n\u001b[0;32m      2\u001b[0m \u001b[0mb\u001b[0m \u001b[1;33m=\u001b[0m \u001b[0ma\u001b[0m\u001b[1;33m.\u001b[0m\u001b[0msplit\u001b[0m\u001b[1;33m(\u001b[0m\u001b[1;34m'-'\u001b[0m\u001b[1;33m)\u001b[0m\u001b[1;33m\u001b[0m\u001b[1;33m\u001b[0m\u001b[0m\n\u001b[1;32m----> 3\u001b[1;33m \u001b[0munlist\u001b[0m\u001b[1;33m(\u001b[0m\u001b[0mb\u001b[0m\u001b[1;33m)\u001b[0m\u001b[1;33m\u001b[0m\u001b[1;33m\u001b[0m\u001b[0m\n\u001b[0m\u001b[0;32m      4\u001b[0m \u001b[0mfirst_num\u001b[0m \u001b[1;33m=\u001b[0m \u001b[0mb\u001b[0m\u001b[1;33m[\u001b[0m\u001b[1;36m0\u001b[0m\u001b[1;33m]\u001b[0m\u001b[1;33m\u001b[0m\u001b[1;33m\u001b[0m\u001b[0m\n\u001b[0;32m      5\u001b[0m \u001b[0mmid_num\u001b[0m \u001b[1;33m=\u001b[0m \u001b[0mb\u001b[0m\u001b[1;33m[\u001b[0m\u001b[1;36m1\u001b[0m\u001b[1;33m]\u001b[0m\u001b[1;33m\u001b[0m\u001b[1;33m\u001b[0m\u001b[0m\n",
      "\u001b[1;31mNameError\u001b[0m: name 'unlist' is not defined"
     ]
    }
   ],
   "source": [
    "a = '010-1234-5678'\n",
    "b = a.split('-')\n",
    "unlist(b)\n",
    "first_num = b[0]\n",
    "mid_num = b[1]\n",
    "last_num = b[2]\n",
    "\"-\".join(first_num, mid_num, last_num)   # 왜!! 안되는거지?"
   ]
  },
  {
   "cell_type": "code",
   "execution_count": 8,
   "id": "184a9b7e",
   "metadata": {},
   "outputs": [
    {
     "name": "stdout",
     "output_type": "stream",
     "text": [
      "[]\n",
      "[1, 2, [3, 4]]\n",
      "3\n",
      "1\n",
      "[3, 4]\n",
      "[3, 4]\n",
      "4\n"
     ]
    }
   ],
   "source": [
    "a = []    # 빈 리스트를 만드는 이유 => 일단 만들어 놓고 계속 추가하면서 사용하려고.\n",
    "print(a)\n",
    "e = [1, 2, [3, 4]]\n",
    "print(e)\n",
    "print(len(e))      # 3개가 나옴.\n",
    "print(e[0])\n",
    "print(e[2])\n",
    "print(e[-1])        # 뒤에서부터 세어서 불러올 수도 있다. e[2] 와 e[-1] 이 두 가지는 같은 것.\n",
    "print(e[2][1])     # [3, 4] 리스트에서 1번(0, 1) 데이터를 뽑아 낸 것."
   ]
  },
  {
   "cell_type": "code",
   "execution_count": 10,
   "id": "b112357f",
   "metadata": {},
   "outputs": [
    {
     "name": "stdout",
     "output_type": "stream",
     "text": [
      "[2, 3]\n"
     ]
    }
   ],
   "source": [
    "# 리스트 더하기 =>  그냥 합집합이라고 생각하면 됨. R처럼 행렬연산(매트릭스 연산)하는 것 아님.\n",
    "# list.a[1, 2, 3] + list.b[4, 5, 6] => +는 concatenate임. 따라서 [1, 2, 3, 4, 5, 6]과 같은 답이 나온다."
   ]
  },
  {
   "cell_type": "code",
   "execution_count": 12,
   "id": "b0f662a5",
   "metadata": {},
   "outputs": [
    {
     "name": "stdout",
     "output_type": "stream",
     "text": [
      "c\n",
      "[1, 2, 4]\n"
     ]
    }
   ],
   "source": [
    "str1 = \"abc\"\n",
    "print(str1[2])\n",
    "# str1[2] = \"d\"   # 문자열의 경우 오류가 남.\n",
    "a = [1, 2, 3]\n",
    "a[2] = 4\n",
    "print(a)  # 숫자의 경우에는 인덱싱으로도 붙일 수 있다."
   ]
  },
  {
   "cell_type": "code",
   "execution_count": 18,
   "id": "ef162bef",
   "metadata": {},
   "outputs": [
    {
     "name": "stdout",
     "output_type": "stream",
     "text": [
      "[1, 4, 3, 2]\n",
      "[1, 2, 3, 4]\n",
      "[1, 4, 3, 2]\n",
      "[1, 2, 3, 4]\n"
     ]
    }
   ],
   "source": [
    "# sort 와 sorted\n",
    "a = [1,4,3,2]\n",
    "# a.sort()               # sort를 돌리면 원본 데이터 다시 쓰려면 데이터 다시 불러와야 함. 이 문제를 해결해야 함.\n",
    "print(a)\n",
    "\n",
    "# 해결 방법 1\n",
    "a2 = a[:]         # 만약 a2 = a 로 했다면 그냥 두 개를 동일시 하는 것임. 따라서 a[:]로 주어야 복사됨.\n",
    "a2.sort()         # 복사본 a2를 만든 다음 a2를 활용해서 sort.\n",
    "print(a2)\n",
    "\n",
    "# 해결 방법 2\n",
    "a2 = sorted(a)\n",
    "print(a)\n",
    "print(a2)"
   ]
  },
  {
   "cell_type": "code",
   "execution_count": 24,
   "id": "834979f8",
   "metadata": {},
   "outputs": [
    {
     "name": "stdout",
     "output_type": "stream",
     "text": [
      "[4, 3, 2, 1]\n",
      "[1, 4, 3, 2]\n"
     ]
    }
   ],
   "source": [
    "a = [1, 4, 3, 2]\n",
    "# a.sort(reverse = True)\n",
    "a2 = sorted(a, reverse = True)\n",
    "print(a2)\n",
    "print(a)"
   ]
  },
  {
   "cell_type": "code",
   "execution_count": 26,
   "id": "d531b873",
   "metadata": {},
   "outputs": [
    {
     "data": {
      "text/plain": [
       "3"
      ]
     },
     "execution_count": 26,
     "metadata": {},
     "output_type": "execute_result"
    }
   ],
   "source": [
    "a = [1, 2, 3]\n",
    "a.pop()"
   ]
  },
  {
   "cell_type": "code",
   "execution_count": 27,
   "id": "81fc353d",
   "metadata": {},
   "outputs": [
    {
     "data": {
      "text/plain": [
       "[1, 2]"
      ]
     },
     "execution_count": 27,
     "metadata": {},
     "output_type": "execute_result"
    }
   ],
   "source": [
    "a    # pop하고 났더니 3이 사라짐."
   ]
  },
  {
   "cell_type": "code",
   "execution_count": 28,
   "id": "74935688",
   "metadata": {},
   "outputs": [
    {
     "data": {
      "text/plain": [
       "2"
      ]
     },
     "execution_count": 28,
     "metadata": {},
     "output_type": "execute_result"
    }
   ],
   "source": [
    "a = [1, 2, 3]\n",
    "a.pop(1)   # n번째 데이터가 튀어나옴."
   ]
  },
  {
   "cell_type": "code",
   "execution_count": 30,
   "id": "76dfc284",
   "metadata": {},
   "outputs": [
    {
     "name": "stdout",
     "output_type": "stream",
     "text": [
      "[1, 2, 3, 4]\n",
      "[1, 2, 3, 4]\n"
     ]
    }
   ],
   "source": [
    "a1 = [1, 2]; a2 = [3, 4]\n",
    "new1 = a1+a2 ; print(new1)   # 두 리스트를 합친다.\n",
    "a1.extend(a2) ; print(a1)    # a1을 기준으로 () 안의 객체가 확장된다."
   ]
  },
  {
   "cell_type": "code",
   "execution_count": 31,
   "id": "a7334eaf",
   "metadata": {},
   "outputs": [],
   "source": [
    "my_dic1 = {}"
   ]
  },
  {
   "cell_type": "code",
   "execution_count": 32,
   "id": "e662a9a1",
   "metadata": {},
   "outputs": [],
   "source": [
    "my_dic1[\"banana\"] = \"노랗고 달콤한 과일\""
   ]
  },
  {
   "cell_type": "code",
   "execution_count": 33,
   "id": "ea87e57c",
   "metadata": {},
   "outputs": [],
   "source": [
    "my_dic1[\"strawberry\"] = \"새콤 달콤 빨간 과일\""
   ]
  },
  {
   "cell_type": "code",
   "execution_count": 34,
   "id": "5daedc68",
   "metadata": {},
   "outputs": [
    {
     "data": {
      "text/plain": [
       "{'banana': '노랗고 달콤한 과일', 'strawberry': '새콤 달콤 빨간 과일'}"
      ]
     },
     "execution_count": 34,
     "metadata": {},
     "output_type": "execute_result"
    }
   ],
   "source": [
    "my_dic1"
   ]
  },
  {
   "cell_type": "code",
   "execution_count": 36,
   "id": "e41d9298",
   "metadata": {},
   "outputs": [],
   "source": [
    "# del my_dic1[0]   # 에러가 남.\n",
    "del my_dic1[\"banana\"]   # 이렇게 해야 지워짐."
   ]
  },
  {
   "cell_type": "code",
   "execution_count": 37,
   "id": "9cfb3607",
   "metadata": {},
   "outputs": [
    {
     "data": {
      "text/plain": [
       "{'strawberry': '새콤 달콤 빨간 과일'}"
      ]
     },
     "execution_count": 37,
     "metadata": {},
     "output_type": "execute_result"
    }
   ],
   "source": [
    "my_dic1     # dictionary 는 순서가 없음. 따라서 [] 순서 인덱스로 불러오면 안 됨."
   ]
  },
  {
   "cell_type": "code",
   "execution_count": 38,
   "id": "9d73b7cf",
   "metadata": {},
   "outputs": [],
   "source": [
    "my_dic1[\"banana\"] = '노랗고 달콤한 과일'"
   ]
  },
  {
   "cell_type": "code",
   "execution_count": 39,
   "id": "1ac0a268",
   "metadata": {},
   "outputs": [
    {
     "data": {
      "text/plain": [
       "dict_keys(['strawberry', 'banana'])"
      ]
     },
     "execution_count": 39,
     "metadata": {},
     "output_type": "execute_result"
    }
   ],
   "source": [
    "my_dic1.keys()      # dictioanry 목록의 key만 출력해 줌."
   ]
  },
  {
   "cell_type": "code",
   "execution_count": 40,
   "id": "a75190fc",
   "metadata": {},
   "outputs": [],
   "source": [
    "# 딕셔너리 주의사항 => 하나의 키에 2개의 다른 값을 넣으면, 먼저 넣은 값은 무시되고 최신에 넣은 값만 유지된다. (중복 허용하지 않음.)"
   ]
  },
  {
   "cell_type": "code",
   "execution_count": 41,
   "id": "8d956b04",
   "metadata": {},
   "outputs": [
    {
     "name": "stdout",
     "output_type": "stream",
     "text": [
      "참\n",
      "참\n"
     ]
    }
   ],
   "source": [
    "# if, for, while문 등은 \":\"을 반드시 적어 줌.\n",
    "if 3>1:\n",
    "    print(\"참\")\n",
    "if 4<10:\n",
    "    print(\"참\")        #파이썬의 단점 중 하나는, 들여쓰기가 자동으로 안 됨.(문이 끝나면 들여쓰기 직접 지워줘야 함.)\n",
    "                       # 논리의 종속관계가 들여쓰기로 구분되므로 들여쓰기 잘 관리해 주어야 함.(들여쓰기 잘못 쓰면 로직이 바뀜.)"
   ]
  },
  {
   "cell_type": "code",
   "execution_count": 42,
   "id": "e0a26edd",
   "metadata": {},
   "outputs": [
    {
     "name": "stdout",
     "output_type": "stream",
     "text": [
      "거짓\n"
     ]
    }
   ],
   "source": [
    "if 3<1:\n",
    "    print(\"참\")\n",
    "else:                         # else에도 \":\"콜론 붙여 줘야 하는 것 까먹지 말기!!\n",
    "    print(\"거짓\")"
   ]
  },
  {
   "cell_type": "code",
   "execution_count": 43,
   "id": "93ef8e7c",
   "metadata": {},
   "outputs": [
    {
     "name": "stdout",
     "output_type": "stream",
     "text": [
      "둘은 같지 않다.\n"
     ]
    }
   ],
   "source": [
    "a = 1\n",
    "b = 2\n",
    "if a == b:\n",
    "    print(\"두 수가 같다.\")\n",
    "else:\n",
    "    print(\"둘은 같지 않다.\")"
   ]
  },
  {
   "cell_type": "code",
   "execution_count": 45,
   "id": "7b4c1e9e",
   "metadata": {},
   "outputs": [
    {
     "data": {
      "text/plain": [
       "True"
      ]
     },
     "execution_count": 45,
     "metadata": {},
     "output_type": "execute_result"
    }
   ],
   "source": [
    "1 in [1, 2, 3]"
   ]
  },
  {
   "cell_type": "code",
   "execution_count": 46,
   "id": "50d2d02c",
   "metadata": {},
   "outputs": [
    {
     "data": {
      "text/plain": [
       "False"
      ]
     },
     "execution_count": 46,
     "metadata": {},
     "output_type": "execute_result"
    }
   ],
   "source": [
    "1 not in [1, 2, 3]"
   ]
  },
  {
   "cell_type": "code",
   "execution_count": null,
   "id": "555c5d06",
   "metadata": {},
   "outputs": [],
   "source": []
  }
 ],
 "metadata": {
  "kernelspec": {
   "display_name": "Python 3",
   "language": "python",
   "name": "python3"
  },
  "language_info": {
   "codemirror_mode": {
    "name": "ipython",
    "version": 3
   },
   "file_extension": ".py",
   "mimetype": "text/x-python",
   "name": "python",
   "nbconvert_exporter": "python",
   "pygments_lexer": "ipython3",
   "version": "3.8.8"
  }
 },
 "nbformat": 4,
 "nbformat_minor": 5
}
