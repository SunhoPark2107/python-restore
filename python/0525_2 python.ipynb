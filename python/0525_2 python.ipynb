{
 "cells": [
  {
   "cell_type": "code",
   "execution_count": 16,
   "id": "ce520bb2",
   "metadata": {},
   "outputs": [
    {
     "name": "stdout",
     "output_type": "stream",
     "text": [
      "안녕하세요5\n",
      "안녕하세요1\n",
      "안녕하세요2\n",
      "안녕하세요3\n",
      "안녕하세요4\n",
      "안녕하세요1\n",
      "안녕하세요2\n",
      "안녕하세요3\n",
      "안녕하세요4\n",
      "안녕하세요1\n",
      "안녕하세요2\n",
      "안녕하세요3\n",
      "안녕하세요4\n"
     ]
    }
   ],
   "source": [
    "def hello_5():\n",
    "    print(\"안녕하세요1\")\n",
    "    print(\"안녕하세요2\")\n",
    "    print(\"안녕하세요3\")\n",
    "    print(\"안녕하세요4\")\n",
    "print(\"안녕하세요5\")          # def 도 \":\" 빼먹지 말고, 들여쓰기도 잘 해주자!\n",
    "\n",
    "hello_5()\n",
    "hello_5()\n",
    "hello_5()"
   ]
  },
  {
   "cell_type": "code",
   "execution_count": 17,
   "id": "cef23305",
   "metadata": {},
   "outputs": [
    {
     "name": "stdout",
     "output_type": "stream",
     "text": [
      "숫자 1: 1\n",
      "숫자 2: 3\n",
      "4\n"
     ]
    }
   ],
   "source": [
    "def add(a, b):\n",
    "    c = a + b\n",
    "    return c\n",
    "\n",
    "num1 = int(input(\"숫자 1: \"))\n",
    "num2 = int(input(\"숫자 2: \"))\n",
    "result = add(num1, num2)\n",
    "print(result)"
   ]
  },
  {
   "cell_type": "code",
   "execution_count": 20,
   "id": "f3273909",
   "metadata": {},
   "outputs": [
    {
     "name": "stdout",
     "output_type": "stream",
     "text": [
      "hi\n"
     ]
    }
   ],
   "source": [
    "def say_hi():\n",
    "    return 'hi'\n",
    "\n",
    "print(say_hi())"
   ]
  },
  {
   "cell_type": "code",
   "execution_count": 21,
   "id": "324e8833",
   "metadata": {},
   "outputs": [
    {
     "name": "stdout",
     "output_type": "stream",
     "text": [
      "hi\n"
     ]
    }
   ],
   "source": [
    "def say_hi_DC():\n",
    "    print(\"hi\")\n",
    "\n",
    "say_hi_DC()"
   ]
  },
  {
   "cell_type": "code",
   "execution_count": 25,
   "id": "8e0a02e1",
   "metadata": {},
   "outputs": [
    {
     "name": "stdout",
     "output_type": "stream",
     "text": [
      "hi\n"
     ]
    },
    {
     "ename": "NameError",
     "evalue": "name 'a' is not defined",
     "output_type": "error",
     "traceback": [
      "\u001b[1;31m---------------------------------------------------------------------------\u001b[0m",
      "\u001b[1;31mNameError\u001b[0m                                 Traceback (most recent call last)",
      "\u001b[1;32m<ipython-input-25-02b8edcddb8e>\u001b[0m in \u001b[0;36m<module>\u001b[1;34m\u001b[0m\n\u001b[0;32m      3\u001b[0m \u001b[1;33m\u001b[0m\u001b[0m\n\u001b[0;32m      4\u001b[0m \u001b[0mb\u001b[0m \u001b[1;33m=\u001b[0m \u001b[0msay_hi_DC2\u001b[0m\u001b[1;33m(\u001b[0m\u001b[1;34m\"hi\"\u001b[0m\u001b[1;33m)\u001b[0m\u001b[1;33m\u001b[0m\u001b[1;33m\u001b[0m\u001b[0m\n\u001b[1;32m----> 5\u001b[1;33m \u001b[0mprint\u001b[0m\u001b[1;33m(\u001b[0m\u001b[0ma\u001b[0m\u001b[1;33m)\u001b[0m\u001b[1;33m\u001b[0m\u001b[1;33m\u001b[0m\u001b[0m\n\u001b[0m\u001b[0;32m      6\u001b[0m \u001b[0mprint\u001b[0m\u001b[1;33m(\u001b[0m\u001b[0mb\u001b[0m\u001b[1;33m)\u001b[0m\u001b[1;33m\u001b[0m\u001b[1;33m\u001b[0m\u001b[0m\n",
      "\u001b[1;31mNameError\u001b[0m: name 'a' is not defined"
     ]
    }
   ],
   "source": [
    "def say_hi_DC2(a):\n",
    "    print(a)\n",
    "\n",
    "b = say_hi_DC2(\"hi\")\n",
    "print(b)\n",
    "\n",
    "\n",
    "##### None 과 False(0) 는 엄연히 다르다! None 은 아무것도 없는거고, False는 0의 값이 있는 것."
   ]
  },
  {
   "cell_type": "code",
   "execution_count": 27,
   "id": "ef7ec895",
   "metadata": {},
   "outputs": [
    {
     "name": "stdout",
     "output_type": "stream",
     "text": [
      "2\n",
      "-2\n",
      "2\n",
      "2\n"
     ]
    }
   ],
   "source": [
    "def sub2(a, b):\n",
    "    return a - b\n",
    "print(sub2(4, 2))\n",
    "print(sub2(2, 4))\n",
    "print(sub2(a = 4, b = 2))\n",
    "print(sub2(b = 2, a = 4))"
   ]
  },
  {
   "cell_type": "code",
   "execution_count": 28,
   "id": "05941ef2",
   "metadata": {},
   "outputs": [
    {
     "name": "stdout",
     "output_type": "stream",
     "text": [
      "3\n",
      "10\n"
     ]
    }
   ],
   "source": [
    "def add_many(*a):\n",
    "    result = 0\n",
    "    for item in a:\n",
    "        result += item\n",
    "    return result\n",
    "print(add_many(1, 2))\n",
    "print(add_many(1, 2, 3, 4))"
   ]
  },
  {
   "cell_type": "code",
   "execution_count": 31,
   "id": "3d5a1c6c",
   "metadata": {},
   "outputs": [
    {
     "ename": "TypeError",
     "evalue": "add_many() missing 1 required keyword-only argument: 'mode'",
     "output_type": "error",
     "traceback": [
      "\u001b[1;31m---------------------------------------------------------------------------\u001b[0m",
      "\u001b[1;31mTypeError\u001b[0m                                 Traceback (most recent call last)",
      "\u001b[1;32m<ipython-input-31-303541ee9e3b>\u001b[0m in \u001b[0;36m<module>\u001b[1;34m\u001b[0m\n\u001b[0;32m      7\u001b[0m         \u001b[1;32mfor\u001b[0m \u001b[0mitem\u001b[0m \u001b[1;32min\u001b[0m \u001b[0ma\u001b[0m\u001b[1;33m:\u001b[0m \u001b[0mresult\u001b[0m \u001b[1;33m+=\u001b[0m \u001b[0mitem\u001b[0m\u001b[1;33m\u001b[0m\u001b[1;33m\u001b[0m\u001b[0m\n\u001b[0;32m      8\u001b[0m     \u001b[1;32mreturn\u001b[0m \u001b[0mresult\u001b[0m\u001b[1;33m\u001b[0m\u001b[1;33m\u001b[0m\u001b[0m\n\u001b[1;32m----> 9\u001b[1;33m \u001b[0mprint\u001b[0m\u001b[1;33m(\u001b[0m\u001b[0madd_many\u001b[0m\u001b[1;33m(\u001b[0m\u001b[1;36m1\u001b[0m\u001b[1;33m,\u001b[0m \u001b[1;36m2\u001b[0m\u001b[1;33m,\u001b[0m \u001b[1;34m\"sum\"\u001b[0m\u001b[1;33m)\u001b[0m\u001b[1;33m)\u001b[0m\u001b[1;33m\u001b[0m\u001b[1;33m\u001b[0m\u001b[0m\n\u001b[0m\u001b[0;32m     10\u001b[0m \u001b[0mprint\u001b[0m\u001b[1;33m(\u001b[0m\u001b[0madd_many\u001b[0m\u001b[1;33m(\u001b[0m\u001b[1;36m1\u001b[0m\u001b[1;33m,\u001b[0m \u001b[1;36m2\u001b[0m\u001b[1;33m,\u001b[0m \u001b[1;36m3\u001b[0m\u001b[1;33m,\u001b[0m \u001b[1;36m4\u001b[0m\u001b[1;33m,\u001b[0m \u001b[1;34m\"mul\"\u001b[0m\u001b[1;33m)\u001b[0m\u001b[1;33m)\u001b[0m\u001b[1;33m\u001b[0m\u001b[1;33m\u001b[0m\u001b[0m\n",
      "\u001b[1;31mTypeError\u001b[0m: add_many() missing 1 required keyword-only argument: 'mode'"
     ]
    }
   ],
   "source": [
    "# 안 돌아가는 코드\n",
    "# 이유는?\n",
    "# *a가 mode보다 먼저 나왔기 때문에.(?)\n",
    "# 뭐... 대충 순서가 중요하다고 생각하자. 컴퓨터는 바보래용 메롱메롱\n",
    "\n",
    "def add_many(*a, mode):\n",
    "    if mode == \"sum\":\n",
    "        result = 0\n",
    "        for item in a: result += item\n",
    "    elif mode == \"mul\":\n",
    "        result = 1\n",
    "        for item in a: result += item\n",
    "    return result\n",
    "print(add_many(1, 2, \"sum\"))\n",
    "print(add_many(1, 2, 3, 4, \"mul\"))"
   ]
  },
  {
   "cell_type": "code",
   "execution_count": 34,
   "id": "e7b6e9ab",
   "metadata": {},
   "outputs": [
    {
     "name": "stdout",
     "output_type": "stream",
     "text": [
      "3\n",
      "11\n"
     ]
    }
   ],
   "source": [
    "def add_many(mode, *a):\n",
    "    if mode == \"sum\":\n",
    "        result = 0\n",
    "        for item in a: result += item\n",
    "    elif mode == \"mul\":\n",
    "        result = 1\n",
    "        for item in a: result += item\n",
    "    return result\n",
    "print(add_many(\"sum\", 1, 2))\n",
    "print(add_many(\"mul\", 1, 2, 3, 4))"
   ]
  },
  {
   "cell_type": "code",
   "execution_count": 35,
   "id": "0970da32",
   "metadata": {},
   "outputs": [
    {
     "name": "stdout",
     "output_type": "stream",
     "text": [
      "{'a': 1}\n"
     ]
    }
   ],
   "source": [
    "def print_kwa(**a):     # 별이 두 개면 dictionary처리가 된다.\n",
    "    print(a)\n",
    "print_kwa(a = 1)"
   ]
  },
  {
   "cell_type": "code",
   "execution_count": 46,
   "id": "1bce6ba3",
   "metadata": {},
   "outputs": [
    {
     "name": "stdout",
     "output_type": "stream",
     "text": [
      "c:3, d:2\n",
      "3\n"
     ]
    }
   ],
   "source": [
    "def add2(a, b):\n",
    "    return a+b\n",
    "\n",
    "def add_and_mul(a, b):\n",
    "    return a+b, a*b\n",
    "\n",
    "c, d = add_and_mul(1, 2)\n",
    "print(\"c:\"+str(c)+\", d:\"+str(d))\n",
    "\n",
    "c = add2(1, 2)\n",
    "print(c)"
   ]
  },
  {
   "cell_type": "code",
   "execution_count": 48,
   "id": "fd550d4c",
   "metadata": {},
   "outputs": [
    {
     "name": "stdout",
     "output_type": "stream",
     "text": [
      "c:3, d:(3, 2)\n"
     ]
    }
   ],
   "source": [
    "def add_and_mul(a, b):\n",
    "    return a+b, a*b\n",
    "\n",
    "d = add_and_mul(1, 2)               # 이렇게 return값은 두갠데 변수지정 하나만 하면 이상하게 나온다.\n",
    "print(\"c:\"+str(c)+\", d:\"+str(d))"
   ]
  },
  {
   "cell_type": "code",
   "execution_count": 50,
   "id": "29e03b77",
   "metadata": {},
   "outputs": [
    {
     "name": "stdout",
     "output_type": "stream",
     "text": [
      "2 3 1 2\n",
      "2 3 4 2\n",
      "2 3 4 5\n"
     ]
    }
   ],
   "source": [
    "def my_classify(a, b, c = 1, d = 2):\n",
    "    print(a,b,c,d)\n",
    "my_classify(2, 3)\n",
    "my_classify(2, 3, 4)             # 기본값 대신 입력한 수가 알아서 들어감.\n",
    "my_classify(2, 3, 4, 5)\n"
   ]
  },
  {
   "cell_type": "code",
   "execution_count": 52,
   "id": "e2a4b63b",
   "metadata": {
    "scrolled": true
   },
   "outputs": [
    {
     "ename": "SyntaxError",
     "evalue": "non-default argument follows default argument (<ipython-input-52-3948eacd2123>, line 1)",
     "output_type": "error",
     "traceback": [
      "\u001b[1;36m  File \u001b[1;32m\"<ipython-input-52-3948eacd2123>\"\u001b[1;36m, line \u001b[1;32m1\u001b[0m\n\u001b[1;33m    def my_classify(a, b= 1, c, d = 2):\u001b[0m\n\u001b[1;37m                    ^\u001b[0m\n\u001b[1;31mSyntaxError\u001b[0m\u001b[1;31m:\u001b[0m non-default argument follows default argument\n"
     ]
    }
   ],
   "source": [
    "def my_classify(a, b= 1, c, d = 2):              # default 뒤에 사용자 정의 값이 올 수 없음. 순서의 문제.\n",
    "                                                 # default 값은 무조건 뒤로 가야 한다.\n",
    "    print(a,b,c,d)\n",
    "my_classify(2, 3)   "
   ]
  },
  {
   "cell_type": "code",
   "execution_count": 5,
   "id": "82b46537",
   "metadata": {},
   "outputs": [
    {
     "name": "stdout",
     "output_type": "stream",
     "text": [
      "None\n"
     ]
    }
   ],
   "source": [
    "a = 1             # 전역변수\n",
    "def vartest(a):\n",
    "    a = a + 1     # vartest함수의 지역변수.\n",
    "a = vartest(a)\n",
    "print(a)"
   ]
  },
  {
   "cell_type": "code",
   "execution_count": 12,
   "id": "fb512c63",
   "metadata": {},
   "outputs": [
    {
     "name": "stdout",
     "output_type": "stream",
     "text": [
      "2\n"
     ]
    }
   ],
   "source": [
    "a = 1             # 전역변수\n",
    "def vartest(a):\n",
    "    a = a + 1     # vartest함수의 지역변수.\n",
    "    return a\n",
    "a = vartest(a)\n",
    "print(a)"
   ]
  },
  {
   "cell_type": "code",
   "execution_count": 8,
   "id": "31e86dc3",
   "metadata": {},
   "outputs": [
    {
     "name": "stdout",
     "output_type": "stream",
     "text": [
      "2\n"
     ]
    }
   ],
   "source": [
    "a = 1             # 전역변수 (global은 함부로 바꾸지 않는 게 좋다!)\n",
    "def vartest():\n",
    "    global a\n",
    "    a = a + 1\n",
    "vartest()\n",
    "print(a)"
   ]
  },
  {
   "cell_type": "code",
   "execution_count": 14,
   "id": "69c43b1c",
   "metadata": {},
   "outputs": [
    {
     "name": "stdout",
     "output_type": "stream",
     "text": [
      "7\n"
     ]
    }
   ],
   "source": [
    "# 간단한! 함수를 만들때 사용되는 lambda 함수\n",
    "add_lam = lambda a, b : a + b\n",
    "res = add_lam(3, 4)\n",
    "print(res)"
   ]
  },
  {
   "cell_type": "code",
   "execution_count": null,
   "id": "abe7e83d",
   "metadata": {},
   "outputs": [],
   "source": [
    "# def와 lambda의 코드 비교.\n",
    "\n",
    "def add(a, b):\n",
    "    return a+b\n",
    "\n",
    "add_lam = lambda a, b : a + b\n",
    "res = add_lam(3, 4)"
   ]
  },
  {
   "cell_type": "code",
   "execution_count": 15,
   "id": "fb7ad2aa",
   "metadata": {},
   "outputs": [
    {
     "name": "stdout",
     "output_type": "stream",
     "text": [
      "a b\n",
      "ab\n",
      "ab\n"
     ]
    }
   ],
   "source": [
    "print(\"a\", \"b\")\n",
    "print(\"a\" + \"b\")\n",
    "print(\"a\" \"b\")"
   ]
  },
  {
   "cell_type": "code",
   "execution_count": 16,
   "id": "e8936f32",
   "metadata": {},
   "outputs": [
    {
     "name": "stdout",
     "output_type": "stream",
     "text": [
      "a b\n"
     ]
    }
   ],
   "source": [
    "print(\"a\", end = \" \")\n",
    "print(\"b\")"
   ]
  },
  {
   "cell_type": "code",
   "execution_count": 19,
   "id": "b7d64ed5",
   "metadata": {},
   "outputs": [
    {
     "name": "stdout",
     "output_type": "stream",
     "text": [
      "a b c\n",
      "a/b/c\n"
     ]
    }
   ],
   "source": [
    "print(\"a\", \"b\", \"c\")\n",
    "print(\"a\", \"b\", \"c\", sep = \"/\")"
   ]
  },
  {
   "cell_type": "code",
   "execution_count": 21,
   "id": "5a323f45",
   "metadata": {},
   "outputs": [],
   "source": [
    "f = open(\"새파일.txt\", \"w\")\n",
    "f.close()         \n",
    "# 항상 열었으면 닫는 것이 중요하다. 열었던 파일 닫지 않고 다시 사용하려고 하면 오류가 나기 때문이다."
   ]
  },
  {
   "cell_type": "code",
   "execution_count": 25,
   "id": "80a76c3c",
   "metadata": {},
   "outputs": [],
   "source": [
    "f = open(\"c:/테스트폴더/새파일.txt\", \"w\")\n",
    "f.write(\"안녕 ^ㅁ^ \\n기분좋은 하루 보내~~~\")\n",
    "f.close()"
   ]
  },
  {
   "cell_type": "code",
   "execution_count": 33,
   "id": "54e24615",
   "metadata": {},
   "outputs": [
    {
     "name": "stdout",
     "output_type": "stream",
     "text": [
      "['안녕 :D\\n', '헤헤\\n', '기분좋은 하루 보내~~~']\n"
     ]
    }
   ],
   "source": [
    "f = open(\"c:/테스트폴더/새파일.txt\", \"r\")\n",
    "line1 = f.readlines()\n",
    "print(line1)\n",
    "f.close()"
   ]
  },
  {
   "cell_type": "code",
   "execution_count": 13,
   "id": "e8b70ac1",
   "metadata": {},
   "outputs": [
    {
     "name": "stdout",
     "output_type": "stream",
     "text": [
      "['안녕 :D \\n', '헤헤 \\n', '기분좋은 하루 보내~~~ ㅋㅋㅋ']\n",
      "['안녕 :D ', '헤헤 ', '기분좋은 하루 보내~~~ ㅋㅋㅋ']\n"
     ]
    }
   ],
   "source": [
    "f = open(\"c:/테스트폴더/새파일.txt\", \"r\")\n",
    "list1 = f.readlines()\n",
    "print(list1)\n",
    "\n",
    "list2 = []\n",
    "for item in list1:\n",
    "    processed = item.replace(\"\\n\", \"\")\n",
    "    list2.append(processed)\n",
    "    \n",
    "print(list2)"
   ]
  },
  {
   "cell_type": "code",
   "execution_count": 14,
   "id": "e8cbb3aa",
   "metadata": {},
   "outputs": [
    {
     "name": "stdout",
     "output_type": "stream",
     "text": [
      "['안녕 :D \\n', '헤헤 \\n', '기분좋은 하루 보내~~~ ']\n",
      "['안녕 :D ', '헤헤 ', '기분좋은 하루 보내~~~ ']\n"
     ]
    }
   ],
   "source": [
    "f = open(\"C:\\테스트폴더\\새파일.txt\", \"r\")\n",
    "lines = f.readlines()\n",
    "print(lines)\n",
    "refined_list = []\n",
    "for item in lines:\n",
    "    replace_words = item.replace(\"\\n\",\"\")\n",
    "    refined_list.append(replace_words)\n",
    "print(refined_list)"
   ]
  },
  {
   "cell_type": "code",
   "execution_count": null,
   "id": "10e410b3",
   "metadata": {},
   "outputs": [],
   "source": []
  },
  {
   "cell_type": "code",
   "execution_count": null,
   "id": "daf88540",
   "metadata": {},
   "outputs": [],
   "source": []
  },
  {
   "cell_type": "code",
   "execution_count": null,
   "id": "708266a6",
   "metadata": {},
   "outputs": [],
   "source": []
  },
  {
   "cell_type": "code",
   "execution_count": null,
   "id": "b301fa0a",
   "metadata": {},
   "outputs": [],
   "source": []
  },
  {
   "cell_type": "code",
   "execution_count": null,
   "id": "16b81731",
   "metadata": {},
   "outputs": [],
   "source": []
  },
  {
   "cell_type": "code",
   "execution_count": null,
   "id": "c4b7d4f6",
   "metadata": {},
   "outputs": [],
   "source": []
  }
 ],
 "metadata": {
  "kernelspec": {
   "display_name": "Python 3",
   "language": "python",
   "name": "python3"
  },
  "language_info": {
   "codemirror_mode": {
    "name": "ipython",
    "version": 3
   },
   "file_extension": ".py",
   "mimetype": "text/x-python",
   "name": "python",
   "nbconvert_exporter": "python",
   "pygments_lexer": "ipython3",
   "version": "3.8.8"
  }
 },
 "nbformat": 4,
 "nbformat_minor": 5
}
