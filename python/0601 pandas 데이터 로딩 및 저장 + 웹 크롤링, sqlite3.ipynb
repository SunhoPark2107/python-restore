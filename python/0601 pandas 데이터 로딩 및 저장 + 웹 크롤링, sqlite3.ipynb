{
 "cells": [
  {
   "cell_type": "code",
   "execution_count": 1,
   "id": "01a27ecc",
   "metadata": {},
   "outputs": [],
   "source": [
    "# chapter 6 데이터 로딩과 저장, 파일 형식\n",
    "# 데이터 읽고 쓰기"
   ]
  },
  {
   "cell_type": "code",
   "execution_count": 2,
   "id": "5586590a",
   "metadata": {
    "scrolled": true
   },
   "outputs": [
    {
     "data": {
      "text/html": [
       "<div>\n",
       "<style scoped>\n",
       "    .dataframe tbody tr th:only-of-type {\n",
       "        vertical-align: middle;\n",
       "    }\n",
       "\n",
       "    .dataframe tbody tr th {\n",
       "        vertical-align: top;\n",
       "    }\n",
       "\n",
       "    .dataframe thead th {\n",
       "        text-align: right;\n",
       "    }\n",
       "</style>\n",
       "<table border=\"1\" class=\"dataframe\">\n",
       "  <thead>\n",
       "    <tr style=\"text-align: right;\">\n",
       "      <th></th>\n",
       "      <th>a</th>\n",
       "      <th>b</th>\n",
       "      <th>c</th>\n",
       "      <th>d</th>\n",
       "      <th>message</th>\n",
       "    </tr>\n",
       "  </thead>\n",
       "  <tbody>\n",
       "    <tr>\n",
       "      <th>0</th>\n",
       "      <td>1</td>\n",
       "      <td>2</td>\n",
       "      <td>3</td>\n",
       "      <td>4</td>\n",
       "      <td>hello</td>\n",
       "    </tr>\n",
       "    <tr>\n",
       "      <th>1</th>\n",
       "      <td>5</td>\n",
       "      <td>6</td>\n",
       "      <td>7</td>\n",
       "      <td>8</td>\n",
       "      <td>world</td>\n",
       "    </tr>\n",
       "    <tr>\n",
       "      <th>2</th>\n",
       "      <td>9</td>\n",
       "      <td>10</td>\n",
       "      <td>11</td>\n",
       "      <td>12</td>\n",
       "      <td>foo</td>\n",
       "    </tr>\n",
       "  </tbody>\n",
       "</table>\n",
       "</div>"
      ],
      "text/plain": [
       "   a   b   c   d message\n",
       "0  1   2   3   4   hello\n",
       "1  5   6   7   8   world\n",
       "2  9  10  11  12     foo"
      ]
     },
     "execution_count": 2,
     "metadata": {},
     "output_type": "execute_result"
    }
   ],
   "source": [
    "import pandas as pd\n",
    "df = pd.read_csv('examples/ex1.csv')\n",
    "df"
   ]
  },
  {
   "cell_type": "code",
   "execution_count": 3,
   "id": "2287f387",
   "metadata": {},
   "outputs": [],
   "source": [
    "# 만약 csv파일이 \",\"로 구분되어 있지 않고 \"/\" 등 다른 기호로 구분되어있는 경우\n",
    "# df = pd.read_csv('examples/ex1.csv', sep = \"/\")"
   ]
  },
  {
   "cell_type": "code",
   "execution_count": 4,
   "id": "6635af68",
   "metadata": {},
   "outputs": [
    {
     "data": {
      "text/html": [
       "<div>\n",
       "<style scoped>\n",
       "    .dataframe tbody tr th:only-of-type {\n",
       "        vertical-align: middle;\n",
       "    }\n",
       "\n",
       "    .dataframe tbody tr th {\n",
       "        vertical-align: top;\n",
       "    }\n",
       "\n",
       "    .dataframe thead th {\n",
       "        text-align: right;\n",
       "    }\n",
       "</style>\n",
       "<table border=\"1\" class=\"dataframe\">\n",
       "  <thead>\n",
       "    <tr style=\"text-align: right;\">\n",
       "      <th></th>\n",
       "      <th>A</th>\n",
       "      <th>B</th>\n",
       "      <th>C</th>\n",
       "    </tr>\n",
       "  </thead>\n",
       "  <tbody>\n",
       "    <tr>\n",
       "      <th>aaa</th>\n",
       "      <td>-0.264438</td>\n",
       "      <td>-1.026059</td>\n",
       "      <td>-0.619500</td>\n",
       "    </tr>\n",
       "    <tr>\n",
       "      <th>bbb</th>\n",
       "      <td>0.927272</td>\n",
       "      <td>0.302904</td>\n",
       "      <td>-0.032399</td>\n",
       "    </tr>\n",
       "    <tr>\n",
       "      <th>ccc</th>\n",
       "      <td>-0.264273</td>\n",
       "      <td>-0.386314</td>\n",
       "      <td>-0.217601</td>\n",
       "    </tr>\n",
       "    <tr>\n",
       "      <th>ddd</th>\n",
       "      <td>-0.871858</td>\n",
       "      <td>-0.348382</td>\n",
       "      <td>1.100491</td>\n",
       "    </tr>\n",
       "  </tbody>\n",
       "</table>\n",
       "</div>"
      ],
      "text/plain": [
       "            A         B         C\n",
       "aaa -0.264438 -1.026059 -0.619500\n",
       "bbb  0.927272  0.302904 -0.032399\n",
       "ccc -0.264273 -0.386314 -0.217601\n",
       "ddd -0.871858 -0.348382  1.100491"
      ]
     },
     "execution_count": 4,
     "metadata": {},
     "output_type": "execute_result"
    }
   ],
   "source": [
    "res = pd.read_table(\"examples/ex3.txt\", sep = \"\\s+\")      # sep = \"\\s+\"  => 공백이 여러 개 있어요. 잘 좀 고려해서 읽어주세요.\n",
    "res"
   ]
  },
  {
   "cell_type": "code",
   "execution_count": 5,
   "id": "d061ddcd",
   "metadata": {},
   "outputs": [
    {
     "data": {
      "text/html": [
       "<div>\n",
       "<style scoped>\n",
       "    .dataframe tbody tr th:only-of-type {\n",
       "        vertical-align: middle;\n",
       "    }\n",
       "\n",
       "    .dataframe tbody tr th {\n",
       "        vertical-align: top;\n",
       "    }\n",
       "\n",
       "    .dataframe thead th {\n",
       "        text-align: right;\n",
       "    }\n",
       "</style>\n",
       "<table border=\"1\" class=\"dataframe\">\n",
       "  <thead>\n",
       "    <tr style=\"text-align: right;\">\n",
       "      <th></th>\n",
       "      <th>a</th>\n",
       "      <th>b</th>\n",
       "      <th>c</th>\n",
       "      <th>d</th>\n",
       "      <th>message</th>\n",
       "    </tr>\n",
       "  </thead>\n",
       "  <tbody>\n",
       "    <tr>\n",
       "      <th>0</th>\n",
       "      <td>1</td>\n",
       "      <td>2</td>\n",
       "      <td>3</td>\n",
       "      <td>4</td>\n",
       "      <td>hello</td>\n",
       "    </tr>\n",
       "    <tr>\n",
       "      <th>1</th>\n",
       "      <td>5</td>\n",
       "      <td>6</td>\n",
       "      <td>7</td>\n",
       "      <td>8</td>\n",
       "      <td>world</td>\n",
       "    </tr>\n",
       "    <tr>\n",
       "      <th>2</th>\n",
       "      <td>9</td>\n",
       "      <td>10</td>\n",
       "      <td>11</td>\n",
       "      <td>12</td>\n",
       "      <td>foo</td>\n",
       "    </tr>\n",
       "  </tbody>\n",
       "</table>\n",
       "</div>"
      ],
      "text/plain": [
       "   a   b   c   d message\n",
       "0  1   2   3   4   hello\n",
       "1  5   6   7   8   world\n",
       "2  9  10  11  12     foo"
      ]
     },
     "execution_count": 5,
     "metadata": {},
     "output_type": "execute_result"
    }
   ],
   "source": [
    "# ex4 => 중간중간 필요없는 주석 데이터들 들어가 있음. 제거하고 넣어야 함.\n",
    "# skiprows 함수/\n",
    "\n",
    "df2 = pd.read_csv('examples/ex4.csv', skiprows = [0, 2, 3])    # 엑셀에서 불러올때도 파이썬으로 들어오면 일단 0부터 행 수 센다.\n",
    "df2"
   ]
  },
  {
   "cell_type": "code",
   "execution_count": 6,
   "id": "63d2db54",
   "metadata": {},
   "outputs": [
    {
     "data": {
      "text/html": [
       "<div>\n",
       "<style scoped>\n",
       "    .dataframe tbody tr th:only-of-type {\n",
       "        vertical-align: middle;\n",
       "    }\n",
       "\n",
       "    .dataframe tbody tr th {\n",
       "        vertical-align: top;\n",
       "    }\n",
       "\n",
       "    .dataframe thead th {\n",
       "        text-align: right;\n",
       "    }\n",
       "</style>\n",
       "<table border=\"1\" class=\"dataframe\">\n",
       "  <thead>\n",
       "    <tr style=\"text-align: right;\">\n",
       "      <th></th>\n",
       "      <th>something</th>\n",
       "      <th>a</th>\n",
       "      <th>b</th>\n",
       "      <th>c</th>\n",
       "      <th>d</th>\n",
       "      <th>message</th>\n",
       "    </tr>\n",
       "  </thead>\n",
       "  <tbody>\n",
       "    <tr>\n",
       "      <th>0</th>\n",
       "      <td>one</td>\n",
       "      <td>1</td>\n",
       "      <td>2</td>\n",
       "      <td>3.0</td>\n",
       "      <td>4</td>\n",
       "      <td>NaN</td>\n",
       "    </tr>\n",
       "    <tr>\n",
       "      <th>1</th>\n",
       "      <td>two</td>\n",
       "      <td>5</td>\n",
       "      <td>6</td>\n",
       "      <td>NaN</td>\n",
       "      <td>8</td>\n",
       "      <td>world</td>\n",
       "    </tr>\n",
       "    <tr>\n",
       "      <th>2</th>\n",
       "      <td>three</td>\n",
       "      <td>9</td>\n",
       "      <td>10</td>\n",
       "      <td>11.0</td>\n",
       "      <td>12</td>\n",
       "      <td>foo</td>\n",
       "    </tr>\n",
       "  </tbody>\n",
       "</table>\n",
       "</div>"
      ],
      "text/plain": [
       "  something  a   b     c   d message\n",
       "0       one  1   2   3.0   4     NaN\n",
       "1       two  5   6   NaN   8   world\n",
       "2     three  9  10  11.0  12     foo"
      ]
     },
     "execution_count": 6,
     "metadata": {},
     "output_type": "execute_result"
    }
   ],
   "source": [
    "# ex5 => 누락된 값 및 NA 값이 존재함.\n",
    "# 배고파...배고파...\n",
    "df3 = pd.read_csv('examples/ex5.csv')\n",
    "df3"
   ]
  },
  {
   "cell_type": "code",
   "execution_count": 7,
   "id": "419c2d65",
   "metadata": {},
   "outputs": [],
   "source": [
    "df5 = pd.read_csv('examples/ex5.csv')\n",
    "df5.to_csv('examples/my_out_of_ex5.csv')   # 파이썬으로 불러들였다가 다시 저장했더니 원본 파일에 인덱스가 생성되고, NA는 빈칸으로 바뀌었음."
   ]
  },
  {
   "cell_type": "code",
   "execution_count": 8,
   "id": "dae2e3e0",
   "metadata": {},
   "outputs": [],
   "source": [
    "df5 = pd.read_csv('examples/ex5.csv')\n",
    "df5.to_csv('examples/my_out_of_ex5.csv', na_rep = \"ToBeReplaced\", index = False, header = False)"
   ]
  },
  {
   "cell_type": "code",
   "execution_count": 9,
   "id": "8012adf4",
   "metadata": {},
   "outputs": [],
   "source": [
    "df5 = pd.read_csv('examples/ex5.csv')\n",
    "df5.to_csv('examples/my_out_of_ex5.csv', na_rep = \"ToBeReplaced\", index = False, columns = [\"a\", \"b\", \"c\"])"
   ]
  },
  {
   "cell_type": "code",
   "execution_count": 10,
   "id": "02a6794a",
   "metadata": {},
   "outputs": [],
   "source": [
    "from bs4 import BeautifulSoup\n",
    "import requests"
   ]
  },
  {
   "cell_type": "code",
   "execution_count": 11,
   "id": "72cc1289",
   "metadata": {},
   "outputs": [
    {
     "data": {
      "text/plain": [
       "<table class=\"table_develop3\" summary=\"기상실황표로 지점, 날씨, 기온, 강수, 바람, 기압등을 안내한 표입니다.\">\n",
       "<caption>기상실황표</caption>\n",
       "<colgroup>\n",
       "<col style=\"width:14%\"/>\n",
       "<col style=\"width:12%\"/>\n",
       "<col style=\"width:7%\"/>\n",
       "<col style=\"width:5%\"/>\n",
       "<col style=\"width:8%\"/>\n",
       "<col style=\"width:5%\"/>\n",
       "<col style=\"width:6%\"/>\n",
       "<col style=\"width:5%\"/>\n",
       "<col style=\"width:8%\"/>\n",
       "<col style=\"width:5%\"/>\n",
       "<col style=\"width:8%\"/>\n",
       "<col style=\"width:6%\"/>\n",
       "<col/>\n",
       "</colgroup>\n",
       "<thead>\n",
       "<tr class=\"table_header\" id=\"table_header1\">\n",
       "<th class=\"top_line\" rowspan=\"2\" scope=\"col\">\n",
       "\t\t지점\n",
       "\t\t</th>\n",
       "<th class=\"top_line\" colspan=\"4\" id=\"headers-weather\" scope=\"col\">날씨</th>\n",
       "<th class=\"top_line\" colspan=\"3\" id=\"headers-temp\" scope=\"col\">기온(℃)</th>\n",
       "<th class=\"top_line\" colspan=\"2\" id=\"headers-rain\" scope=\"col\">강수</th>\n",
       "<th class=\"top_line\" colspan=\"2\" id=\"headers-wind\" scope=\"col\">바람</th>\n",
       "<th class=\"top_line\" id=\"headers-press\" scope=\"col\">기압(hPa)</th>\n",
       "</tr>\n",
       "<tr class=\"table_header\" id=\"table_header2\">\n",
       "<th class=\"nm\" headers=\"headers-weather\" scope=\"col\">현재일기 </th>\n",
       "<th class=\"nm\" headers=\"headers-weather\" scope=\"col\">시정<br/>km</th>\n",
       "<th class=\"nm\" headers=\"headers-weather\" scope=\"col\">운량<br/>1/10</th>\n",
       "<th class=\"nm\" headers=\"headers-weather\" scope=\"col\">중하운량</th>\n",
       "<th class=\"nm\" headers=\"headers-temp\" scope=\"col\">현재<br/>기온</th>\n",
       "<th class=\"nm\" headers=\"headers-temp\" scope=\"col\">이슬점<br/>온도</th>\n",
       "<th class=\"nm\" headers=\"headers-temp\" scope=\"col\">체감<br/>온도</th>\n",
       "<th class=\"nm\" headers=\"headers-rain\" scope=\"col\">일강수<br/>mm</th>\n",
       "<th class=\"nm\" headers=\"headers-rain\" scope=\"col\">습도<br/>%</th>\n",
       "<th class=\"nm\" headers=\"headers-wind\" scope=\"col\">풍향 </th>\n",
       "<th class=\"nm\" headers=\"headers-wind\" scope=\"col\">풍속<br/><script>writeWindSpeedUnit();</script></th>\n",
       "<th class=\"nm\" headers=\"headers-press\" scope=\"col\">해면<br/>기압</th>\n",
       "</tr>\n",
       "</thead>\n",
       "<tbody>\n",
       "</tbody>\n",
       "</table>"
      ]
     },
     "execution_count": 11,
     "metadata": {},
     "output_type": "execute_result"
    }
   ],
   "source": [
    "source = requests.get(\"https://www.weather.go.kr/weather/observation/currentweather.jsp\")\n",
    "soup = BeautifulSoup(source.content, \"html.parser\")\n",
    "table = soup.find('table', {\"class\":\"table_develop3\"})\n",
    "table"
   ]
  },
  {
   "cell_type": "code",
   "execution_count": 12,
   "id": "cf437d44",
   "metadata": {},
   "outputs": [
    {
     "data": {
      "text/plain": [
       "<h1 class=\"firstHeading\" id=\"firstHeading\">List of <i>Game of Thrones</i> episodes</h1>"
      ]
     },
     "execution_count": 12,
     "metadata": {},
     "output_type": "execute_result"
    }
   ],
   "source": [
    "url = \"https://en.wikipedia.org/w/index.php?title=List_of_Game_of_Thrones_episodes&oldid=802553687\"\n",
    "r = requests.get(url)\n",
    "r.text\n",
    "html_soup = BeautifulSoup(r.text, \"html.parser\")\n",
    "found_h1 = html_soup.find(\"h1\")\n",
    "found_h1"
   ]
  },
  {
   "cell_type": "code",
   "execution_count": 13,
   "id": "89c61021",
   "metadata": {},
   "outputs": [
    {
     "data": {
      "text/plain": [
       "['List of ', <i>Game of Thrones</i>, ' episodes']"
      ]
     },
     "execution_count": 13,
     "metadata": {},
     "output_type": "execute_result"
    }
   ],
   "source": [
    "found_h1.contents"
   ]
  },
  {
   "cell_type": "code",
   "execution_count": 14,
   "id": "14d32c2b",
   "metadata": {},
   "outputs": [
    {
     "data": {
      "text/plain": [
       "'List of Game of Thrones episodes'"
      ]
     },
     "execution_count": 14,
     "metadata": {},
     "output_type": "execute_result"
    }
   ],
   "source": [
    "found_h1.text"
   ]
  },
  {
   "cell_type": "code",
   "execution_count": 15,
   "id": "13960937",
   "metadata": {},
   "outputs": [
    {
     "data": {
      "text/plain": [
       "{'id': 'firstHeading', 'class': ['firstHeading']}"
      ]
     },
     "execution_count": 15,
     "metadata": {},
     "output_type": "execute_result"
    }
   ],
   "source": [
    "found_h1.attrs       # <h1  > 대괄호 안에 들어 있는 속성 \"추출\"(attracts)"
   ]
  },
  {
   "cell_type": "code",
   "execution_count": 16,
   "id": "be2e0d4e",
   "metadata": {},
   "outputs": [
    {
     "data": {
      "text/plain": [
       "'firstHeading'"
      ]
     },
     "execution_count": 16,
     "metadata": {},
     "output_type": "execute_result"
    }
   ],
   "source": [
    "found_h1.attrs['id']"
   ]
  },
  {
   "cell_type": "code",
   "execution_count": 17,
   "id": "2cd14e3d",
   "metadata": {},
   "outputs": [
    {
     "data": {
      "text/plain": [
       "['firstHeading']"
      ]
     },
     "execution_count": 17,
     "metadata": {},
     "output_type": "execute_result"
    }
   ],
   "source": [
    "found_h1.attrs['class']"
   ]
  },
  {
   "cell_type": "code",
   "execution_count": 18,
   "id": "f3e5ea39",
   "metadata": {},
   "outputs": [
    {
     "name": "stdout",
     "output_type": "stream",
     "text": [
      "Contents\n",
      "Series overview\n",
      "Episodes\n",
      "Home media releases\n",
      "Ratings\n",
      "References\n",
      "External links\n",
      "Navigation menu\n"
     ]
    }
   ],
   "source": [
    "# h2 는 많으므로, 반복문 사용해 주는 것이 좋다.\n",
    "for found in html_soup.find_all(\"h2\"):           # 찾을 대상이 하나가 아니라 여러개 => find_all\n",
    "    print(found.text)\n"
   ]
  },
  {
   "cell_type": "code",
   "execution_count": 19,
   "id": "42c193a1",
   "metadata": {},
   "outputs": [],
   "source": [
    "episodes = []\n",
    "ep_tables = html_soup.find_all('table', class_ = \"wikitable plainrowheaders wikiepisodetable\")       # 표현 겹치게 하지 않기 위해 class_ 이렇게 표현한다."
   ]
  },
  {
   "cell_type": "code",
   "execution_count": 20,
   "id": "37b5d285",
   "metadata": {},
   "outputs": [
    {
     "data": {
      "text/plain": [
       "[<table class=\"wikitable plainrowheaders wikiepisodetable\" style=\"width:100%\"><tbody><tr style=\"color:white;text-align:center\"><th scope=\"col\" style=\"background:#295354;width:5%\"><abbr title=\"Number\">No.</abbr><br/>overall</th><th scope=\"col\" style=\"background:#295354;width:5%\"><abbr title=\"Number\">No.</abbr> in<br/>season</th><th scope=\"col\" style=\"background:#295354;width:23%\">Title</th><th scope=\"col\" style=\"background:#295354;width:17%\">Directed by</th><th scope=\"col\" style=\"background:#295354;width:27%\">Written by</th><th scope=\"col\" style=\"background:#295354;width:12%\">Original air date <span style=\"background-color:white;padding:1px;display:inline-block;line-height:50%\"><sup class=\"reference\" id=\"cite_ref-Futon_20-0\"><a href=\"#cite_note-Futon-20\">[20]</a></sup></span></th><th scope=\"col\" style=\"background:#295354;width:10%\">U.S. viewers<br/>(millions)</th></tr><tr class=\"vevent\" style=\"text-align:center;background:inherit\"><th id=\"ep1\" rowspan=\"1\" scope=\"row\" style=\"text-align:center\">1</th><td style=\"text-align:center\">1</td><td class=\"summary\" style=\"text-align:left\">\"<a href=\"/wiki/Winter_Is_Coming\" title=\"Winter Is Coming\">Winter Is Coming</a>\"</td><td style=\"text-align:center\"><a href=\"/wiki/Tim_Van_Patten\" title=\"Tim Van Patten\">Tim Van Patten</a></td><td style=\"text-align:center\"><a href=\"/wiki/David_Benioff\" title=\"David Benioff\">David Benioff</a> &amp; <a href=\"/wiki/D._B._Weiss\" title=\"D. B. Weiss\">D. B. Weiss</a></td><td style=\"text-align:center\">April 17, 2011<span style=\"display:none\"> (<span class=\"bday dtstart published updated\">2011-04-17</span>)</span></td><td style=\"text-align:center\">2.22<sup class=\"reference\" id=\"cite_ref-21\"><a href=\"#cite_note-21\">[21]</a></sup></td></tr>\n",
       " <tr class=\"vevent\" style=\"text-align:center;background:inherit\"><th id=\"ep2\" rowspan=\"1\" scope=\"row\" style=\"text-align:center\">2</th><td style=\"text-align:center\">2</td><td class=\"summary\" style=\"text-align:left\">\"<a href=\"/wiki/The_Kingsroad\" title=\"The Kingsroad\">The Kingsroad</a>\"</td><td style=\"text-align:center\">Tim Van Patten</td><td style=\"text-align:center\">David Benioff &amp; D. B. Weiss</td><td style=\"text-align:center\">April 24, 2011<span style=\"display:none\"> (<span class=\"bday dtstart published updated\">2011-04-24</span>)</span></td><td style=\"text-align:center\">2.20<sup class=\"reference\" id=\"cite_ref-22\"><a href=\"#cite_note-22\">[22]</a></sup></td></tr>\n",
       " <tr class=\"vevent\" style=\"text-align:center;background:inherit\"><th id=\"ep3\" rowspan=\"1\" scope=\"row\" style=\"text-align:center\">3</th><td style=\"text-align:center\">3</td><td class=\"summary\" style=\"text-align:left\">\"<a href=\"/wiki/Lord_Snow\" title=\"Lord Snow\">Lord Snow</a>\"</td><td style=\"text-align:center\"><a href=\"/wiki/Brian_Kirk\" title=\"Brian Kirk\">Brian Kirk</a></td><td style=\"text-align:center\">David Benioff &amp; D. B. Weiss</td><td style=\"text-align:center\">May 1, 2011<span style=\"display:none\"> (<span class=\"bday dtstart published updated\">2011-05-01</span>)</span></td><td style=\"text-align:center\">2.44<sup class=\"reference\" id=\"cite_ref-23\"><a href=\"#cite_note-23\">[23]</a></sup></td></tr>\n",
       " <tr class=\"vevent\" style=\"text-align:center;background:inherit\"><th id=\"ep4\" rowspan=\"1\" scope=\"row\" style=\"text-align:center\">4</th><td style=\"text-align:center\">4</td><td class=\"summary\" style=\"text-align:left\">\"<a href=\"/wiki/Cripples,_Bastards,_and_Broken_Things\" title=\"Cripples, Bastards, and Broken Things\">Cripples, Bastards, and Broken Things</a>\"</td><td style=\"text-align:center\">Brian Kirk</td><td style=\"text-align:center\"><a href=\"/wiki/Bryan_Cogman\" title=\"Bryan Cogman\">Bryan Cogman</a></td><td style=\"text-align:center\">May 8, 2011<span style=\"display:none\"> (<span class=\"bday dtstart published updated\">2011-05-08</span>)</span></td><td style=\"text-align:center\">2.45<sup class=\"reference\" id=\"cite_ref-24\"><a href=\"#cite_note-24\">[24]</a></sup></td></tr>\n",
       " <tr class=\"vevent\" style=\"text-align:center;background:inherit\"><th id=\"ep5\" rowspan=\"1\" scope=\"row\" style=\"text-align:center\">5</th><td style=\"text-align:center\">5</td><td class=\"summary\" style=\"text-align:left\">\"<a href=\"/wiki/The_Wolf_and_the_Lion\" title=\"The Wolf and the Lion\">The Wolf and the Lion</a>\"</td><td style=\"text-align:center\">Brian Kirk</td><td style=\"text-align:center\">David Benioff &amp; D. B. Weiss</td><td style=\"text-align:center\">May 15, 2011<span style=\"display:none\"> (<span class=\"bday dtstart published updated\">2011-05-15</span>)</span></td><td style=\"text-align:center\">2.58<sup class=\"reference\" id=\"cite_ref-25\"><a href=\"#cite_note-25\">[25]</a></sup></td></tr>\n",
       " <tr class=\"vevent\" style=\"text-align:center;background:inherit\"><th id=\"ep6\" rowspan=\"1\" scope=\"row\" style=\"text-align:center\">6</th><td style=\"text-align:center\">6</td><td class=\"summary\" style=\"text-align:left\">\"<a href=\"/wiki/A_Golden_Crown\" title=\"A Golden Crown\">A Golden Crown</a>\"</td><td style=\"text-align:center\"><a href=\"/wiki/Daniel_Minahan\" title=\"Daniel Minahan\">Daniel Minahan</a></td><td style=\"text-align:center\"><i>Story by</i> : David Benioff &amp; D. B. Weiss<br/><i>Teleplay by</i> : <a href=\"/wiki/Jane_Espenson\" title=\"Jane Espenson\">Jane Espenson</a> and David Benioff &amp; D. B. Weiss</td><td style=\"text-align:center\">May 22, 2011<span style=\"display:none\"> (<span class=\"bday dtstart published updated\">2011-05-22</span>)</span></td><td style=\"text-align:center\">2.44<sup class=\"reference\" id=\"cite_ref-26\"><a href=\"#cite_note-26\">[26]</a></sup></td></tr>\n",
       " <tr class=\"vevent\" style=\"text-align:center;background:inherit\"><th id=\"ep7\" rowspan=\"1\" scope=\"row\" style=\"text-align:center\">7</th><td style=\"text-align:center\">7</td><td class=\"summary\" style=\"text-align:left\">\"<a href=\"/wiki/You_Win_or_You_Die\" title=\"You Win or You Die\">You Win or You Die</a>\"</td><td style=\"text-align:center\"><span class=\"nowrap\">Daniel Minahan</span></td><td style=\"text-align:center\">David Benioff &amp; D. B. Weiss</td><td style=\"text-align:center\">May 29, 2011<span style=\"display:none\"> (<span class=\"bday dtstart published updated\">2011-05-29</span>)</span></td><td style=\"text-align:center\">2.40<sup class=\"reference\" id=\"cite_ref-27\"><a href=\"#cite_note-27\">[27]</a></sup></td></tr>\n",
       " <tr class=\"vevent\" style=\"text-align:center;background:inherit\"><th id=\"ep8\" rowspan=\"1\" scope=\"row\" style=\"text-align:center\">8</th><td style=\"text-align:center\">8</td><td class=\"summary\" style=\"text-align:left\">\"<a href=\"/wiki/The_Pointy_End\" title=\"The Pointy End\">The Pointy End</a>\"</td><td style=\"text-align:center\">Daniel Minahan</td><td style=\"text-align:center\"><a href=\"/wiki/George_R._R._Martin\" title=\"George R. R. Martin\">George R. R. Martin</a></td><td style=\"text-align:center\">June 5, 2011<span style=\"display:none\"> (<span class=\"bday dtstart published updated\">2011-06-05</span>)</span></td><td style=\"text-align:center\">2.72<sup class=\"reference\" id=\"cite_ref-28\"><a href=\"#cite_note-28\">[28]</a></sup></td></tr>\n",
       " <tr class=\"vevent\" style=\"text-align:center;background:inherit\"><th id=\"ep9\" rowspan=\"1\" scope=\"row\" style=\"text-align:center\">9</th><td style=\"text-align:center\">9</td><td class=\"summary\" style=\"text-align:left\">\"<a href=\"/wiki/Baelor\" title=\"Baelor\">Baelor</a>\"</td><td style=\"text-align:center\"><a href=\"/wiki/Alan_Taylor_(director)\" title=\"Alan Taylor (director)\">Alan Taylor</a></td><td style=\"text-align:center\">David Benioff &amp; D. B. Weiss</td><td style=\"text-align:center\">June 12, 2011<span style=\"display:none\"> (<span class=\"bday dtstart published updated\">2011-06-12</span>)</span></td><td style=\"text-align:center\">2.66<sup class=\"reference\" id=\"cite_ref-29\"><a href=\"#cite_note-29\">[29]</a></sup></td></tr>\n",
       " <tr class=\"vevent\" style=\"text-align:center;background:inherit\"><th id=\"ep10\" rowspan=\"1\" scope=\"row\" style=\"text-align:center\">10</th><td style=\"text-align:center\">10</td><td class=\"summary\" style=\"text-align:left\">\"<a href=\"/wiki/Fire_and_Blood_(Game_of_Thrones)\" title=\"Fire and Blood (Game of Thrones)\">Fire and Blood</a>\"</td><td style=\"text-align:center\">Alan Taylor</td><td style=\"text-align:center\">David Benioff &amp; D. B. Weiss</td><td style=\"text-align:center\">June 19, 2011<span style=\"display:none\"> (<span class=\"bday dtstart published updated\">2011-06-19</span>)</span></td><td style=\"text-align:center\">3.04<sup class=\"reference\" id=\"cite_ref-30\"><a href=\"#cite_note-30\">[30]</a></sup></td></tr></tbody></table>,\n",
       " <table class=\"wikitable plainrowheaders wikiepisodetable\" style=\"width:100%\"><tbody><tr style=\"color:black;text-align:center\"><th scope=\"col\" style=\"background:#D09916;width:5%\"><abbr title=\"Number\">No.</abbr><br/>overall</th><th scope=\"col\" style=\"background:#D09916;width:5%\"><abbr title=\"Number\">No.</abbr> in<br/>season</th><th scope=\"col\" style=\"background:#D09916;width:23%\">Title</th><th scope=\"col\" style=\"background:#D09916;width:17%\">Directed by</th><th scope=\"col\" style=\"background:#D09916;width:27%\">Written by</th><th scope=\"col\" style=\"background:#D09916;width:12%\">Original air date <span style=\"background-color:white;padding:1px;display:inline-block;line-height:50%\"><sup class=\"reference\" id=\"cite_ref-Futon_20-1\"><a href=\"#cite_note-Futon-20\">[20]</a></sup></span></th><th scope=\"col\" style=\"background:#D09916;width:10%\">U.S. viewers<br/>(millions)</th></tr><tr class=\"vevent\" style=\"text-align:center;background:inherit\"><th id=\"ep11\" rowspan=\"1\" scope=\"row\" style=\"text-align:center\">11</th><td style=\"text-align:center\">1</td><td class=\"summary\" style=\"text-align:left\">\"<a href=\"/wiki/The_North_Remembers\" title=\"The North Remembers\">The North Remembers</a>\"</td><td style=\"text-align:center\"><a href=\"/wiki/Alan_Taylor_(director)\" title=\"Alan Taylor (director)\">Alan Taylor</a></td><td style=\"text-align:center\"><a href=\"/wiki/David_Benioff\" title=\"David Benioff\">David Benioff</a> &amp; <a href=\"/wiki/D._B._Weiss\" title=\"D. B. Weiss\">D. B. Weiss</a></td><td style=\"text-align:center\">April 1, 2012<span style=\"display:none\"> (<span class=\"bday dtstart published updated\">2012-04-01</span>)</span></td><td style=\"text-align:center\">3.86<sup class=\"reference\" id=\"cite_ref-31\"><a href=\"#cite_note-31\">[31]</a></sup></td></tr>\n",
       " <tr class=\"vevent\" style=\"text-align:center;background:inherit\"><th id=\"ep12\" rowspan=\"1\" scope=\"row\" style=\"text-align:center\">12</th><td style=\"text-align:center\">2</td><td class=\"summary\" style=\"text-align:left\">\"<a href=\"/wiki/The_Night_Lands\" title=\"The Night Lands\">The Night Lands</a>\"</td><td style=\"text-align:center\">Alan Taylor</td><td style=\"text-align:center\">David Benioff &amp; D. B. Weiss</td><td style=\"text-align:center\">April 8, 2012<span style=\"display:none\"> (<span class=\"bday dtstart published updated\">2012-04-08</span>)</span></td><td style=\"text-align:center\">3.76<sup class=\"reference\" id=\"cite_ref-32\"><a href=\"#cite_note-32\">[32]</a></sup></td></tr>\n",
       " <tr class=\"vevent\" style=\"text-align:center;background:inherit\"><th id=\"ep13\" rowspan=\"1\" scope=\"row\" style=\"text-align:center\">13</th><td style=\"text-align:center\">3</td><td class=\"summary\" style=\"text-align:left\">\"<a href=\"/wiki/What_Is_Dead_May_Never_Die\" title=\"What Is Dead May Never Die\">What Is Dead May Never Die</a>\"</td><td style=\"text-align:center\"><a href=\"/wiki/Alik_Sakharov\" title=\"Alik Sakharov\">Alik Sakharov</a></td><td style=\"text-align:center\"><a href=\"/wiki/Bryan_Cogman\" title=\"Bryan Cogman\">Bryan Cogman</a></td><td style=\"text-align:center\">April 15, 2012<span style=\"display:none\"> (<span class=\"bday dtstart published updated\">2012-04-15</span>)</span></td><td style=\"text-align:center\">3.77<sup class=\"reference\" id=\"cite_ref-33\"><a href=\"#cite_note-33\">[33]</a></sup></td></tr>\n",
       " <tr class=\"vevent\" style=\"text-align:center;background:inherit\"><th id=\"ep14\" rowspan=\"1\" scope=\"row\" style=\"text-align:center\">14</th><td style=\"text-align:center\">4</td><td class=\"summary\" style=\"text-align:left\">\"<a href=\"/wiki/Garden_of_Bones\" title=\"Garden of Bones\">Garden of Bones</a>\"</td><td style=\"text-align:center\"><a href=\"/wiki/David_Petrarca\" title=\"David Petrarca\">David Petrarca</a></td><td style=\"text-align:center\"><a href=\"/wiki/Vanessa_Taylor\" title=\"Vanessa Taylor\">Vanessa Taylor</a></td><td style=\"text-align:center\">April 22, 2012<span style=\"display:none\"> (<span class=\"bday dtstart published updated\">2012-04-22</span>)</span></td><td style=\"text-align:center\">3.65<sup class=\"reference\" id=\"cite_ref-34\"><a href=\"#cite_note-34\">[34]</a></sup></td></tr>\n",
       " <tr class=\"vevent\" style=\"text-align:center;background:inherit\"><th id=\"ep15\" rowspan=\"1\" scope=\"row\" style=\"text-align:center\">15</th><td style=\"text-align:center\">5</td><td class=\"summary\" style=\"text-align:left\">\"<a href=\"/wiki/The_Ghost_of_Harrenhal\" title=\"The Ghost of Harrenhal\">The Ghost of Harrenhal</a>\"</td><td style=\"text-align:center\">David Petrarca</td><td style=\"text-align:center\">David Benioff &amp; D. B. Weiss</td><td style=\"text-align:center\">April 29, 2012<span style=\"display:none\"> (<span class=\"bday dtstart published updated\">2012-04-29</span>)</span></td><td style=\"text-align:center\">3.90<sup class=\"reference\" id=\"cite_ref-35\"><a href=\"#cite_note-35\">[35]</a></sup></td></tr>\n",
       " <tr class=\"vevent\" style=\"text-align:center;background:inherit\"><th id=\"ep16\" rowspan=\"1\" scope=\"row\" style=\"text-align:center\">16</th><td style=\"text-align:center\">6</td><td class=\"summary\" style=\"text-align:left\">\"<a href=\"/wiki/The_Old_Gods_and_the_New\" title=\"The Old Gods and the New\">The Old Gods and the New</a>\"</td><td style=\"text-align:center\"><a href=\"/wiki/David_Nutter\" title=\"David Nutter\">David Nutter</a></td><td style=\"text-align:center\">Vanessa Taylor</td><td style=\"text-align:center\">May 6, 2012<span style=\"display:none\"> (<span class=\"bday dtstart published updated\">2012-05-06</span>)</span></td><td style=\"text-align:center\">3.88<sup class=\"reference\" id=\"cite_ref-36\"><a href=\"#cite_note-36\">[36]</a></sup></td></tr>\n",
       " <tr class=\"vevent\" style=\"text-align:center;background:inherit\"><th id=\"ep17\" rowspan=\"1\" scope=\"row\" style=\"text-align:center\">17</th><td style=\"text-align:center\">7</td><td class=\"summary\" style=\"text-align:left\">\"<a href=\"/wiki/A_Man_Without_Honor\" title=\"A Man Without Honor\">A Man Without Honor</a>\"</td><td style=\"text-align:center\">David Nutter</td><td style=\"text-align:center\">David Benioff &amp; D. B. Weiss</td><td style=\"text-align:center\">May 13, 2012<span style=\"display:none\"> (<span class=\"bday dtstart published updated\">2012-05-13</span>)</span></td><td style=\"text-align:center\">3.69<sup class=\"reference\" id=\"cite_ref-37\"><a href=\"#cite_note-37\">[37]</a></sup></td></tr>\n",
       " <tr class=\"vevent\" style=\"text-align:center;background:inherit\"><th id=\"ep18\" rowspan=\"1\" scope=\"row\" style=\"text-align:center\">18</th><td style=\"text-align:center\">8</td><td class=\"summary\" style=\"text-align:left\">\"<a href=\"/wiki/The_Prince_of_Winterfell\" title=\"The Prince of Winterfell\">The Prince of Winterfell</a>\"</td><td style=\"text-align:center\">Alan Taylor</td><td style=\"text-align:center\">David Benioff &amp; D. B. Weiss</td><td style=\"text-align:center\">May 20, 2012<span style=\"display:none\"> (<span class=\"bday dtstart published updated\">2012-05-20</span>)</span></td><td style=\"text-align:center\">3.86<sup class=\"reference\" id=\"cite_ref-38\"><a href=\"#cite_note-38\">[38]</a></sup></td></tr>\n",
       " <tr class=\"vevent\" style=\"text-align:center;background:inherit\"><th id=\"ep19\" rowspan=\"1\" scope=\"row\" style=\"text-align:center\">19</th><td style=\"text-align:center\">9</td><td class=\"summary\" style=\"text-align:left\">\"<a href=\"/wiki/Blackwater_(Game_of_Thrones)\" title=\"Blackwater (Game of Thrones)\">Blackwater</a>\"</td><td style=\"text-align:center\"><a href=\"/wiki/Neil_Marshall\" title=\"Neil Marshall\">Neil Marshall</a></td><td style=\"text-align:center\"><a href=\"/wiki/George_R._R._Martin\" title=\"George R. R. Martin\">George R. R. Martin</a></td><td style=\"text-align:center\">May 27, 2012<span style=\"display:none\"> (<span class=\"bday dtstart published updated\">2012-05-27</span>)</span></td><td style=\"text-align:center\">3.38<sup class=\"reference\" id=\"cite_ref-39\"><a href=\"#cite_note-39\">[39]</a></sup></td></tr>\n",
       " <tr class=\"vevent\" style=\"text-align:center;background:inherit\"><th id=\"ep20\" rowspan=\"1\" scope=\"row\" style=\"text-align:center\">20</th><td style=\"text-align:center\">10</td><td class=\"summary\" style=\"text-align:left\">\"<a href=\"/wiki/Valar_Morghulis\" title=\"Valar Morghulis\">Valar Morghulis</a>\"</td><td style=\"text-align:center\">Alan Taylor</td><td style=\"text-align:center\">David Benioff &amp; D. B. Weiss</td><td style=\"text-align:center\">June 3, 2012<span style=\"display:none\"> (<span class=\"bday dtstart published updated\">2012-06-03</span>)</span></td><td style=\"text-align:center\">4.20<sup class=\"reference\" id=\"cite_ref-40\"><a href=\"#cite_note-40\">[40]</a></sup></td></tr></tbody></table>,\n",
       " <table class=\"wikitable plainrowheaders wikiepisodetable\" style=\"width:100%\"><tbody><tr style=\"color:white;text-align:center\"><th scope=\"col\" style=\"background:#54575A;width:5%\"><abbr title=\"Number\">No.</abbr><br/>overall</th><th scope=\"col\" style=\"background:#54575A;width:5%\"><abbr title=\"Number\">No.</abbr> in<br/>season</th><th scope=\"col\" style=\"background:#54575A;width:23%\">Title</th><th scope=\"col\" style=\"background:#54575A;width:17%\">Directed by</th><th scope=\"col\" style=\"background:#54575A;width:27%\">Written by</th><th scope=\"col\" style=\"background:#54575A;width:12%\">Original air date <span style=\"background-color:white;padding:1px;display:inline-block;line-height:50%\"><sup class=\"reference\" id=\"cite_ref-Futon_20-2\"><a href=\"#cite_note-Futon-20\">[20]</a></sup></span></th><th scope=\"col\" style=\"background:#54575A;width:10%\">U.S. viewers<br/>(millions)</th></tr><tr class=\"vevent\" style=\"text-align:center;background:inherit\"><th id=\"ep21\" rowspan=\"1\" scope=\"row\" style=\"text-align:center\">21</th><td style=\"text-align:center\">1</td><td class=\"summary\" style=\"text-align:left\">\"<a href=\"/wiki/Valar_Dohaeris\" title=\"Valar Dohaeris\">Valar Dohaeris</a>\"</td><td style=\"text-align:center\"><a href=\"/wiki/Daniel_Minahan\" title=\"Daniel Minahan\">Daniel Minahan</a></td><td style=\"text-align:center\"><a href=\"/wiki/David_Benioff\" title=\"David Benioff\">David Benioff</a> &amp; <a href=\"/wiki/D._B._Weiss\" title=\"D. B. Weiss\">D. B. Weiss</a></td><td style=\"text-align:center\">March 31, 2013<span style=\"display:none\"> (<span class=\"bday dtstart published updated\">2013-03-31</span>)</span></td><td style=\"text-align:center\">4.37<sup class=\"reference\" id=\"cite_ref-41\"><a href=\"#cite_note-41\">[41]</a></sup></td></tr>\n",
       " <tr class=\"vevent\" style=\"text-align:center;background:inherit\"><th id=\"ep22\" rowspan=\"1\" scope=\"row\" style=\"text-align:center\">22</th><td style=\"text-align:center\">2</td><td class=\"summary\" style=\"text-align:left\">\"<a href=\"/wiki/Dark_Wings,_Dark_Words\" title=\"Dark Wings, Dark Words\">Dark Wings, Dark Words</a>\"</td><td style=\"text-align:center\">Daniel Minahan</td><td style=\"text-align:center\"><a href=\"/wiki/Vanessa_Taylor\" title=\"Vanessa Taylor\">Vanessa Taylor</a></td><td style=\"text-align:center\">April 7, 2013<span style=\"display:none\"> (<span class=\"bday dtstart published updated\">2013-04-07</span>)</span></td><td style=\"text-align:center\">4.27<sup class=\"reference\" id=\"cite_ref-42\"><a href=\"#cite_note-42\">[42]</a></sup></td></tr>\n",
       " <tr class=\"vevent\" style=\"text-align:center;background:inherit\"><th id=\"ep23\" rowspan=\"1\" scope=\"row\" style=\"text-align:center\">23</th><td style=\"text-align:center\">3</td><td class=\"summary\" style=\"text-align:left\">\"<a href=\"/wiki/Walk_of_Punishment\" title=\"Walk of Punishment\">Walk of Punishment</a>\"</td><td style=\"text-align:center\">David Benioff</td><td style=\"text-align:center\">David Benioff &amp; D. B. Weiss</td><td style=\"text-align:center\">April 14, 2013<span style=\"display:none\"> (<span class=\"bday dtstart published updated\">2013-04-14</span>)</span></td><td style=\"text-align:center\">4.72<sup class=\"reference\" id=\"cite_ref-43\"><a href=\"#cite_note-43\">[43]</a></sup></td></tr>\n",
       " <tr class=\"vevent\" style=\"text-align:center;background:inherit\"><th id=\"ep24\" rowspan=\"1\" scope=\"row\" style=\"text-align:center\">24</th><td style=\"text-align:center\">4</td><td class=\"summary\" style=\"text-align:left\">\"<a href=\"/wiki/And_Now_His_Watch_Is_Ended\" title=\"And Now His Watch Is Ended\">And Now His Watch Is Ended</a>\"</td><td style=\"text-align:center\"><a href=\"/wiki/Alex_Graves\" title=\"Alex Graves\">Alex Graves</a></td><td style=\"text-align:center\">David Benioff &amp; D. B. Weiss</td><td style=\"text-align:center\">April 21, 2013<span style=\"display:none\"> (<span class=\"bday dtstart published updated\">2013-04-21</span>)</span></td><td style=\"text-align:center\">4.87<sup class=\"reference\" id=\"cite_ref-44\"><a href=\"#cite_note-44\">[44]</a></sup></td></tr>\n",
       " <tr class=\"vevent\" style=\"text-align:center;background:inherit\"><th id=\"ep25\" rowspan=\"1\" scope=\"row\" style=\"text-align:center\">25</th><td style=\"text-align:center\">5</td><td class=\"summary\" style=\"text-align:left\">\"<a href=\"/wiki/Kissed_by_Fire\" title=\"Kissed by Fire\">Kissed by Fire</a>\"</td><td style=\"text-align:center\">Alex Graves</td><td style=\"text-align:center\"><a href=\"/wiki/Bryan_Cogman\" title=\"Bryan Cogman\">Bryan Cogman</a></td><td style=\"text-align:center\">April 28, 2013<span style=\"display:none\"> (<span class=\"bday dtstart published updated\">2013-04-28</span>)</span></td><td style=\"text-align:center\">5.35<sup class=\"reference\" id=\"cite_ref-45\"><a href=\"#cite_note-45\">[45]</a></sup></td></tr>\n",
       " <tr class=\"vevent\" style=\"text-align:center;background:inherit\"><th id=\"ep26\" rowspan=\"1\" scope=\"row\" style=\"text-align:center\">26</th><td style=\"text-align:center\">6</td><td class=\"summary\" style=\"text-align:left\">\"<a href=\"/wiki/The_Climb_(Game_of_Thrones)\" title=\"The Climb (Game of Thrones)\">The Climb</a>\"</td><td style=\"text-align:center\"><a href=\"/wiki/Alik_Sakharov\" title=\"Alik Sakharov\">Alik Sakharov</a></td><td style=\"text-align:center\">David Benioff &amp; D. B. Weiss</td><td style=\"text-align:center\">May 5, 2013<span style=\"display:none\"> (<span class=\"bday dtstart published updated\">2013-05-05</span>)</span></td><td style=\"text-align:center\">5.50<sup class=\"reference\" id=\"cite_ref-46\"><a href=\"#cite_note-46\">[46]</a></sup></td></tr>\n",
       " <tr class=\"vevent\" style=\"text-align:center;background:inherit\"><th id=\"ep27\" rowspan=\"1\" scope=\"row\" style=\"text-align:center\">27</th><td style=\"text-align:center\">7</td><td class=\"summary\" style=\"text-align:left\">\"<a href=\"/wiki/The_Bear_and_the_Maiden_Fair\" title=\"The Bear and the Maiden Fair\">The Bear and the Maiden Fair</a>\"</td><td style=\"text-align:center\"><a href=\"/wiki/Michelle_MacLaren\" title=\"Michelle MacLaren\">Michelle MacLaren</a></td><td style=\"text-align:center\"><a href=\"/wiki/George_R._R._Martin\" title=\"George R. R. Martin\">George R. R. Martin</a></td><td style=\"text-align:center\">May 12, 2013<span style=\"display:none\"> (<span class=\"bday dtstart published updated\">2013-05-12</span>)</span></td><td style=\"text-align:center\">4.84<sup class=\"reference\" id=\"cite_ref-47\"><a href=\"#cite_note-47\">[47]</a></sup></td></tr>\n",
       " <tr class=\"vevent\" style=\"text-align:center;background:inherit\"><th id=\"ep28\" rowspan=\"1\" scope=\"row\" style=\"text-align:center\">28</th><td style=\"text-align:center\">8</td><td class=\"summary\" style=\"text-align:left\">\"<a href=\"/wiki/Second_Sons\" title=\"Second Sons\">Second Sons</a>\"</td><td style=\"text-align:center\">Michelle MacLaren</td><td style=\"text-align:center\">David Benioff &amp; D. B. Weiss</td><td style=\"text-align:center\">May 19, 2013<span style=\"display:none\"> (<span class=\"bday dtstart published updated\">2013-05-19</span>)</span></td><td style=\"text-align:center\">5.13<sup class=\"reference\" id=\"cite_ref-48\"><a href=\"#cite_note-48\">[48]</a></sup></td></tr>\n",
       " <tr class=\"vevent\" style=\"text-align:center;background:inherit\"><th id=\"ep29\" rowspan=\"1\" scope=\"row\" style=\"text-align:center\">29</th><td style=\"text-align:center\">9</td><td class=\"summary\" style=\"text-align:left\">\"<a href=\"/wiki/The_Rains_of_Castamere\" title=\"The Rains of Castamere\">The Rains of Castamere</a>\"</td><td style=\"text-align:center\"><a href=\"/wiki/David_Nutter\" title=\"David Nutter\">David Nutter</a></td><td style=\"text-align:center\">David Benioff &amp; D. B. Weiss</td><td style=\"text-align:center\">June 2, 2013<span style=\"display:none\"> (<span class=\"bday dtstart published updated\">2013-06-02</span>)</span></td><td style=\"text-align:center\">5.22<sup class=\"reference\" id=\"cite_ref-49\"><a href=\"#cite_note-49\">[49]</a></sup></td></tr>\n",
       " <tr class=\"vevent\" style=\"text-align:center;background:inherit\"><th id=\"ep30\" rowspan=\"1\" scope=\"row\" style=\"text-align:center\">30</th><td style=\"text-align:center\">10</td><td class=\"summary\" style=\"text-align:left\">\"<a href=\"/wiki/Mhysa\" title=\"Mhysa\">Mhysa</a>\"</td><td style=\"text-align:center\">David Nutter</td><td style=\"text-align:center\">David Benioff &amp; D. B. Weiss</td><td style=\"text-align:center\">June 9, 2013<span style=\"display:none\"> (<span class=\"bday dtstart published updated\">2013-06-09</span>)</span></td><td style=\"text-align:center\">5.39<sup class=\"reference\" id=\"cite_ref-50\"><a href=\"#cite_note-50\">[50]</a></sup></td></tr></tbody></table>,\n",
       " <table class=\"wikitable plainrowheaders wikiepisodetable\" style=\"width:100%\"><tbody><tr style=\"color:white;text-align:center\"><th scope=\"col\" style=\"background:#222222;width:5%\"><abbr title=\"Number\">No.</abbr><br/>overall</th><th scope=\"col\" style=\"background:#222222;width:5%\"><abbr title=\"Number\">No.</abbr> in<br/>season</th><th scope=\"col\" style=\"background:#222222;width:23%\">Title</th><th scope=\"col\" style=\"background:#222222;width:17%\">Directed by</th><th scope=\"col\" style=\"background:#222222;width:27%\">Written by</th><th scope=\"col\" style=\"background:#222222;width:12%\">Original air date <span style=\"background-color:white;padding:1px;display:inline-block;line-height:50%\"><sup class=\"reference\" id=\"cite_ref-Futon_20-3\"><a href=\"#cite_note-Futon-20\">[20]</a></sup></span></th><th scope=\"col\" style=\"background:#222222;width:10%\">U.S. viewers<br/>(millions)</th></tr><tr class=\"vevent\" style=\"text-align:center;background:inherit\"><th id=\"ep31\" rowspan=\"1\" scope=\"row\" style=\"text-align:center\">31</th><td style=\"text-align:center\">1</td><td class=\"summary\" style=\"text-align:left\">\"<a href=\"/wiki/Two_Swords_(Game_of_Thrones)\" title=\"Two Swords (Game of Thrones)\">Two Swords</a>\"</td><td style=\"text-align:center\"><a href=\"/wiki/D._B._Weiss\" title=\"D. B. Weiss\">D. B. Weiss</a></td><td style=\"text-align:center\"><a href=\"/wiki/David_Benioff\" title=\"David Benioff\">David Benioff</a> &amp; D. B. Weiss</td><td style=\"text-align:center\">April 6, 2014<span style=\"display:none\"> (<span class=\"bday dtstart published updated\">2014-04-06</span>)</span></td><td style=\"text-align:center\">6.64<sup class=\"reference\" id=\"cite_ref-51\"><a href=\"#cite_note-51\">[51]</a></sup></td></tr>\n",
       " <tr class=\"vevent\" style=\"text-align:center;background:inherit\"><th id=\"ep32\" rowspan=\"1\" scope=\"row\" style=\"text-align:center\">32</th><td style=\"text-align:center\">2</td><td class=\"summary\" style=\"text-align:left\">\"<a href=\"/wiki/The_Lion_and_the_Rose\" title=\"The Lion and the Rose\">The Lion and the Rose</a>\"</td><td style=\"text-align:center\"><a href=\"/wiki/Alex_Graves\" title=\"Alex Graves\">Alex Graves</a></td><td style=\"text-align:center\"><a href=\"/wiki/George_R._R._Martin\" title=\"George R. R. Martin\">George R. R. Martin</a></td><td style=\"text-align:center\">April 13, 2014<span style=\"display:none\"> (<span class=\"bday dtstart published updated\">2014-04-13</span>)</span></td><td style=\"text-align:center\">6.31<sup class=\"reference\" id=\"cite_ref-52\"><a href=\"#cite_note-52\">[52]</a></sup></td></tr>\n",
       " <tr class=\"vevent\" style=\"text-align:center;background:inherit\"><th id=\"ep33\" rowspan=\"1\" scope=\"row\" style=\"text-align:center\">33</th><td style=\"text-align:center\">3</td><td class=\"summary\" style=\"text-align:left\">\"<a href=\"/wiki/Breaker_of_Chains\" title=\"Breaker of Chains\">Breaker of Chains</a>\"</td><td style=\"text-align:center\">Alex Graves</td><td style=\"text-align:center\">David Benioff &amp; D. B. Weiss</td><td style=\"text-align:center\">April 20, 2014<span style=\"display:none\"> (<span class=\"bday dtstart published updated\">2014-04-20</span>)</span></td><td style=\"text-align:center\">6.59<sup class=\"reference\" id=\"cite_ref-53\"><a href=\"#cite_note-53\">[53]</a></sup></td></tr>\n",
       " <tr class=\"vevent\" style=\"text-align:center;background:inherit\"><th id=\"ep34\" rowspan=\"1\" scope=\"row\" style=\"text-align:center\">34</th><td style=\"text-align:center\">4</td><td class=\"summary\" style=\"text-align:left\">\"<a href=\"/wiki/Oathkeeper\" title=\"Oathkeeper\">Oathkeeper</a>\"</td><td style=\"text-align:center\"><a href=\"/wiki/Michelle_MacLaren\" title=\"Michelle MacLaren\">Michelle MacLaren</a></td><td style=\"text-align:center\"><a href=\"/wiki/Bryan_Cogman\" title=\"Bryan Cogman\">Bryan Cogman</a></td><td style=\"text-align:center\">April 27, 2014<span style=\"display:none\"> (<span class=\"bday dtstart published updated\">2014-04-27</span>)</span></td><td style=\"text-align:center\">6.95<sup class=\"reference\" id=\"cite_ref-54\"><a href=\"#cite_note-54\">[54]</a></sup></td></tr>\n",
       " <tr class=\"vevent\" style=\"text-align:center;background:inherit\"><th id=\"ep35\" rowspan=\"1\" scope=\"row\" style=\"text-align:center\">35</th><td style=\"text-align:center\">5</td><td class=\"summary\" style=\"text-align:left\">\"<a href=\"/wiki/First_of_His_Name\" title=\"First of His Name\">First of His Name</a>\"</td><td style=\"text-align:center\">Michelle MacLaren</td><td style=\"text-align:center\">David Benioff &amp; D. B. Weiss</td><td style=\"text-align:center\">May 4, 2014<span style=\"display:none\"> (<span class=\"bday dtstart published updated\">2014-05-04</span>)</span></td><td style=\"text-align:center\">7.16<sup class=\"reference\" id=\"cite_ref-55\"><a href=\"#cite_note-55\">[55]</a></sup></td></tr>\n",
       " <tr class=\"vevent\" style=\"text-align:center;background:inherit\"><th id=\"ep36\" rowspan=\"1\" scope=\"row\" style=\"text-align:center\">36</th><td style=\"text-align:center\">6</td><td class=\"summary\" style=\"text-align:left\">\"<a href=\"/wiki/The_Laws_of_Gods_and_Men\" title=\"The Laws of Gods and Men\">The Laws of Gods and Men</a>\"</td><td style=\"text-align:center\"><a href=\"/wiki/Alik_Sakharov\" title=\"Alik Sakharov\">Alik Sakharov</a></td><td style=\"text-align:center\">Bryan Cogman</td><td style=\"text-align:center\">May 11, 2014<span style=\"display:none\"> (<span class=\"bday dtstart published updated\">2014-05-11</span>)</span></td><td style=\"text-align:center\">6.40<sup class=\"reference\" id=\"cite_ref-56\"><a href=\"#cite_note-56\">[56]</a></sup></td></tr>\n",
       " <tr class=\"vevent\" style=\"text-align:center;background:inherit\"><th id=\"ep37\" rowspan=\"1\" scope=\"row\" style=\"text-align:center\">37</th><td style=\"text-align:center\">7</td><td class=\"summary\" style=\"text-align:left\">\"<a href=\"/wiki/Mockingbird_(Game_of_Thrones)\" title=\"Mockingbird (Game of Thrones)\">Mockingbird</a>\"</td><td style=\"text-align:center\">Alik Sakharov</td><td style=\"text-align:center\">David Benioff &amp; D. B. Weiss</td><td style=\"text-align:center\">May 18, 2014<span style=\"display:none\"> (<span class=\"bday dtstart published updated\">2014-05-18</span>)</span></td><td style=\"text-align:center\">7.20<sup class=\"reference\" id=\"cite_ref-57\"><a href=\"#cite_note-57\">[57]</a></sup></td></tr>\n",
       " <tr class=\"vevent\" style=\"text-align:center;background:inherit\"><th id=\"ep38\" rowspan=\"1\" scope=\"row\" style=\"text-align:center\">38</th><td style=\"text-align:center\">8</td><td class=\"summary\" style=\"text-align:left\">\"<a href=\"/wiki/The_Mountain_and_the_Viper\" title=\"The Mountain and the Viper\">The Mountain and the Viper</a>\"</td><td style=\"text-align:center\">Alex Graves</td><td style=\"text-align:center\">David Benioff &amp; D. B. Weiss</td><td style=\"text-align:center\">June 1, 2014<span style=\"display:none\"> (<span class=\"bday dtstart published updated\">2014-06-01</span>)</span></td><td style=\"text-align:center\">7.17<sup class=\"reference\" id=\"cite_ref-58\"><a href=\"#cite_note-58\">[58]</a></sup></td></tr>\n",
       " <tr class=\"vevent\" style=\"text-align:center;background:inherit\"><th id=\"ep39\" rowspan=\"1\" scope=\"row\" style=\"text-align:center\">39</th><td style=\"text-align:center\">9</td><td class=\"summary\" style=\"text-align:left\">\"<a href=\"/wiki/The_Watchers_on_the_Wall\" title=\"The Watchers on the Wall\">The Watchers on the Wall</a>\"</td><td style=\"text-align:center\"><a href=\"/wiki/Neil_Marshall\" title=\"Neil Marshall\">Neil Marshall</a></td><td style=\"text-align:center\">David Benioff &amp; D. B. Weiss</td><td style=\"text-align:center\">June 8, 2014<span style=\"display:none\"> (<span class=\"bday dtstart published updated\">2014-06-08</span>)</span></td><td style=\"text-align:center\">6.95<sup class=\"reference\" id=\"cite_ref-59\"><a href=\"#cite_note-59\">[59]</a></sup></td></tr>\n",
       " <tr class=\"vevent\" style=\"text-align:center;background:inherit\"><th id=\"ep40\" rowspan=\"1\" scope=\"row\" style=\"text-align:center\">40</th><td style=\"text-align:center\">10</td><td class=\"summary\" style=\"text-align:left\">\"<a href=\"/wiki/The_Children_(Game_of_Thrones)\" title=\"The Children (Game of Thrones)\">The Children</a>\"</td><td style=\"text-align:center\">Alex Graves</td><td style=\"text-align:center\">David Benioff &amp; D. B. Weiss</td><td style=\"text-align:center\">June 15, 2014<span style=\"display:none\"> (<span class=\"bday dtstart published updated\">2014-06-15</span>)</span></td><td style=\"text-align:center\">7.09<sup class=\"reference\" id=\"cite_ref-60\"><a href=\"#cite_note-60\">[60]</a></sup></td></tr></tbody></table>,\n",
       " <table class=\"wikitable plainrowheaders wikiepisodetable\" style=\"width:100%\"><tbody><tr style=\"color:white;text-align:center\"><th scope=\"col\" style=\"background:#68411C;width:5%\"><abbr title=\"Number\">No.</abbr><br/>overall</th><th scope=\"col\" style=\"background:#68411C;width:5%\"><abbr title=\"Number\">No.</abbr> in<br/>season</th><th scope=\"col\" style=\"background:#68411C;width:23%\">Title</th><th scope=\"col\" style=\"background:#68411C;width:17%\">Directed by</th><th scope=\"col\" style=\"background:#68411C;width:27%\">Written by</th><th scope=\"col\" style=\"background:#68411C;width:12%\">Original air date <span style=\"background-color:white;padding:1px;display:inline-block;line-height:50%\"><sup class=\"reference\" id=\"cite_ref-Futon_20-4\"><a href=\"#cite_note-Futon-20\">[20]</a></sup></span></th><th scope=\"col\" style=\"background:#68411C;width:10%\">U.S. viewers<br/>(millions)</th></tr><tr class=\"vevent\" style=\"text-align:center;background:inherit\"><th id=\"ep41\" rowspan=\"1\" scope=\"row\" style=\"text-align:center\">41</th><td style=\"text-align:center\">1</td><td class=\"summary\" style=\"text-align:left\">\"<a href=\"/wiki/The_Wars_to_Come\" title=\"The Wars to Come\">The Wars to Come</a>\"</td><td style=\"text-align:center\"><a href=\"/wiki/Michael_Slovis\" title=\"Michael Slovis\">Michael Slovis</a></td><td style=\"text-align:center\"><a href=\"/wiki/David_Benioff\" title=\"David Benioff\">David Benioff</a> &amp; <a href=\"/wiki/D._B._Weiss\" title=\"D. B. Weiss\">D. B. Weiss</a></td><td style=\"text-align:center\">April 12, 2015<span style=\"display:none\"> (<span class=\"bday dtstart published updated\">2015-04-12</span>)</span></td><td style=\"text-align:center\">8.00<sup class=\"reference\" id=\"cite_ref-5.01_61-0\"><a href=\"#cite_note-5.01-61\">[61]</a></sup></td></tr>\n",
       " <tr class=\"vevent\" style=\"text-align:center;background:inherit\"><th id=\"ep42\" rowspan=\"1\" scope=\"row\" style=\"text-align:center\">42</th><td style=\"text-align:center\">2</td><td class=\"summary\" style=\"text-align:left\">\"<a href=\"/wiki/The_House_of_Black_and_White\" title=\"The House of Black and White\">The House of Black and White</a>\"</td><td style=\"text-align:center\">Michael Slovis</td><td style=\"text-align:center\">David Benioff &amp; D. B. Weiss</td><td style=\"text-align:center\">April 19, 2015<span style=\"display:none\"> (<span class=\"bday dtstart published updated\">2015-04-19</span>)</span></td><td style=\"text-align:center\">6.81<sup class=\"reference\" id=\"cite_ref-5.02_62-0\"><a href=\"#cite_note-5.02-62\">[62]</a></sup></td></tr>\n",
       " <tr class=\"vevent\" style=\"text-align:center;background:inherit\"><th id=\"ep43\" rowspan=\"1\" scope=\"row\" style=\"text-align:center\">43</th><td style=\"text-align:center\">3</td><td class=\"summary\" style=\"text-align:left\">\"<a href=\"/wiki/High_Sparrow_(Game_of_Thrones_episode)\" title=\"High Sparrow (Game of Thrones episode)\">High Sparrow</a>\"</td><td style=\"text-align:center\"><a href=\"/wiki/Mark_Mylod\" title=\"Mark Mylod\">Mark Mylod</a></td><td style=\"text-align:center\">David Benioff &amp; D. B. Weiss</td><td style=\"text-align:center\">April 26, 2015<span style=\"display:none\"> (<span class=\"bday dtstart published updated\">2015-04-26</span>)</span></td><td style=\"text-align:center\">6.71<sup class=\"reference\" id=\"cite_ref-5.03_63-0\"><a href=\"#cite_note-5.03-63\">[63]</a></sup></td></tr>\n",
       " <tr class=\"vevent\" style=\"text-align:center;background:inherit\"><th id=\"ep44\" rowspan=\"1\" scope=\"row\" style=\"text-align:center\">44</th><td style=\"text-align:center\">4</td><td class=\"summary\" style=\"text-align:left\">\"<a href=\"/wiki/Sons_of_the_Harpy\" title=\"Sons of the Harpy\">Sons of the Harpy</a>\"</td><td style=\"text-align:center\">Mark Mylod</td><td style=\"text-align:center\"><a href=\"/wiki/Dave_Hill_(screenwriter)\" title=\"Dave Hill (screenwriter)\">Dave Hill</a></td><td style=\"text-align:center\">May 3, 2015<span style=\"display:none\"> (<span class=\"bday dtstart published updated\">2015-05-03</span>)</span></td><td style=\"text-align:center\">6.82<sup class=\"reference\" id=\"cite_ref-5.04_64-0\"><a href=\"#cite_note-5.04-64\">[64]</a></sup></td></tr>\n",
       " <tr class=\"vevent\" style=\"text-align:center;background:inherit\"><th id=\"ep45\" rowspan=\"1\" scope=\"row\" style=\"text-align:center\">45</th><td style=\"text-align:center\">5</td><td class=\"summary\" style=\"text-align:left\">\"<a href=\"/wiki/Kill_the_Boy\" title=\"Kill the Boy\">Kill the Boy</a>\"</td><td style=\"text-align:center\"><a href=\"/wiki/Jeremy_Podeswa\" title=\"Jeremy Podeswa\">Jeremy Podeswa</a></td><td style=\"text-align:center\"><a href=\"/wiki/Bryan_Cogman\" title=\"Bryan Cogman\">Bryan Cogman</a></td><td style=\"text-align:center\">May 10, 2015<span style=\"display:none\"> (<span class=\"bday dtstart published updated\">2015-05-10</span>)</span></td><td style=\"text-align:center\">6.56<sup class=\"reference\" id=\"cite_ref-5.05_65-0\"><a href=\"#cite_note-5.05-65\">[65]</a></sup></td></tr>\n",
       " <tr class=\"vevent\" style=\"text-align:center;background:inherit\"><th id=\"ep46\" rowspan=\"1\" scope=\"row\" style=\"text-align:center\">46</th><td style=\"text-align:center\">6</td><td class=\"summary\" style=\"text-align:left\">\"<a href=\"/wiki/Unbowed,_Unbent,_Unbroken\" title=\"Unbowed, Unbent, Unbroken\">Unbowed, Unbent, Unbroken</a>\"</td><td style=\"text-align:center\">Jeremy Podeswa</td><td style=\"text-align:center\">Bryan Cogman</td><td style=\"text-align:center\">May 17, 2015<span style=\"display:none\"> (<span class=\"bday dtstart published updated\">2015-05-17</span>)</span></td><td style=\"text-align:center\">6.24<sup class=\"reference\" id=\"cite_ref-5.06_66-0\"><a href=\"#cite_note-5.06-66\">[66]</a></sup></td></tr>\n",
       " <tr class=\"vevent\" style=\"text-align:center;background:inherit\"><th id=\"ep47\" rowspan=\"1\" scope=\"row\" style=\"text-align:center\">47</th><td style=\"text-align:center\">7</td><td class=\"summary\" style=\"text-align:left\">\"<a href=\"/wiki/The_Gift_(Game_of_Thrones)\" title=\"The Gift (Game of Thrones)\">The Gift</a>\"</td><td style=\"text-align:center\"><a href=\"/wiki/Miguel_Sapochnik\" title=\"Miguel Sapochnik\">Miguel Sapochnik</a></td><td style=\"text-align:center\">David Benioff &amp; D. B. Weiss</td><td style=\"text-align:center\">May 24, 2015<span style=\"display:none\"> (<span class=\"bday dtstart published updated\">2015-05-24</span>)</span></td><td style=\"text-align:center\">5.40<sup class=\"reference\" id=\"cite_ref-5.07_67-0\"><a href=\"#cite_note-5.07-67\">[67]</a></sup></td></tr>\n",
       " <tr class=\"vevent\" style=\"text-align:center;background:inherit\"><th id=\"ep48\" rowspan=\"1\" scope=\"row\" style=\"text-align:center\">48</th><td style=\"text-align:center\">8</td><td class=\"summary\" style=\"text-align:left\">\"<a href=\"/wiki/Hardhome\" title=\"Hardhome\">Hardhome</a>\"</td><td style=\"text-align:center\">Miguel Sapochnik</td><td style=\"text-align:center\">David Benioff &amp; D. B. Weiss</td><td style=\"text-align:center\">May 31, 2015<span style=\"display:none\"> (<span class=\"bday dtstart published updated\">2015-05-31</span>)</span></td><td style=\"text-align:center\">7.01<sup class=\"reference\" id=\"cite_ref-5.08_68-0\"><a href=\"#cite_note-5.08-68\">[68]</a></sup></td></tr>\n",
       " <tr class=\"vevent\" style=\"text-align:center;background:inherit\"><th id=\"ep49\" rowspan=\"1\" scope=\"row\" style=\"text-align:center\">49</th><td style=\"text-align:center\">9</td><td class=\"summary\" style=\"text-align:left\">\"<a href=\"/wiki/The_Dance_of_Dragons\" title=\"The Dance of Dragons\">The Dance of Dragons</a>\"</td><td style=\"text-align:center\"><a href=\"/wiki/David_Nutter\" title=\"David Nutter\">David Nutter</a></td><td style=\"text-align:center\">David Benioff &amp; D. B. Weiss</td><td style=\"text-align:center\">June 7, 2015<span style=\"display:none\"> (<span class=\"bday dtstart published updated\">2015-06-07</span>)</span></td><td style=\"text-align:center\">7.14<sup class=\"reference\" id=\"cite_ref-5.09_69-0\"><a href=\"#cite_note-5.09-69\">[69]</a></sup></td></tr>\n",
       " <tr class=\"vevent\" style=\"text-align:center;background:inherit\"><th id=\"ep50\" rowspan=\"1\" scope=\"row\" style=\"text-align:center\">50</th><td style=\"text-align:center\">10</td><td class=\"summary\" style=\"text-align:left\">\"<a href=\"/wiki/Mother%27s_Mercy\" title=\"Mother's Mercy\">Mother's Mercy</a>\"</td><td style=\"text-align:center\">David Nutter</td><td style=\"text-align:center\">David Benioff &amp; D. B. Weiss</td><td style=\"text-align:center\">June 14, 2015<span style=\"display:none\"> (<span class=\"bday dtstart published updated\">2015-06-14</span>)</span></td><td style=\"text-align:center\">8.11<sup class=\"reference\" id=\"cite_ref-finale_ratings_70-0\"><a href=\"#cite_note-finale_ratings-70\">[70]</a></sup></td></tr></tbody></table>,\n",
       " <table class=\"wikitable plainrowheaders wikiepisodetable\" style=\"width:100%\"><tbody><tr style=\"color:white;text-align:center\"><th scope=\"col\" style=\"background:#31485C;width:5%\"><abbr title=\"Number\">No.</abbr><br/>overall</th><th scope=\"col\" style=\"background:#31485C;width:5%\"><abbr title=\"Number\">No.</abbr> in<br/>season</th><th scope=\"col\" style=\"background:#31485C;width:23%\">Title</th><th scope=\"col\" style=\"background:#31485C;width:17%\">Directed by</th><th scope=\"col\" style=\"background:#31485C;width:27%\">Written by</th><th scope=\"col\" style=\"background:#31485C;width:12%\">Original air date <span style=\"background-color:white;padding:1px;display:inline-block;line-height:50%\"><sup class=\"reference\" id=\"cite_ref-Futon_20-5\"><a href=\"#cite_note-Futon-20\">[20]</a></sup></span></th><th scope=\"col\" style=\"background:#31485C;width:10%\">U.S. viewers<br/>(millions)</th></tr><tr class=\"vevent\" style=\"text-align:center;background:inherit\"><th id=\"ep51\" rowspan=\"1\" scope=\"row\" style=\"text-align:center\">51</th><td style=\"text-align:center\">1</td><td class=\"summary\" style=\"text-align:left\">\"<a href=\"/wiki/The_Red_Woman\" title=\"The Red Woman\">The Red Woman</a>\"</td><td style=\"text-align:center\"><a href=\"/wiki/Jeremy_Podeswa\" title=\"Jeremy Podeswa\">Jeremy Podeswa</a></td><td style=\"text-align:center\"><a href=\"/wiki/David_Benioff\" title=\"David Benioff\">David Benioff</a> &amp; <a href=\"/wiki/D._B._Weiss\" title=\"D. B. Weiss\">D. B. Weiss</a></td><td style=\"text-align:center\">April 24, 2016<span style=\"display:none\"> (<span class=\"bday dtstart published updated\">2016-04-24</span>)</span></td><td style=\"text-align:center\">7.94<sup class=\"reference\" id=\"cite_ref-6.01_71-0\"><a href=\"#cite_note-6.01-71\">[71]</a></sup></td></tr>\n",
       " <tr class=\"vevent\" style=\"text-align:center;background:inherit\"><th id=\"ep52\" rowspan=\"1\" scope=\"row\" style=\"text-align:center\">52</th><td style=\"text-align:center\">2</td><td class=\"summary\" style=\"text-align:left\">\"<a href=\"/wiki/Home_(Game_of_Thrones)\" title=\"Home (Game of Thrones)\">Home</a>\"</td><td style=\"text-align:center\">Jeremy Podeswa</td><td style=\"text-align:center\"><a href=\"/wiki/Dave_Hill_(screenwriter)\" title=\"Dave Hill (screenwriter)\">Dave Hill</a></td><td style=\"text-align:center\">May 1, 2016<span style=\"display:none\"> (<span class=\"bday dtstart published updated\">2016-05-01</span>)</span></td><td style=\"text-align:center\">7.29<sup class=\"reference\" id=\"cite_ref-6.02_72-0\"><a href=\"#cite_note-6.02-72\">[72]</a></sup></td></tr>\n",
       " <tr class=\"vevent\" style=\"text-align:center;background:inherit\"><th id=\"ep53\" rowspan=\"1\" scope=\"row\" style=\"text-align:center\">53</th><td style=\"text-align:center\">3</td><td class=\"summary\" style=\"text-align:left\">\"<a href=\"/wiki/Oathbreaker_(Game_of_Thrones)\" title=\"Oathbreaker (Game of Thrones)\">Oathbreaker</a>\"</td><td style=\"text-align:center\"><a href=\"/wiki/Daniel_Sackheim\" title=\"Daniel Sackheim\">Daniel Sackheim</a></td><td style=\"text-align:center\">David Benioff &amp; D. B. Weiss</td><td style=\"text-align:center\">May 8, 2016<span style=\"display:none\"> (<span class=\"bday dtstart published updated\">2016-05-08</span>)</span></td><td style=\"text-align:center\">7.28<sup class=\"reference\" id=\"cite_ref-6.03_73-0\"><a href=\"#cite_note-6.03-73\">[73]</a></sup></td></tr>\n",
       " <tr class=\"vevent\" style=\"text-align:center;background:inherit\"><th id=\"ep54\" rowspan=\"1\" scope=\"row\" style=\"text-align:center\">54</th><td style=\"text-align:center\">4</td><td class=\"summary\" style=\"text-align:left\">\"<a href=\"/wiki/Book_of_the_Stranger\" title=\"Book of the Stranger\">Book of the Stranger</a>\"</td><td style=\"text-align:center\">Daniel Sackheim</td><td style=\"text-align:center\">David Benioff &amp; D. B. Weiss</td><td style=\"text-align:center\">May 15, 2016<span style=\"display:none\"> (<span class=\"bday dtstart published updated\">2016-05-15</span>)</span></td><td style=\"text-align:center\">7.82<sup class=\"reference\" id=\"cite_ref-6.04_74-0\"><a href=\"#cite_note-6.04-74\">[74]</a></sup></td></tr>\n",
       " <tr class=\"vevent\" style=\"text-align:center;background:inherit\"><th id=\"ep55\" rowspan=\"1\" scope=\"row\" style=\"text-align:center\">55</th><td style=\"text-align:center\">5</td><td class=\"summary\" style=\"text-align:left\">\"<a href=\"/wiki/The_Door_(Game_of_Thrones)\" title=\"The Door (Game of Thrones)\">The Door</a>\"</td><td style=\"text-align:center\"><a href=\"/wiki/Jack_Bender\" title=\"Jack Bender\">Jack Bender</a></td><td style=\"text-align:center\">David Benioff &amp; D. B. Weiss</td><td style=\"text-align:center\">May 22, 2016<span style=\"display:none\"> (<span class=\"bday dtstart published updated\">2016-05-22</span>)</span></td><td style=\"text-align:center\">7.89<sup class=\"reference\" id=\"cite_ref-6.05_75-0\"><a href=\"#cite_note-6.05-75\">[75]</a></sup></td></tr>\n",
       " <tr class=\"vevent\" style=\"text-align:center;background:inherit\"><th id=\"ep56\" rowspan=\"1\" scope=\"row\" style=\"text-align:center\">56</th><td style=\"text-align:center\">6</td><td class=\"summary\" style=\"text-align:left\">\"<a href=\"/wiki/Blood_of_My_Blood\" title=\"Blood of My Blood\">Blood of My Blood</a>\"</td><td style=\"text-align:center\">Jack Bender</td><td style=\"text-align:center\"><a href=\"/wiki/Bryan_Cogman\" title=\"Bryan Cogman\">Bryan Cogman</a></td><td style=\"text-align:center\">May 29, 2016<span style=\"display:none\"> (<span class=\"bday dtstart published updated\">2016-05-29</span>)</span></td><td style=\"text-align:center\">6.71<sup class=\"reference\" id=\"cite_ref-6.06_76-0\"><a href=\"#cite_note-6.06-76\">[76]</a></sup></td></tr>\n",
       " <tr class=\"vevent\" style=\"text-align:center;background:inherit\"><th id=\"ep57\" rowspan=\"1\" scope=\"row\" style=\"text-align:center\">57</th><td style=\"text-align:center\">7</td><td class=\"summary\" style=\"text-align:left\">\"<a href=\"/wiki/The_Broken_Man\" title=\"The Broken Man\">The Broken Man</a>\"</td><td style=\"text-align:center\"><a href=\"/wiki/Mark_Mylod\" title=\"Mark Mylod\">Mark Mylod</a></td><td style=\"text-align:center\">Bryan Cogman</td><td style=\"text-align:center\">June 5, 2016<span style=\"display:none\"> (<span class=\"bday dtstart published updated\">2016-06-05</span>)</span></td><td style=\"text-align:center\">7.80<sup class=\"reference\" id=\"cite_ref-6.07_77-0\"><a href=\"#cite_note-6.07-77\">[77]</a></sup></td></tr>\n",
       " <tr class=\"vevent\" style=\"text-align:center;background:inherit\"><th id=\"ep58\" rowspan=\"1\" scope=\"row\" style=\"text-align:center\">58</th><td style=\"text-align:center\">8</td><td class=\"summary\" style=\"text-align:left\">\"<a href=\"/wiki/No_One_(Game_of_Thrones)\" title=\"No One (Game of Thrones)\">No One</a>\"</td><td style=\"text-align:center\">Mark Mylod</td><td style=\"text-align:center\">David Benioff &amp; D. B. Weiss</td><td style=\"text-align:center\">June 12, 2016<span style=\"display:none\"> (<span class=\"bday dtstart published updated\">2016-06-12</span>)</span></td><td style=\"text-align:center\">7.60<sup class=\"reference\" id=\"cite_ref-6.08_78-0\"><a href=\"#cite_note-6.08-78\">[78]</a></sup></td></tr>\n",
       " <tr class=\"vevent\" style=\"text-align:center;background:inherit\"><th id=\"ep59\" rowspan=\"1\" scope=\"row\" style=\"text-align:center\">59</th><td style=\"text-align:center\">9</td><td class=\"summary\" style=\"text-align:left\">\"<a href=\"/wiki/Battle_of_the_Bastards\" title=\"Battle of the Bastards\">Battle of the Bastards</a>\"</td><td style=\"text-align:center\"><a href=\"/wiki/Miguel_Sapochnik\" title=\"Miguel Sapochnik\">Miguel Sapochnik</a></td><td style=\"text-align:center\">David Benioff &amp; D. B. Weiss</td><td style=\"text-align:center\">June 19, 2016<span style=\"display:none\"> (<span class=\"bday dtstart published updated\">2016-06-19</span>)</span></td><td style=\"text-align:center\">7.66<sup class=\"reference\" id=\"cite_ref-6.09_79-0\"><a href=\"#cite_note-6.09-79\">[79]</a></sup></td></tr>\n",
       " <tr class=\"vevent\" style=\"text-align:center;background:inherit\"><th id=\"ep60\" rowspan=\"1\" scope=\"row\" style=\"text-align:center\">60</th><td style=\"text-align:center\">10</td><td class=\"summary\" style=\"text-align:left\">\"<a href=\"/wiki/The_Winds_of_Winter_(Game_of_Thrones)\" title=\"The Winds of Winter (Game of Thrones)\">The Winds of Winter</a>\"</td><td style=\"text-align:center\">Miguel Sapochnik</td><td style=\"text-align:center\">David Benioff &amp; D. B. Weiss</td><td style=\"text-align:center\">June 26, 2016<span style=\"display:none\"> (<span class=\"bday dtstart published updated\">2016-06-26</span>)</span></td><td style=\"text-align:center\">8.89<sup class=\"reference\" id=\"cite_ref-6.10_80-0\"><a href=\"#cite_note-6.10-80\">[80]</a></sup></td></tr></tbody></table>,\n",
       " <table class=\"wikitable plainrowheaders wikiepisodetable\" style=\"width:100%\"><tbody><tr style=\"color:white;text-align:center\"><th scope=\"col\" style=\"background:#091411;width:5%\"><abbr title=\"Number\">No.</abbr><br/>overall</th><th scope=\"col\" style=\"background:#091411;width:5%\"><abbr title=\"Number\">No.</abbr> in<br/>season</th><th scope=\"col\" style=\"background:#091411;width:23%\">Title</th><th scope=\"col\" style=\"background:#091411;width:17%\">Directed by</th><th scope=\"col\" style=\"background:#091411;width:27%\">Written by</th><th scope=\"col\" style=\"background:#091411;width:12%\">Original air date <span style=\"background-color:white;padding:1px;display:inline-block;line-height:50%\"><sup class=\"reference\" id=\"cite_ref-Futon_20-6\"><a href=\"#cite_note-Futon-20\">[20]</a></sup></span></th><th scope=\"col\" style=\"background:#091411;width:10%\">U.S. viewers<br/>(millions)</th></tr><tr class=\"vevent\" style=\"text-align:center;background:inherit\"><th id=\"ep61\" rowspan=\"1\" scope=\"row\" style=\"text-align:center\">61</th><td style=\"text-align:center\">1</td><td class=\"summary\" style=\"text-align:left\">\"<a href=\"/wiki/Dragonstone_(Game_of_Thrones_episode)\" title=\"Dragonstone (Game of Thrones episode)\">Dragonstone</a>\"</td><td style=\"text-align:center\"><a href=\"/wiki/Jeremy_Podeswa\" title=\"Jeremy Podeswa\">Jeremy Podeswa</a></td><td style=\"text-align:center\"><a href=\"/wiki/David_Benioff\" title=\"David Benioff\">David Benioff</a> &amp; <a href=\"/wiki/D._B._Weiss\" title=\"D. B. Weiss\">D. B. Weiss</a></td><td style=\"text-align:center\">July 16, 2017<span style=\"display:none\"> (<span class=\"bday dtstart published updated\">2017-07-16</span>)</span></td><td style=\"text-align:center\">10.11<sup class=\"reference\" id=\"cite_ref-s07e01_81-0\"><a href=\"#cite_note-s07e01-81\">[81]</a></sup></td></tr>\n",
       " <tr class=\"vevent\" style=\"text-align:center;background:inherit\"><th id=\"ep62\" rowspan=\"1\" scope=\"row\" style=\"text-align:center\">62</th><td style=\"text-align:center\">2</td><td class=\"summary\" style=\"text-align:left\">\"<a href=\"/wiki/Stormborn\" title=\"Stormborn\">Stormborn</a>\"</td><td style=\"text-align:center\"><a href=\"/wiki/Mark_Mylod\" title=\"Mark Mylod\">Mark Mylod</a></td><td style=\"text-align:center\"><a href=\"/wiki/Bryan_Cogman\" title=\"Bryan Cogman\">Bryan Cogman</a></td><td style=\"text-align:center\">July 23, 2017<span style=\"display:none\"> (<span class=\"bday dtstart published updated\">2017-07-23</span>)</span></td><td style=\"text-align:center\">9.27<sup class=\"reference\" id=\"cite_ref-s07e02_82-0\"><a href=\"#cite_note-s07e02-82\">[82]</a></sup></td></tr>\n",
       " <tr class=\"vevent\" style=\"text-align:center;background:inherit\"><th id=\"ep63\" rowspan=\"1\" scope=\"row\" style=\"text-align:center\">63</th><td style=\"text-align:center\">3</td><td class=\"summary\" style=\"text-align:left\">\"<a href=\"/wiki/The_Queen%27s_Justice\" title=\"The Queen's Justice\">The Queen's Justice</a>\"</td><td style=\"text-align:center\">Mark Mylod</td><td style=\"text-align:center\">David Benioff &amp; D. B. Weiss</td><td style=\"text-align:center\">July 30, 2017<span style=\"display:none\"> (<span class=\"bday dtstart published updated\">2017-07-30</span>)</span></td><td style=\"text-align:center\">9.25<sup class=\"reference\" id=\"cite_ref-s07e03_83-0\"><a href=\"#cite_note-s07e03-83\">[83]</a></sup></td></tr>\n",
       " <tr class=\"vevent\" style=\"text-align:center;background:inherit\"><th id=\"ep64\" rowspan=\"1\" scope=\"row\" style=\"text-align:center\">64</th><td style=\"text-align:center\">4</td><td class=\"summary\" style=\"text-align:left\">\"<a href=\"/wiki/The_Spoils_of_War_(Game_of_Thrones)\" title=\"The Spoils of War (Game of Thrones)\">The Spoils of War</a>\"</td><td style=\"text-align:center\"><a href=\"/wiki/Matt_Shakman\" title=\"Matt Shakman\">Matt Shakman</a></td><td style=\"text-align:center\">David Benioff &amp; D. B. Weiss</td><td style=\"text-align:center\">August 6, 2017<span style=\"display:none\"> (<span class=\"bday dtstart published updated\">2017-08-06</span>)</span></td><td style=\"text-align:center\">10.17<sup class=\"reference\" id=\"cite_ref-s07e04_84-0\"><a href=\"#cite_note-s07e04-84\">[84]</a></sup></td></tr>\n",
       " <tr class=\"vevent\" style=\"text-align:center;background:inherit\"><th id=\"ep65\" rowspan=\"1\" scope=\"row\" style=\"text-align:center\">65</th><td style=\"text-align:center\">5</td><td class=\"summary\" style=\"text-align:left\">\"<a href=\"/wiki/Eastwatch\" title=\"Eastwatch\">Eastwatch</a>\"</td><td style=\"text-align:center\">Matt Shakman</td><td style=\"text-align:center\"><a href=\"/wiki/Dave_Hill_(screenwriter)\" title=\"Dave Hill (screenwriter)\">Dave Hill</a></td><td style=\"text-align:center\">August 13, 2017<span style=\"display:none\"> (<span class=\"bday dtstart published updated\">2017-08-13</span>)</span></td><td style=\"text-align:center\">10.72<sup class=\"reference\" id=\"cite_ref-s07e05_85-0\"><a href=\"#cite_note-s07e05-85\">[85]</a></sup></td></tr>\n",
       " <tr class=\"vevent\" style=\"text-align:center;background:inherit\"><th id=\"ep66\" rowspan=\"1\" scope=\"row\" style=\"text-align:center\">66</th><td style=\"text-align:center\">6</td><td class=\"summary\" style=\"text-align:left\">\"<a href=\"/wiki/Beyond_the_Wall_(Game_of_Thrones)\" title=\"Beyond the Wall (Game of Thrones)\">Beyond the Wall</a>\"</td><td style=\"text-align:center\"><a href=\"/wiki/Alan_Taylor_(director)\" title=\"Alan Taylor (director)\">Alan Taylor</a></td><td style=\"text-align:center\">David Benioff &amp; D. B. Weiss</td><td style=\"text-align:center\">August 20, 2017<span style=\"display:none\"> (<span class=\"bday dtstart published updated\">2017-08-20</span>)</span></td><td style=\"text-align:center\">10.24<sup class=\"reference\" id=\"cite_ref-s07e06_86-0\"><a href=\"#cite_note-s07e06-86\">[86]</a></sup></td></tr>\n",
       " <tr class=\"vevent\" style=\"text-align:center;background:inherit\"><th id=\"ep67\" rowspan=\"1\" scope=\"row\" style=\"text-align:center\">67</th><td style=\"text-align:center\">7</td><td class=\"summary\" style=\"text-align:left\">\"<a href=\"/wiki/The_Dragon_and_the_Wolf\" title=\"The Dragon and the Wolf\">The Dragon and the Wolf</a>\"</td><td style=\"text-align:center\">Jeremy Podeswa</td><td style=\"text-align:center\">David Benioff &amp; D. B. Weiss</td><td style=\"text-align:center\">August 27, 2017<span style=\"display:none\"> (<span class=\"bday dtstart published updated\">2017-08-27</span>)</span></td><td style=\"text-align:center\">12.07<sup class=\"reference\" id=\"cite_ref-s07e07_87-0\"><a href=\"#cite_note-s07e07-87\">[87]</a></sup></td></tr></tbody></table>]"
      ]
     },
     "execution_count": 20,
     "metadata": {},
     "output_type": "execute_result"
    }
   ],
   "source": [
    "ep_tables"
   ]
  },
  {
   "cell_type": "code",
   "execution_count": 32,
   "id": "63744109",
   "metadata": {},
   "outputs": [
    {
     "name": "stdout",
     "output_type": "stream",
     "text": [
      "{'No.overall': '1', 'No. inseason': '1', 'Title': '\"Winter Is Coming\"', 'Directed by': 'Tim Van Patten', 'Written by': 'David Benioff & D. B. Weiss', 'Original air date\\u200a[20]': 'April\\xa017,\\xa02011\\xa0(2011-04-17)', 'U.S. viewers(millions)': '2.22[21]'}\n",
      "{'No.overall': '2', 'No. inseason': '2', 'Title': '\"The Kingsroad\"', 'Directed by': 'Tim Van Patten', 'Written by': 'David Benioff & D. B. Weiss', 'Original air date\\u200a[20]': 'April\\xa024,\\xa02011\\xa0(2011-04-24)', 'U.S. viewers(millions)': '2.20[22]'}\n",
      "{'No.overall': '3', 'No. inseason': '3', 'Title': '\"Lord Snow\"', 'Directed by': 'Brian Kirk', 'Written by': 'David Benioff & D. B. Weiss', 'Original air date\\u200a[20]': 'May\\xa01,\\xa02011\\xa0(2011-05-01)', 'U.S. viewers(millions)': '2.44[23]'}\n",
      "{'No.overall': '4', 'No. inseason': '4', 'Title': '\"Cripples, Bastards, and Broken Things\"', 'Directed by': 'Brian Kirk', 'Written by': 'Bryan Cogman', 'Original air date\\u200a[20]': 'May\\xa08,\\xa02011\\xa0(2011-05-08)', 'U.S. viewers(millions)': '2.45[24]'}\n",
      "{'No.overall': '5', 'No. inseason': '5', 'Title': '\"The Wolf and the Lion\"', 'Directed by': 'Brian Kirk', 'Written by': 'David Benioff & D. B. Weiss', 'Original air date\\u200a[20]': 'May\\xa015,\\xa02011\\xa0(2011-05-15)', 'U.S. viewers(millions)': '2.58[25]'}\n",
      "{'No.overall': '6', 'No. inseason': '6', 'Title': '\"A Golden Crown\"', 'Directed by': 'Daniel Minahan', 'Written by': 'Story by\\u200a: David Benioff & D. B. WeissTeleplay by\\u200a: Jane Espenson and David Benioff & D. B. Weiss', 'Original air date\\u200a[20]': 'May\\xa022,\\xa02011\\xa0(2011-05-22)', 'U.S. viewers(millions)': '2.44[26]'}\n",
      "{'No.overall': '7', 'No. inseason': '7', 'Title': '\"You Win or You Die\"', 'Directed by': 'Daniel Minahan', 'Written by': 'David Benioff & D. B. Weiss', 'Original air date\\u200a[20]': 'May\\xa029,\\xa02011\\xa0(2011-05-29)', 'U.S. viewers(millions)': '2.40[27]'}\n",
      "{'No.overall': '8', 'No. inseason': '8', 'Title': '\"The Pointy End\"', 'Directed by': 'Daniel Minahan', 'Written by': 'George R. R. Martin', 'Original air date\\u200a[20]': 'June\\xa05,\\xa02011\\xa0(2011-06-05)', 'U.S. viewers(millions)': '2.72[28]'}\n",
      "{'No.overall': '9', 'No. inseason': '9', 'Title': '\"Baelor\"', 'Directed by': 'Alan Taylor', 'Written by': 'David Benioff & D. B. Weiss', 'Original air date\\u200a[20]': 'June\\xa012,\\xa02011\\xa0(2011-06-12)', 'U.S. viewers(millions)': '2.66[29]'}\n",
      "{'No.overall': '10', 'No. inseason': '10', 'Title': '\"Fire and Blood\"', 'Directed by': 'Alan Taylor', 'Written by': 'David Benioff & D. B. Weiss', 'Original air date\\u200a[20]': 'June\\xa019,\\xa02011\\xa0(2011-06-19)', 'U.S. viewers(millions)': '3.04[30]'}\n",
      "{'No.overall': '11', 'No. inseason': '1', 'Title': '\"The North Remembers\"', 'Directed by': 'Alan Taylor', 'Written by': 'David Benioff & D. B. Weiss', 'Original air date\\u200a[20]': 'April\\xa01,\\xa02012\\xa0(2012-04-01)', 'U.S. viewers(millions)': '3.86[31]'}\n",
      "{'No.overall': '12', 'No. inseason': '2', 'Title': '\"The Night Lands\"', 'Directed by': 'Alan Taylor', 'Written by': 'David Benioff & D. B. Weiss', 'Original air date\\u200a[20]': 'April\\xa08,\\xa02012\\xa0(2012-04-08)', 'U.S. viewers(millions)': '3.76[32]'}\n",
      "{'No.overall': '13', 'No. inseason': '3', 'Title': '\"What Is Dead May Never Die\"', 'Directed by': 'Alik Sakharov', 'Written by': 'Bryan Cogman', 'Original air date\\u200a[20]': 'April\\xa015,\\xa02012\\xa0(2012-04-15)', 'U.S. viewers(millions)': '3.77[33]'}\n",
      "{'No.overall': '14', 'No. inseason': '4', 'Title': '\"Garden of Bones\"', 'Directed by': 'David Petrarca', 'Written by': 'Vanessa Taylor', 'Original air date\\u200a[20]': 'April\\xa022,\\xa02012\\xa0(2012-04-22)', 'U.S. viewers(millions)': '3.65[34]'}\n",
      "{'No.overall': '15', 'No. inseason': '5', 'Title': '\"The Ghost of Harrenhal\"', 'Directed by': 'David Petrarca', 'Written by': 'David Benioff & D. B. Weiss', 'Original air date\\u200a[20]': 'April\\xa029,\\xa02012\\xa0(2012-04-29)', 'U.S. viewers(millions)': '3.90[35]'}\n",
      "{'No.overall': '16', 'No. inseason': '6', 'Title': '\"The Old Gods and the New\"', 'Directed by': 'David Nutter', 'Written by': 'Vanessa Taylor', 'Original air date\\u200a[20]': 'May\\xa06,\\xa02012\\xa0(2012-05-06)', 'U.S. viewers(millions)': '3.88[36]'}\n",
      "{'No.overall': '17', 'No. inseason': '7', 'Title': '\"A Man Without Honor\"', 'Directed by': 'David Nutter', 'Written by': 'David Benioff & D. B. Weiss', 'Original air date\\u200a[20]': 'May\\xa013,\\xa02012\\xa0(2012-05-13)', 'U.S. viewers(millions)': '3.69[37]'}\n",
      "{'No.overall': '18', 'No. inseason': '8', 'Title': '\"The Prince of Winterfell\"', 'Directed by': 'Alan Taylor', 'Written by': 'David Benioff & D. B. Weiss', 'Original air date\\u200a[20]': 'May\\xa020,\\xa02012\\xa0(2012-05-20)', 'U.S. viewers(millions)': '3.86[38]'}\n",
      "{'No.overall': '19', 'No. inseason': '9', 'Title': '\"Blackwater\"', 'Directed by': 'Neil Marshall', 'Written by': 'George R. R. Martin', 'Original air date\\u200a[20]': 'May\\xa027,\\xa02012\\xa0(2012-05-27)', 'U.S. viewers(millions)': '3.38[39]'}\n",
      "{'No.overall': '20', 'No. inseason': '10', 'Title': '\"Valar Morghulis\"', 'Directed by': 'Alan Taylor', 'Written by': 'David Benioff & D. B. Weiss', 'Original air date\\u200a[20]': 'June\\xa03,\\xa02012\\xa0(2012-06-03)', 'U.S. viewers(millions)': '4.20[40]'}\n",
      "{'No.overall': '21', 'No. inseason': '1', 'Title': '\"Valar Dohaeris\"', 'Directed by': 'Daniel Minahan', 'Written by': 'David Benioff & D. B. Weiss', 'Original air date\\u200a[20]': 'March\\xa031,\\xa02013\\xa0(2013-03-31)', 'U.S. viewers(millions)': '4.37[41]'}\n",
      "{'No.overall': '22', 'No. inseason': '2', 'Title': '\"Dark Wings, Dark Words\"', 'Directed by': 'Daniel Minahan', 'Written by': 'Vanessa Taylor', 'Original air date\\u200a[20]': 'April\\xa07,\\xa02013\\xa0(2013-04-07)', 'U.S. viewers(millions)': '4.27[42]'}\n",
      "{'No.overall': '23', 'No. inseason': '3', 'Title': '\"Walk of Punishment\"', 'Directed by': 'David Benioff', 'Written by': 'David Benioff & D. B. Weiss', 'Original air date\\u200a[20]': 'April\\xa014,\\xa02013\\xa0(2013-04-14)', 'U.S. viewers(millions)': '4.72[43]'}\n",
      "{'No.overall': '24', 'No. inseason': '4', 'Title': '\"And Now His Watch Is Ended\"', 'Directed by': 'Alex Graves', 'Written by': 'David Benioff & D. B. Weiss', 'Original air date\\u200a[20]': 'April\\xa021,\\xa02013\\xa0(2013-04-21)', 'U.S. viewers(millions)': '4.87[44]'}\n",
      "{'No.overall': '25', 'No. inseason': '5', 'Title': '\"Kissed by Fire\"', 'Directed by': 'Alex Graves', 'Written by': 'Bryan Cogman', 'Original air date\\u200a[20]': 'April\\xa028,\\xa02013\\xa0(2013-04-28)', 'U.S. viewers(millions)': '5.35[45]'}\n",
      "{'No.overall': '26', 'No. inseason': '6', 'Title': '\"The Climb\"', 'Directed by': 'Alik Sakharov', 'Written by': 'David Benioff & D. B. Weiss', 'Original air date\\u200a[20]': 'May\\xa05,\\xa02013\\xa0(2013-05-05)', 'U.S. viewers(millions)': '5.50[46]'}\n",
      "{'No.overall': '27', 'No. inseason': '7', 'Title': '\"The Bear and the Maiden Fair\"', 'Directed by': 'Michelle MacLaren', 'Written by': 'George R. R. Martin', 'Original air date\\u200a[20]': 'May\\xa012,\\xa02013\\xa0(2013-05-12)', 'U.S. viewers(millions)': '4.84[47]'}\n",
      "{'No.overall': '28', 'No. inseason': '8', 'Title': '\"Second Sons\"', 'Directed by': 'Michelle MacLaren', 'Written by': 'David Benioff & D. B. Weiss', 'Original air date\\u200a[20]': 'May\\xa019,\\xa02013\\xa0(2013-05-19)', 'U.S. viewers(millions)': '5.13[48]'}\n",
      "{'No.overall': '29', 'No. inseason': '9', 'Title': '\"The Rains of Castamere\"', 'Directed by': 'David Nutter', 'Written by': 'David Benioff & D. B. Weiss', 'Original air date\\u200a[20]': 'June\\xa02,\\xa02013\\xa0(2013-06-02)', 'U.S. viewers(millions)': '5.22[49]'}\n",
      "{'No.overall': '30', 'No. inseason': '10', 'Title': '\"Mhysa\"', 'Directed by': 'David Nutter', 'Written by': 'David Benioff & D. B. Weiss', 'Original air date\\u200a[20]': 'June\\xa09,\\xa02013\\xa0(2013-06-09)', 'U.S. viewers(millions)': '5.39[50]'}\n",
      "{'No.overall': '31', 'No. inseason': '1', 'Title': '\"Two Swords\"', 'Directed by': 'D. B. Weiss', 'Written by': 'David Benioff & D. B. Weiss', 'Original air date\\u200a[20]': 'April\\xa06,\\xa02014\\xa0(2014-04-06)', 'U.S. viewers(millions)': '6.64[51]'}\n",
      "{'No.overall': '32', 'No. inseason': '2', 'Title': '\"The Lion and the Rose\"', 'Directed by': 'Alex Graves', 'Written by': 'George R. R. Martin', 'Original air date\\u200a[20]': 'April\\xa013,\\xa02014\\xa0(2014-04-13)', 'U.S. viewers(millions)': '6.31[52]'}\n",
      "{'No.overall': '33', 'No. inseason': '3', 'Title': '\"Breaker of Chains\"', 'Directed by': 'Alex Graves', 'Written by': 'David Benioff & D. B. Weiss', 'Original air date\\u200a[20]': 'April\\xa020,\\xa02014\\xa0(2014-04-20)', 'U.S. viewers(millions)': '6.59[53]'}\n",
      "{'No.overall': '34', 'No. inseason': '4', 'Title': '\"Oathkeeper\"', 'Directed by': 'Michelle MacLaren', 'Written by': 'Bryan Cogman', 'Original air date\\u200a[20]': 'April\\xa027,\\xa02014\\xa0(2014-04-27)', 'U.S. viewers(millions)': '6.95[54]'}\n",
      "{'No.overall': '35', 'No. inseason': '5', 'Title': '\"First of His Name\"', 'Directed by': 'Michelle MacLaren', 'Written by': 'David Benioff & D. B. Weiss', 'Original air date\\u200a[20]': 'May\\xa04,\\xa02014\\xa0(2014-05-04)', 'U.S. viewers(millions)': '7.16[55]'}\n",
      "{'No.overall': '36', 'No. inseason': '6', 'Title': '\"The Laws of Gods and Men\"', 'Directed by': 'Alik Sakharov', 'Written by': 'Bryan Cogman', 'Original air date\\u200a[20]': 'May\\xa011,\\xa02014\\xa0(2014-05-11)', 'U.S. viewers(millions)': '6.40[56]'}\n",
      "{'No.overall': '37', 'No. inseason': '7', 'Title': '\"Mockingbird\"', 'Directed by': 'Alik Sakharov', 'Written by': 'David Benioff & D. B. Weiss', 'Original air date\\u200a[20]': 'May\\xa018,\\xa02014\\xa0(2014-05-18)', 'U.S. viewers(millions)': '7.20[57]'}\n",
      "{'No.overall': '38', 'No. inseason': '8', 'Title': '\"The Mountain and the Viper\"', 'Directed by': 'Alex Graves', 'Written by': 'David Benioff & D. B. Weiss', 'Original air date\\u200a[20]': 'June\\xa01,\\xa02014\\xa0(2014-06-01)', 'U.S. viewers(millions)': '7.17[58]'}\n",
      "{'No.overall': '39', 'No. inseason': '9', 'Title': '\"The Watchers on the Wall\"', 'Directed by': 'Neil Marshall', 'Written by': 'David Benioff & D. B. Weiss', 'Original air date\\u200a[20]': 'June\\xa08,\\xa02014\\xa0(2014-06-08)', 'U.S. viewers(millions)': '6.95[59]'}\n",
      "{'No.overall': '40', 'No. inseason': '10', 'Title': '\"The Children\"', 'Directed by': 'Alex Graves', 'Written by': 'David Benioff & D. B. Weiss', 'Original air date\\u200a[20]': 'June\\xa015,\\xa02014\\xa0(2014-06-15)', 'U.S. viewers(millions)': '7.09[60]'}\n",
      "{'No.overall': '41', 'No. inseason': '1', 'Title': '\"The Wars to Come\"', 'Directed by': 'Michael Slovis', 'Written by': 'David Benioff & D. B. Weiss', 'Original air date\\u200a[20]': 'April\\xa012,\\xa02015\\xa0(2015-04-12)', 'U.S. viewers(millions)': '8.00[61]'}\n",
      "{'No.overall': '42', 'No. inseason': '2', 'Title': '\"The House of Black and White\"', 'Directed by': 'Michael Slovis', 'Written by': 'David Benioff & D. B. Weiss', 'Original air date\\u200a[20]': 'April\\xa019,\\xa02015\\xa0(2015-04-19)', 'U.S. viewers(millions)': '6.81[62]'}\n",
      "{'No.overall': '43', 'No. inseason': '3', 'Title': '\"High Sparrow\"', 'Directed by': 'Mark Mylod', 'Written by': 'David Benioff & D. B. Weiss', 'Original air date\\u200a[20]': 'April\\xa026,\\xa02015\\xa0(2015-04-26)', 'U.S. viewers(millions)': '6.71[63]'}\n",
      "{'No.overall': '44', 'No. inseason': '4', 'Title': '\"Sons of the Harpy\"', 'Directed by': 'Mark Mylod', 'Written by': 'Dave Hill', 'Original air date\\u200a[20]': 'May\\xa03,\\xa02015\\xa0(2015-05-03)', 'U.S. viewers(millions)': '6.82[64]'}\n",
      "{'No.overall': '45', 'No. inseason': '5', 'Title': '\"Kill the Boy\"', 'Directed by': 'Jeremy Podeswa', 'Written by': 'Bryan Cogman', 'Original air date\\u200a[20]': 'May\\xa010,\\xa02015\\xa0(2015-05-10)', 'U.S. viewers(millions)': '6.56[65]'}\n",
      "{'No.overall': '46', 'No. inseason': '6', 'Title': '\"Unbowed, Unbent, Unbroken\"', 'Directed by': 'Jeremy Podeswa', 'Written by': 'Bryan Cogman', 'Original air date\\u200a[20]': 'May\\xa017,\\xa02015\\xa0(2015-05-17)', 'U.S. viewers(millions)': '6.24[66]'}\n",
      "{'No.overall': '47', 'No. inseason': '7', 'Title': '\"The Gift\"', 'Directed by': 'Miguel Sapochnik', 'Written by': 'David Benioff & D. B. Weiss', 'Original air date\\u200a[20]': 'May\\xa024,\\xa02015\\xa0(2015-05-24)', 'U.S. viewers(millions)': '5.40[67]'}\n",
      "{'No.overall': '48', 'No. inseason': '8', 'Title': '\"Hardhome\"', 'Directed by': 'Miguel Sapochnik', 'Written by': 'David Benioff & D. B. Weiss', 'Original air date\\u200a[20]': 'May\\xa031,\\xa02015\\xa0(2015-05-31)', 'U.S. viewers(millions)': '7.01[68]'}\n",
      "{'No.overall': '49', 'No. inseason': '9', 'Title': '\"The Dance of Dragons\"', 'Directed by': 'David Nutter', 'Written by': 'David Benioff & D. B. Weiss', 'Original air date\\u200a[20]': 'June\\xa07,\\xa02015\\xa0(2015-06-07)', 'U.S. viewers(millions)': '7.14[69]'}\n",
      "{'No.overall': '50', 'No. inseason': '10', 'Title': '\"Mother\\'s Mercy\"', 'Directed by': 'David Nutter', 'Written by': 'David Benioff & D. B. Weiss', 'Original air date\\u200a[20]': 'June\\xa014,\\xa02015\\xa0(2015-06-14)', 'U.S. viewers(millions)': '8.11[70]'}\n",
      "{'No.overall': '51', 'No. inseason': '1', 'Title': '\"The Red Woman\"', 'Directed by': 'Jeremy Podeswa', 'Written by': 'David Benioff & D. B. Weiss', 'Original air date\\u200a[20]': 'April\\xa024,\\xa02016\\xa0(2016-04-24)', 'U.S. viewers(millions)': '7.94[71]'}\n",
      "{'No.overall': '52', 'No. inseason': '2', 'Title': '\"Home\"', 'Directed by': 'Jeremy Podeswa', 'Written by': 'Dave Hill', 'Original air date\\u200a[20]': 'May\\xa01,\\xa02016\\xa0(2016-05-01)', 'U.S. viewers(millions)': '7.29[72]'}\n",
      "{'No.overall': '53', 'No. inseason': '3', 'Title': '\"Oathbreaker\"', 'Directed by': 'Daniel Sackheim', 'Written by': 'David Benioff & D. B. Weiss', 'Original air date\\u200a[20]': 'May\\xa08,\\xa02016\\xa0(2016-05-08)', 'U.S. viewers(millions)': '7.28[73]'}\n",
      "{'No.overall': '54', 'No. inseason': '4', 'Title': '\"Book of the Stranger\"', 'Directed by': 'Daniel Sackheim', 'Written by': 'David Benioff & D. B. Weiss', 'Original air date\\u200a[20]': 'May\\xa015,\\xa02016\\xa0(2016-05-15)', 'U.S. viewers(millions)': '7.82[74]'}\n",
      "{'No.overall': '55', 'No. inseason': '5', 'Title': '\"The Door\"', 'Directed by': 'Jack Bender', 'Written by': 'David Benioff & D. B. Weiss', 'Original air date\\u200a[20]': 'May\\xa022,\\xa02016\\xa0(2016-05-22)', 'U.S. viewers(millions)': '7.89[75]'}\n",
      "{'No.overall': '56', 'No. inseason': '6', 'Title': '\"Blood of My Blood\"', 'Directed by': 'Jack Bender', 'Written by': 'Bryan Cogman', 'Original air date\\u200a[20]': 'May\\xa029,\\xa02016\\xa0(2016-05-29)', 'U.S. viewers(millions)': '6.71[76]'}\n",
      "{'No.overall': '57', 'No. inseason': '7', 'Title': '\"The Broken Man\"', 'Directed by': 'Mark Mylod', 'Written by': 'Bryan Cogman', 'Original air date\\u200a[20]': 'June\\xa05,\\xa02016\\xa0(2016-06-05)', 'U.S. viewers(millions)': '7.80[77]'}\n",
      "{'No.overall': '58', 'No. inseason': '8', 'Title': '\"No One\"', 'Directed by': 'Mark Mylod', 'Written by': 'David Benioff & D. B. Weiss', 'Original air date\\u200a[20]': 'June\\xa012,\\xa02016\\xa0(2016-06-12)', 'U.S. viewers(millions)': '7.60[78]'}\n",
      "{'No.overall': '59', 'No. inseason': '9', 'Title': '\"Battle of the Bastards\"', 'Directed by': 'Miguel Sapochnik', 'Written by': 'David Benioff & D. B. Weiss', 'Original air date\\u200a[20]': 'June\\xa019,\\xa02016\\xa0(2016-06-19)', 'U.S. viewers(millions)': '7.66[79]'}\n",
      "{'No.overall': '60', 'No. inseason': '10', 'Title': '\"The Winds of Winter\"', 'Directed by': 'Miguel Sapochnik', 'Written by': 'David Benioff & D. B. Weiss', 'Original air date\\u200a[20]': 'June\\xa026,\\xa02016\\xa0(2016-06-26)', 'U.S. viewers(millions)': '8.89[80]'}\n",
      "{'No.overall': '61', 'No. inseason': '1', 'Title': '\"Dragonstone\"', 'Directed by': 'Jeremy Podeswa', 'Written by': 'David Benioff & D. B. Weiss', 'Original air date\\u200a[20]': 'July\\xa016,\\xa02017\\xa0(2017-07-16)', 'U.S. viewers(millions)': '10.11[81]'}\n",
      "{'No.overall': '62', 'No. inseason': '2', 'Title': '\"Stormborn\"', 'Directed by': 'Mark Mylod', 'Written by': 'Bryan Cogman', 'Original air date\\u200a[20]': 'July\\xa023,\\xa02017\\xa0(2017-07-23)', 'U.S. viewers(millions)': '9.27[82]'}\n",
      "{'No.overall': '63', 'No. inseason': '3', 'Title': '\"The Queen\\'s Justice\"', 'Directed by': 'Mark Mylod', 'Written by': 'David Benioff & D. B. Weiss', 'Original air date\\u200a[20]': 'July\\xa030,\\xa02017\\xa0(2017-07-30)', 'U.S. viewers(millions)': '9.25[83]'}\n",
      "{'No.overall': '64', 'No. inseason': '4', 'Title': '\"The Spoils of War\"', 'Directed by': 'Matt Shakman', 'Written by': 'David Benioff & D. B. Weiss', 'Original air date\\u200a[20]': 'August\\xa06,\\xa02017\\xa0(2017-08-06)', 'U.S. viewers(millions)': '10.17[84]'}\n",
      "{'No.overall': '65', 'No. inseason': '5', 'Title': '\"Eastwatch\"', 'Directed by': 'Matt Shakman', 'Written by': 'Dave Hill', 'Original air date\\u200a[20]': 'August\\xa013,\\xa02017\\xa0(2017-08-13)', 'U.S. viewers(millions)': '10.72[85]'}\n",
      "{'No.overall': '66', 'No. inseason': '6', 'Title': '\"Beyond the Wall\"', 'Directed by': 'Alan Taylor', 'Written by': 'David Benioff & D. B. Weiss', 'Original air date\\u200a[20]': 'August\\xa020,\\xa02017\\xa0(2017-08-20)', 'U.S. viewers(millions)': '10.24[86]'}\n",
      "{'No.overall': '67', 'No. inseason': '7', 'Title': '\"The Dragon and the Wolf\"', 'Directed by': 'Jeremy Podeswa', 'Written by': 'David Benioff & D. B. Weiss', 'Original air date\\u200a[20]': 'August\\xa027,\\xa02017\\xa0(2017-08-27)', 'U.S. viewers(millions)': '12.07[87]'}\n"
     ]
    }
   ],
   "source": [
    "episodes = []\n",
    "ep_tables = html_soup.find_all('table', class_ = \"wikitable plainrowheaders wikiepisodetable\")\n",
    "\n",
    "for table in ep_tables: \n",
    "    headers = []\n",
    "    rows = table.find_all('tr')\n",
    "    for header in table.find(\"tr\").find_all('th'):\n",
    "        headers.append(header.text)\n",
    "        \n",
    "        \n",
    "    for row in table.find_all(\"tr\")[1:]:\n",
    "        values = []\n",
    "        for col in row.find_all([\"th\", \"td\"]):\n",
    "            values.append(col.text)\n",
    "        if values:\n",
    "            episode_dict = {headers[i]:values[i] for i in range(len(values))}\n",
    "            episodes.append(episode_dict)\n",
    "            \n",
    "            \n",
    "for episode in episodes:\n",
    "    print(episode)"
   ]
  },
  {
   "cell_type": "code",
   "execution_count": 34,
   "id": "109520c2",
   "metadata": {},
   "outputs": [
    {
     "data": {
      "text/html": [
       "<div>\n",
       "<style scoped>\n",
       "    .dataframe tbody tr th:only-of-type {\n",
       "        vertical-align: middle;\n",
       "    }\n",
       "\n",
       "    .dataframe tbody tr th {\n",
       "        vertical-align: top;\n",
       "    }\n",
       "\n",
       "    .dataframe thead th {\n",
       "        text-align: right;\n",
       "    }\n",
       "</style>\n",
       "<table border=\"1\" class=\"dataframe\">\n",
       "  <thead>\n",
       "    <tr style=\"text-align: right;\">\n",
       "      <th></th>\n",
       "      <th>No.overall</th>\n",
       "      <th>No. inseason</th>\n",
       "      <th>Title</th>\n",
       "      <th>Directed by</th>\n",
       "      <th>Written by</th>\n",
       "      <th>Original air date [20]</th>\n",
       "      <th>U.S. viewers(millions)</th>\n",
       "    </tr>\n",
       "  </thead>\n",
       "  <tbody>\n",
       "    <tr>\n",
       "      <th>0</th>\n",
       "      <td>1</td>\n",
       "      <td>1</td>\n",
       "      <td>\"Winter Is Coming\"</td>\n",
       "      <td>Tim Van Patten</td>\n",
       "      <td>David Benioff &amp; D. B. Weiss</td>\n",
       "      <td>April 17, 2011 (2011-04-17)</td>\n",
       "      <td>2.22[21]</td>\n",
       "    </tr>\n",
       "    <tr>\n",
       "      <th>1</th>\n",
       "      <td>2</td>\n",
       "      <td>2</td>\n",
       "      <td>\"The Kingsroad\"</td>\n",
       "      <td>Tim Van Patten</td>\n",
       "      <td>David Benioff &amp; D. B. Weiss</td>\n",
       "      <td>April 24, 2011 (2011-04-24)</td>\n",
       "      <td>2.20[22]</td>\n",
       "    </tr>\n",
       "    <tr>\n",
       "      <th>2</th>\n",
       "      <td>3</td>\n",
       "      <td>3</td>\n",
       "      <td>\"Lord Snow\"</td>\n",
       "      <td>Brian Kirk</td>\n",
       "      <td>David Benioff &amp; D. B. Weiss</td>\n",
       "      <td>May 1, 2011 (2011-05-01)</td>\n",
       "      <td>2.44[23]</td>\n",
       "    </tr>\n",
       "    <tr>\n",
       "      <th>3</th>\n",
       "      <td>4</td>\n",
       "      <td>4</td>\n",
       "      <td>\"Cripples, Bastards, and Broken Things\"</td>\n",
       "      <td>Brian Kirk</td>\n",
       "      <td>Bryan Cogman</td>\n",
       "      <td>May 8, 2011 (2011-05-08)</td>\n",
       "      <td>2.45[24]</td>\n",
       "    </tr>\n",
       "    <tr>\n",
       "      <th>4</th>\n",
       "      <td>5</td>\n",
       "      <td>5</td>\n",
       "      <td>\"The Wolf and the Lion\"</td>\n",
       "      <td>Brian Kirk</td>\n",
       "      <td>David Benioff &amp; D. B. Weiss</td>\n",
       "      <td>May 15, 2011 (2011-05-15)</td>\n",
       "      <td>2.58[25]</td>\n",
       "    </tr>\n",
       "    <tr>\n",
       "      <th>...</th>\n",
       "      <td>...</td>\n",
       "      <td>...</td>\n",
       "      <td>...</td>\n",
       "      <td>...</td>\n",
       "      <td>...</td>\n",
       "      <td>...</td>\n",
       "      <td>...</td>\n",
       "    </tr>\n",
       "    <tr>\n",
       "      <th>62</th>\n",
       "      <td>63</td>\n",
       "      <td>3</td>\n",
       "      <td>\"The Queen's Justice\"</td>\n",
       "      <td>Mark Mylod</td>\n",
       "      <td>David Benioff &amp; D. B. Weiss</td>\n",
       "      <td>July 30, 2017 (2017-07-30)</td>\n",
       "      <td>9.25[83]</td>\n",
       "    </tr>\n",
       "    <tr>\n",
       "      <th>63</th>\n",
       "      <td>64</td>\n",
       "      <td>4</td>\n",
       "      <td>\"The Spoils of War\"</td>\n",
       "      <td>Matt Shakman</td>\n",
       "      <td>David Benioff &amp; D. B. Weiss</td>\n",
       "      <td>August 6, 2017 (2017-08-06)</td>\n",
       "      <td>10.17[84]</td>\n",
       "    </tr>\n",
       "    <tr>\n",
       "      <th>64</th>\n",
       "      <td>65</td>\n",
       "      <td>5</td>\n",
       "      <td>\"Eastwatch\"</td>\n",
       "      <td>Matt Shakman</td>\n",
       "      <td>Dave Hill</td>\n",
       "      <td>August 13, 2017 (2017-08-13)</td>\n",
       "      <td>10.72[85]</td>\n",
       "    </tr>\n",
       "    <tr>\n",
       "      <th>65</th>\n",
       "      <td>66</td>\n",
       "      <td>6</td>\n",
       "      <td>\"Beyond the Wall\"</td>\n",
       "      <td>Alan Taylor</td>\n",
       "      <td>David Benioff &amp; D. B. Weiss</td>\n",
       "      <td>August 20, 2017 (2017-08-20)</td>\n",
       "      <td>10.24[86]</td>\n",
       "    </tr>\n",
       "    <tr>\n",
       "      <th>66</th>\n",
       "      <td>67</td>\n",
       "      <td>7</td>\n",
       "      <td>\"The Dragon and the Wolf\"</td>\n",
       "      <td>Jeremy Podeswa</td>\n",
       "      <td>David Benioff &amp; D. B. Weiss</td>\n",
       "      <td>August 27, 2017 (2017-08-27)</td>\n",
       "      <td>12.07[87]</td>\n",
       "    </tr>\n",
       "  </tbody>\n",
       "</table>\n",
       "<p>67 rows × 7 columns</p>\n",
       "</div>"
      ],
      "text/plain": [
       "   No.overall No. inseason                                    Title  \\\n",
       "0           1            1                       \"Winter Is Coming\"   \n",
       "1           2            2                          \"The Kingsroad\"   \n",
       "2           3            3                              \"Lord Snow\"   \n",
       "3           4            4  \"Cripples, Bastards, and Broken Things\"   \n",
       "4           5            5                  \"The Wolf and the Lion\"   \n",
       "..        ...          ...                                      ...   \n",
       "62         63            3                    \"The Queen's Justice\"   \n",
       "63         64            4                      \"The Spoils of War\"   \n",
       "64         65            5                              \"Eastwatch\"   \n",
       "65         66            6                        \"Beyond the Wall\"   \n",
       "66         67            7                \"The Dragon and the Wolf\"   \n",
       "\n",
       "       Directed by                   Written by        Original air date [20]  \\\n",
       "0   Tim Van Patten  David Benioff & D. B. Weiss   April 17, 2011 (2011-04-17)   \n",
       "1   Tim Van Patten  David Benioff & D. B. Weiss   April 24, 2011 (2011-04-24)   \n",
       "2       Brian Kirk  David Benioff & D. B. Weiss      May 1, 2011 (2011-05-01)   \n",
       "3       Brian Kirk                 Bryan Cogman      May 8, 2011 (2011-05-08)   \n",
       "4       Brian Kirk  David Benioff & D. B. Weiss     May 15, 2011 (2011-05-15)   \n",
       "..             ...                          ...                           ...   \n",
       "62      Mark Mylod  David Benioff & D. B. Weiss    July 30, 2017 (2017-07-30)   \n",
       "63    Matt Shakman  David Benioff & D. B. Weiss   August 6, 2017 (2017-08-06)   \n",
       "64    Matt Shakman                    Dave Hill  August 13, 2017 (2017-08-13)   \n",
       "65     Alan Taylor  David Benioff & D. B. Weiss  August 20, 2017 (2017-08-20)   \n",
       "66  Jeremy Podeswa  David Benioff & D. B. Weiss  August 27, 2017 (2017-08-27)   \n",
       "\n",
       "   U.S. viewers(millions)  \n",
       "0                2.22[21]  \n",
       "1                2.20[22]  \n",
       "2                2.44[23]  \n",
       "3                2.45[24]  \n",
       "4                2.58[25]  \n",
       "..                    ...  \n",
       "62               9.25[83]  \n",
       "63              10.17[84]  \n",
       "64              10.72[85]  \n",
       "65              10.24[86]  \n",
       "66              12.07[87]  \n",
       "\n",
       "[67 rows x 7 columns]"
      ]
     },
     "execution_count": 34,
     "metadata": {},
     "output_type": "execute_result"
    }
   ],
   "source": [
    "df = pd.DataFrame(episodes)\n",
    "df"
   ]
  },
  {
   "cell_type": "code",
   "execution_count": 35,
   "id": "cf0f86df",
   "metadata": {},
   "outputs": [],
   "source": [
    "my_xlsx = pd.ExcelFile('examples/ex1.xlsx')"
   ]
  },
  {
   "cell_type": "code",
   "execution_count": 38,
   "id": "ba89ea2d",
   "metadata": {},
   "outputs": [
    {
     "data": {
      "text/html": [
       "<div>\n",
       "<style scoped>\n",
       "    .dataframe tbody tr th:only-of-type {\n",
       "        vertical-align: middle;\n",
       "    }\n",
       "\n",
       "    .dataframe tbody tr th {\n",
       "        vertical-align: top;\n",
       "    }\n",
       "\n",
       "    .dataframe thead th {\n",
       "        text-align: right;\n",
       "    }\n",
       "</style>\n",
       "<table border=\"1\" class=\"dataframe\">\n",
       "  <thead>\n",
       "    <tr style=\"text-align: right;\">\n",
       "      <th></th>\n",
       "      <th>Unnamed: 0</th>\n",
       "      <th>a</th>\n",
       "      <th>b</th>\n",
       "      <th>c</th>\n",
       "      <th>d</th>\n",
       "      <th>message</th>\n",
       "    </tr>\n",
       "  </thead>\n",
       "  <tbody>\n",
       "    <tr>\n",
       "      <th>0</th>\n",
       "      <td>0</td>\n",
       "      <td>1</td>\n",
       "      <td>2</td>\n",
       "      <td>3</td>\n",
       "      <td>4</td>\n",
       "      <td>hello</td>\n",
       "    </tr>\n",
       "    <tr>\n",
       "      <th>1</th>\n",
       "      <td>1</td>\n",
       "      <td>5</td>\n",
       "      <td>6</td>\n",
       "      <td>7</td>\n",
       "      <td>8</td>\n",
       "      <td>world</td>\n",
       "    </tr>\n",
       "    <tr>\n",
       "      <th>2</th>\n",
       "      <td>2</td>\n",
       "      <td>9</td>\n",
       "      <td>10</td>\n",
       "      <td>11</td>\n",
       "      <td>12</td>\n",
       "      <td>foo</td>\n",
       "    </tr>\n",
       "  </tbody>\n",
       "</table>\n",
       "</div>"
      ],
      "text/plain": [
       "   Unnamed: 0  a   b   c   d message\n",
       "0           0  1   2   3   4   hello\n",
       "1           1  5   6   7   8   world\n",
       "2           2  9  10  11  12     foo"
      ]
     },
     "execution_count": 38,
     "metadata": {},
     "output_type": "execute_result"
    }
   ],
   "source": [
    "df2 = pd.read_excel(my_xlsx, 'Sheet1')\n",
    "df2"
   ]
  },
  {
   "cell_type": "code",
   "execution_count": 39,
   "id": "470be2b8",
   "metadata": {},
   "outputs": [],
   "source": [
    "writer = pd.ExcelWriter('examples/ex2.xlsx')\n",
    "df2.to_excel(writer, \"Sheet1\")\n",
    "writer.save()"
   ]
  },
  {
   "cell_type": "code",
   "execution_count": 40,
   "id": "266c6697",
   "metadata": {},
   "outputs": [],
   "source": [
    "import sqlite3"
   ]
  },
  {
   "cell_type": "code",
   "execution_count": 42,
   "id": "4dfb7b2d",
   "metadata": {},
   "outputs": [
    {
     "data": {
      "text/plain": [
       "<sqlite3.Cursor at 0x19e5d263490>"
      ]
     },
     "execution_count": 42,
     "metadata": {},
     "output_type": "execute_result"
    }
   ],
   "source": [
    "query = \"CREATE TABLE test(a VARCHAR(20), b VARCHAR(20), c REAL, d INTEGER);\"   # query 는 \"질의어\" 또는 \"명령어\"라고 보면 된다.\n",
    "                                                                                # SQL문이므로 끝낼 때 꼭 ; 넣어 주기.\n",
    "# 위 query의 결과는, a와 b는 20정도, c는 실수, d는 정수형으로 형식이 고정된 비어 있는 표를 만드는 명령어를 생성한 것.\n",
    "\n",
    "con = sqlite3.connect('mydata.sqlite')\n",
    "con.execute(query)            # query = 생각 execute = 실행."
   ]
  },
  {
   "cell_type": "code",
   "execution_count": 43,
   "id": "b03a675e",
   "metadata": {},
   "outputs": [],
   "source": [
    "con.commit()      # 지금까지 저장해 둔 것 실행하겠다는 것."
   ]
  },
  {
   "cell_type": "code",
   "execution_count": 44,
   "id": "0d7dc034",
   "metadata": {},
   "outputs": [
    {
     "data": {
      "text/plain": [
       "<sqlite3.Cursor at 0x19e5d2638f0>"
      ]
     },
     "execution_count": 44,
     "metadata": {},
     "output_type": "execute_result"
    }
   ],
   "source": [
    "data = [('Atlanta', 'Georgia', 1.25, 6),\n",
    "       ('Tallahassee', 'Florida', 2.6, 3),\n",
    "       ('Sacramento', 'California', 1.7, 5)]\n",
    "\n",
    "stmt = \"INSERT INTO test VALUES(?, ?, ?, ?)\"\n",
    "\n",
    "con.executemany(stmt, data)\n",
    "con.commit()"
   ]
  },
  {
   "cell_type": "code",
   "execution_count": 45,
   "id": "132d1357",
   "metadata": {},
   "outputs": [],
   "source": [
    "cursor = con.execute('select * from test')"
   ]
  },
  {
   "cell_type": "code",
   "execution_count": 47,
   "id": "bbf5f8c2",
   "metadata": {},
   "outputs": [],
   "source": [
    "rows = cursor.fetchall()"
   ]
  },
  {
   "cell_type": "code",
   "execution_count": 48,
   "id": "f2b7ca4f",
   "metadata": {},
   "outputs": [
    {
     "data": {
      "text/plain": [
       "[('Atlanta', 'Georgia', 1.25, 6),\n",
       " ('Tallahassee', 'Florida', 2.6, 3),\n",
       " ('Sacramento', 'California', 1.7, 5)]"
      ]
     },
     "execution_count": 48,
     "metadata": {},
     "output_type": "execute_result"
    }
   ],
   "source": [
    "rows"
   ]
  },
  {
   "cell_type": "code",
   "execution_count": null,
   "id": "6cd0faec",
   "metadata": {},
   "outputs": [],
   "source": []
  }
 ],
 "metadata": {
  "kernelspec": {
   "display_name": "Python 3",
   "language": "python",
   "name": "python3"
  },
  "language_info": {
   "codemirror_mode": {
    "name": "ipython",
    "version": 3
   },
   "file_extension": ".py",
   "mimetype": "text/x-python",
   "name": "python",
   "nbconvert_exporter": "python",
   "pygments_lexer": "ipython3",
   "version": "3.8.8"
  }
 },
 "nbformat": 4,
 "nbformat_minor": 5
}
