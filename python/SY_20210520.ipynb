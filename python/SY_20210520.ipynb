{
 "cells": [
  {
   "cell_type": "code",
   "execution_count": 1,
   "id": "d1281e21",
   "metadata": {},
   "outputs": [
    {
     "data": {
      "text/plain": [
       "4"
      ]
     },
     "execution_count": 1,
     "metadata": {},
     "output_type": "execute_result"
    }
   ],
   "source": [
    "1+3"
   ]
  },
  {
   "cell_type": "code",
   "execution_count": 2,
   "id": "de8ab12d",
   "metadata": {},
   "outputs": [
    {
     "name": "stdout",
     "output_type": "stream",
     "text": [
      "4\n"
     ]
    }
   ],
   "source": [
    "print(1+3)"
   ]
  },
  {
   "cell_type": "code",
   "execution_count": 3,
   "id": "5fabe806",
   "metadata": {},
   "outputs": [],
   "source": [
    "a=1"
   ]
  },
  {
   "cell_type": "code",
   "execution_count": 4,
   "id": "0c11e34e",
   "metadata": {},
   "outputs": [],
   "source": [
    "b=5"
   ]
  },
  {
   "cell_type": "code",
   "execution_count": 5,
   "id": "bf2be3f7",
   "metadata": {},
   "outputs": [],
   "source": [
    "c=a+b"
   ]
  },
  {
   "cell_type": "code",
   "execution_count": 6,
   "id": "1836e248",
   "metadata": {},
   "outputs": [
    {
     "name": "stdout",
     "output_type": "stream",
     "text": [
      "6\n"
     ]
    }
   ],
   "source": [
    "print(c)"
   ]
  },
  {
   "cell_type": "code",
   "execution_count": 7,
   "id": "2d04dcfb",
   "metadata": {},
   "outputs": [
    {
     "name": "stdout",
     "output_type": "stream",
     "text": [
      "3\n"
     ]
    }
   ],
   "source": [
    "a = 1\n",
    "b = 2\n",
    "c = a + b\n",
    "print(c)"
   ]
  },
  {
   "cell_type": "code",
   "execution_count": 9,
   "id": "399492c1",
   "metadata": {},
   "outputs": [
    {
     "data": {
      "text/plain": [
       "3400.0"
      ]
     },
     "execution_count": 9,
     "metadata": {},
     "output_type": "execute_result"
    }
   ],
   "source": [
    "3.4e3"
   ]
  },
  {
   "cell_type": "code",
   "execution_count": 10,
   "id": "71704841",
   "metadata": {},
   "outputs": [
    {
     "data": {
      "text/plain": [
       "0.0034"
      ]
     },
     "execution_count": 10,
     "metadata": {},
     "output_type": "execute_result"
    }
   ],
   "source": [
    "3.4e-3"
   ]
  },
  {
   "cell_type": "code",
   "execution_count": 11,
   "id": "775a0bf7",
   "metadata": {},
   "outputs": [
    {
     "data": {
      "text/plain": [
       "9"
      ]
     },
     "execution_count": 11,
     "metadata": {},
     "output_type": "execute_result"
    }
   ],
   "source": [
    "3**2"
   ]
  },
  {
   "cell_type": "code",
   "execution_count": 12,
   "id": "a74091a0",
   "metadata": {},
   "outputs": [],
   "source": [
    "# 재고 5\n",
    "# 3개마다 1박스 구성 가능\n",
    "# 출하 가능 박수 개수\n",
    "# 남은 박스 개수"
   ]
  },
  {
   "cell_type": "code",
   "execution_count": 13,
   "id": "b55aeaaa",
   "metadata": {},
   "outputs": [],
   "source": [
    "st = 5"
   ]
  },
  {
   "cell_type": "code",
   "execution_count": 16,
   "id": "77d26cc5",
   "metadata": {},
   "outputs": [
    {
     "data": {
      "text/plain": [
       "1"
      ]
     },
     "execution_count": 16,
     "metadata": {},
     "output_type": "execute_result"
    }
   ],
   "source": [
    "st // 3\n",
    "# 출하 가능 박스 개수"
   ]
  },
  {
   "cell_type": "code",
   "execution_count": 18,
   "id": "39bd7a97",
   "metadata": {},
   "outputs": [
    {
     "data": {
      "text/plain": [
       "2"
      ]
     },
     "execution_count": 18,
     "metadata": {},
     "output_type": "execute_result"
    }
   ],
   "source": [
    "st % 3\n",
    "# 남은 박스 개수"
   ]
  },
  {
   "cell_type": "code",
   "execution_count": 28,
   "id": "e2474994",
   "metadata": {},
   "outputs": [
    {
     "name": "stdout",
     "output_type": "stream",
     "text": [
      "출하 가능 박스:\t1개\n",
      "출하 후 재고:\t2개\n"
     ]
    }
   ],
   "source": [
    "stock_current = 5\n",
    "package_size = 3\n",
    "box_available = stock_current // package_size\n",
    "stock_current = stock_current % package_size\n",
    "print(\"출하 가능 박스:\\t\" + str(box_available) + \"개\")    # \\t => tab (역슬래시t) tab은 데이터를 표로 만들어 주는 것.\n",
    "print(\"출하 후 재고:\\t\" + str(stock_current) + \"개\")"
   ]
  },
  {
   "cell_type": "code",
   "execution_count": 29,
   "id": "5f829a73",
   "metadata": {},
   "outputs": [
    {
     "name": "stdout",
     "output_type": "stream",
     "text": [
      "사과\n",
      "사과\n",
      "사과\n",
      "사과\n"
     ]
    }
   ],
   "source": [
    "print('사과')\n",
    "print(\"사과\")\n",
    "print(\"\"\"사과\"\"\")\n",
    "print('''사과''')"
   ]
  },
  {
   "cell_type": "code",
   "execution_count": 36,
   "id": "d67fc0d9",
   "metadata": {},
   "outputs": [
    {
     "name": "stdout",
     "output_type": "stream",
     "text": [
      "he said that, \"I am so happy\".\n"
     ]
    }
   ],
   "source": [
    "# He said that, \"I am so happy.\"\n",
    "print('he said that, \"I am so happy\".')"
   ]
  },
  {
   "cell_type": "code",
   "execution_count": 37,
   "id": "353521eb",
   "metadata": {},
   "outputs": [
    {
     "name": "stdout",
     "output_type": "stream",
     "text": [
      "I am can be written as i'm\n"
     ]
    }
   ],
   "source": [
    "# I am can be written as I'm\n",
    "\n",
    "print(\"I am can be written as i'm\")"
   ]
  },
  {
   "cell_type": "code",
   "execution_count": 38,
   "id": "48570472",
   "metadata": {},
   "outputs": [
    {
     "name": "stdout",
     "output_type": "stream",
     "text": [
      "best\n"
     ]
    }
   ],
   "source": [
    "print(\"\"\"best\"\"\")"
   ]
  },
  {
   "cell_type": "code",
   "execution_count": 39,
   "id": "395f48a2",
   "metadata": {},
   "outputs": [
    {
     "name": "stdout",
     "output_type": "stream",
     "text": [
      "best\n",
      "music\n",
      "award\n"
     ]
    }
   ],
   "source": [
    "print(\"\"\"best\n",
    "music\n",
    "award\"\"\")"
   ]
  },
  {
   "cell_type": "code",
   "execution_count": 40,
   "id": "d98b9ca5",
   "metadata": {},
   "outputs": [
    {
     "ename": "SyntaxError",
     "evalue": "EOL while scanning string literal (<ipython-input-40-5ba5e8176153>, line 1)",
     "output_type": "error",
     "traceback": [
      "\u001b[1;36m  File \u001b[1;32m\"<ipython-input-40-5ba5e8176153>\"\u001b[1;36m, line \u001b[1;32m1\u001b[0m\n\u001b[1;33m    print(\"best\u001b[0m\n\u001b[1;37m               ^\u001b[0m\n\u001b[1;31mSyntaxError\u001b[0m\u001b[1;31m:\u001b[0m EOL while scanning string literal\n"
     ]
    }
   ],
   "source": [
    "print(\"best\n",
    "      music\n",
    "      award\")          # 일반 따옴표 표현으로는 여러 줄을 커버할 수 없음. 따옴표 세개여야 함."
   ]
  },
  {
   "cell_type": "code",
   "execution_count": 42,
   "id": "5e81f143",
   "metadata": {},
   "outputs": [
    {
     "name": "stdout",
     "output_type": "stream",
     "text": [
      "\n",
      "이 과정은 전문 8대 혁신성장 산업분야의 프로젝트 중심 소프트웨어교육을 실시하고, 4차 산업혁명시대 핵심인재를 양성해 산업체 인력난 해소, 청년 실업문제를 해결하기 위한 정부 핵심 사업으로 졸업예정자 및 청년 구직자를 대상으로 빅데이터 전문교육으로 데이터구조의 이해R, 파이선, 머신러닝, 인공지능 기반 딥러닝까지 학습하여 단계적으로 지역기업 프로젝트와 연계하여 빅데이터 분석 및 경영·마케팅전략 등 데이터를 기반으로 한 빅데이터 컨설팅 및 마케팅 의사결정 역량을 향상시키는데 목적을 두고 지난 5월 11일부터 총 960시간의 프로그램으로 진행됐다.\n",
      "\n",
      "빅데이터 현직 개발자를 강사진으로 구성해 3개월 프로젝트 기반의 빅데이터 교육 후, 3개월 동안 지역의 빅데이터 전문기업인 ㈜아이와즈, ㈜바론시스템, 지엔소프트㈜, ㈜소프트식스, ㈜유펜솔류션과 공공기관인 한국과학기술정보연구원, 한국지질자원연구원, 한국한생명공학연구원, 을지대학교병원과 협약을 체결했고, 지역의 빅데이터 전문가 양상을 위한 프로젝트 기반 현장실무교육을 진행해 48명의 빅데이터 전문 인력을 배출하게 됐다.\n"
     ]
    }
   ],
   "source": [
    "print(\"\"\"\n",
    "이 과정은 전문 8대 혁신성장 산업분야의 프로젝트 중심 소프트웨어교육을 실시하고, 4차 산업혁명시대 핵심인재를 양성해 산업체 인력난 해소, 청년 실업문제를 해결하기 위한 정부 핵심 사업으로 졸업예정자 및 청년 구직자를 대상으로 빅데이터 전문교육으로 데이터구조의 이해R, 파이선, 머신러닝, 인공지능 기반 딥러닝까지 학습하여 단계적으로 지역기업 프로젝트와 연계하여 빅데이터 분석 및 경영·마케팅전략 등 데이터를 기반으로 한 빅데이터 컨설팅 및 마케팅 의사결정 역량을 향상시키는데 목적을 두고 지난 5월 11일부터 총 960시간의 프로그램으로 진행됐다.\n",
    "\n",
    "빅데이터 현직 개발자를 강사진으로 구성해 3개월 프로젝트 기반의 빅데이터 교육 후, 3개월 동안 지역의 빅데이터 전문기업인 ㈜아이와즈, ㈜바론시스템, 지엔소프트㈜, ㈜소프트식스, ㈜유펜솔류션과 공공기관인 한국과학기술정보연구원, 한국지질자원연구원, 한국한생명공학연구원, 을지대학교병원과 협약을 체결했고, 지역의 빅데이터 전문가 양상을 위한 프로젝트 기반 현장실무교육을 진행해 48명의 빅데이터 전문 인력을 배출하게 됐다.\"\"\")"
   ]
  },
  {
   "cell_type": "code",
   "execution_count": 3,
   "id": "0ca2930b",
   "metadata": {},
   "outputs": [
    {
     "name": "stdout",
     "output_type": "stream",
     "text": [
      "best\n",
      "music\n",
      "award\n",
      "bestmusicaward\n"
     ]
    }
   ],
   "source": [
    "print(\"best\\nmusic\\naward\")      # 따옴표 세 개를 쓰기 싫다고 하면 이렇게 쓸 수도 있다.(\\n 줄바꿈 이스케이프 코드 중간중간 넣어 주기.)\n",
    "print(\"best\\\n",
    "music\\\n",
    "award\")                          # 얘는 코드로는 따로 나뉘어져 있는 줄을 한줄로 묶어 주는 것. (\\n 말고 그냥 \\(역슬래시)만.)"
   ]
  },
  {
   "cell_type": "code",
   "execution_count": 45,
   "id": "f051471e",
   "metadata": {},
   "outputs": [
    {
     "ename": "SyntaxError",
     "evalue": "EOL while scanning string literal (<ipython-input-45-c29cd57152a5>, line 1)",
     "output_type": "error",
     "traceback": [
      "\u001b[1;36m  File \u001b[1;32m\"<ipython-input-45-c29cd57152a5>\"\u001b[1;36m, line \u001b[1;32m1\u001b[0m\n\u001b[1;33m    print(\"a\\b\\c\\\")\u001b[0m\n\u001b[1;37m                   ^\u001b[0m\n\u001b[1;31mSyntaxError\u001b[0m\u001b[1;31m:\u001b[0m EOL while scanning string literal\n"
     ]
    }
   ],
   "source": [
    "print(\"a\\b\\c\\\")"
   ]
  },
  {
   "cell_type": "code",
   "execution_count": 46,
   "id": "a80aed43",
   "metadata": {},
   "outputs": [
    {
     "name": "stdout",
     "output_type": "stream",
     "text": [
      "a\\b\\c\\\n"
     ]
    }
   ],
   "source": [
    "print(\"a\\\\b\\\\c\\\\\")     # 문자 그대로 역슬래시를 사용하고 싶다면 이런 식으로 사용해야 한다."
   ]
  },
  {
   "cell_type": "code",
   "execution_count": 47,
   "id": "ee9dcd2f",
   "metadata": {},
   "outputs": [
    {
     "ename": "SyntaxError",
     "evalue": "invalid syntax (<ipython-input-47-309105bc2ef2>, line 1)",
     "output_type": "error",
     "traceback": [
      "\u001b[1;36m  File \u001b[1;32m\"<ipython-input-47-309105bc2ef2>\"\u001b[1;36m, line \u001b[1;32m1\u001b[0m\n\u001b[1;33m    print('girl's generation')\u001b[0m\n\u001b[1;37m                ^\u001b[0m\n\u001b[1;31mSyntaxError\u001b[0m\u001b[1;31m:\u001b[0m invalid syntax\n"
     ]
    }
   ],
   "source": [
    "print('girl's generation')"
   ]
  },
  {
   "cell_type": "code",
   "execution_count": 49,
   "id": "2395b1c8",
   "metadata": {},
   "outputs": [
    {
     "name": "stdout",
     "output_type": "stream",
     "text": [
      "girl's generation\n"
     ]
    }
   ],
   "source": [
    "print(\"girl's generation\")"
   ]
  },
  {
   "cell_type": "code",
   "execution_count": 51,
   "id": "9a1b626d",
   "metadata": {},
   "outputs": [
    {
     "name": "stdout",
     "output_type": "stream",
     "text": [
      "girl's generation\n"
     ]
    }
   ],
   "source": [
    "print('girl\\'s generation')    # 역슬래시 활용해서 따옴표 사용 피할 수도 있음! "
   ]
  },
  {
   "cell_type": "code",
   "execution_count": 52,
   "id": "e5685968",
   "metadata": {},
   "outputs": [],
   "source": [
    "# 지금까지 다양한 문자열 싸는 법 배웠음!(\"\",'',\"\"\"\"\"\", '''''', \"''\", '\"\"', '\\'', \"\\\"\", \"\\n\")"
   ]
  },
  {
   "cell_type": "code",
   "execution_count": 3,
   "id": "54bd5dfe",
   "metadata": {},
   "outputs": [
    {
     "name": "stdout",
     "output_type": "stream",
     "text": [
      "안녕하세요, 박소연입니다. \n",
      "안녕하세요,  박소연 입니다. \n",
      "안녕하세요 박소연 입니다\n",
      "1 2 3\n"
     ]
    }
   ],
   "source": [
    "greeting = \"안녕하세요, \"\n",
    "beverb = \"입니다. \"\n",
    "name = \"박소연\"\n",
    "sentence1 = greeting + name + beverb               # 이렇게 미리 변수 만들어 지정하고 print하는 방법도 있군!\n",
    "print(sentence1)\n",
    "print(greeting, name, beverb)                     # 변수를 ,로 연결해 여러 변수 한 문장에 출력 가능.\n",
    "print(\"안녕하세요\", \"박소연\", \"입니다\")           # ,로 연결해서 볼 경우 기본 sep은 공백 한칸인가 보군.\n",
    "a = 1\n",
    "b = 2\n",
    "c = 3\n",
    "print(a, b, c)                                    # int도 다 ,로 엮어서 프린트 가능"
   ]
  },
  {
   "cell_type": "code",
   "execution_count": 3,
   "id": "cb57eac9",
   "metadata": {},
   "outputs": [
    {
     "data": {
      "text/plain": [
       "'기러기러기러기러기러기러기러기러기러기러기러기러기러기러기러기러기러기러기러기러기러기러기러기러기러기러기러기러기러기러기러기러기러기러기러기러기러기러기러기러기러기러기러기러기러기러기러기러기러기러기러기러기러기러기러기러기러기러기러기러기러기러기러기러기러기러기러기러기러기러기러기러기러기러기러기러기러기러기러기러기러기러기러기러기러기러기러기러기러기러기러기러기러기러기러기러기러기러기러기러'"
      ]
     },
     "execution_count": 3,
     "metadata": {},
     "output_type": "execute_result"
    }
   ],
   "source": [
    "a = \"기러\"\n",
    "a * 100"
   ]
  },
  {
   "cell_type": "code",
   "execution_count": 8,
   "id": "52b96aec",
   "metadata": {},
   "outputs": [
    {
     "name": "stdout",
     "output_type": "stream",
     "text": [
      "안녕하세요, 박소연님 만나서 정말 정말 정말 정말 정말 정말 반갑습니다.\n"
     ]
    }
   ],
   "source": [
    "friendly = 6\n",
    "expression1 = \" 정말\"\n",
    "greeting2 = \"님 만나서\"\n",
    "greeting3 = \" 반갑습니다.\"\n",
    "sentence1 = greeting + name + greeting2\\\n",
    "             +expression1*friendly+greeting3\n",
    "print(sentence1)"
   ]
  },
  {
   "cell_type": "code",
   "execution_count": 9,
   "id": "b9449dd7",
   "metadata": {},
   "outputs": [],
   "source": [
    "# 컴퓨터가 볼 때는 빈칸도 글자이다. (글자수를 count 할 때.)"
   ]
  },
  {
   "cell_type": "code",
   "execution_count": 1,
   "id": "0cb2ad36",
   "metadata": {},
   "outputs": [
    {
     "name": "stdout",
     "output_type": "stream",
     "text": [
      "성 길이 초과 탐색\n"
     ]
    },
    {
     "ename": "NameError",
     "evalue": "name 'second_over_count' is not defined",
     "output_type": "error",
     "traceback": [
      "\u001b[1;31m---------------------------------------------------------------------------\u001b[0m",
      "\u001b[1;31mNameError\u001b[0m                                 Traceback (most recent call last)",
      "\u001b[1;32m<ipython-input-1-bb3ac2bd3158>\u001b[0m in \u001b[0;36m<module>\u001b[1;34m\u001b[0m\n\u001b[0;32m      6\u001b[0m \u001b[1;32mif\u001b[0m \u001b[0mlen\u001b[0m\u001b[1;33m(\u001b[0m\u001b[0msecond_name\u001b[0m\u001b[1;33m)\u001b[0m \u001b[1;33m>\u001b[0m \u001b[1;36m1\u001b[0m\u001b[1;33m:\u001b[0m\u001b[1;33m\u001b[0m\u001b[1;33m\u001b[0m\u001b[0m\n\u001b[0;32m      7\u001b[0m     \u001b[0mprint\u001b[0m\u001b[1;33m(\u001b[0m\u001b[1;34m\"성 길이 초과 탐색\"\u001b[0m\u001b[1;33m)\u001b[0m\u001b[1;33m\u001b[0m\u001b[1;33m\u001b[0m\u001b[0m\n\u001b[1;32m----> 8\u001b[1;33m     \u001b[0msecond_over_count\u001b[0m\u001b[1;33m+=\u001b[0m\u001b[1;36m1\u001b[0m\u001b[1;33m\u001b[0m\u001b[1;33m\u001b[0m\u001b[0m\n\u001b[0m\u001b[0;32m      9\u001b[0m \u001b[0mprint\u001b[0m \u001b[1;33m(\u001b[0m\u001b[1;34m\"first_over_count:\"\u001b[0m\u001b[1;33m+\u001b[0m\u001b[0mstr\u001b[0m\u001b[1;33m(\u001b[0m\u001b[0mfirst_over_count\u001b[0m\u001b[1;33m)\u001b[0m\u001b[1;33m)\u001b[0m\u001b[1;33m\u001b[0m\u001b[1;33m\u001b[0m\u001b[0m\n\u001b[0;32m     10\u001b[0m \u001b[0mprint\u001b[0m \u001b[1;33m(\u001b[0m\u001b[1;34m\"second_over_count:\"\u001b[0m\u001b[1;33m+\u001b[0m\u001b[0mstr\u001b[0m\u001b[1;33m(\u001b[0m\u001b[0msecond_over_count\u001b[0m\u001b[1;33m)\u001b[0m\u001b[1;33m)\u001b[0m\u001b[1;33m\u001b[0m\u001b[1;33m\u001b[0m\u001b[0m\n",
      "\u001b[1;31mNameError\u001b[0m: name 'second_over_count' is not defined"
     ]
    }
   ],
   "source": [
    "first_name = \"용녀\"\n",
    "second_name = \"선우\"\n",
    "if len(first_name) > 3:\n",
    "    print(\"이름 길이 초과 탐색\")\n",
    "    first_over_count+=1\n",
    "if len(second_name) > 1:\n",
    "    print(\"성 길이 초과 탐색\")\n",
    "    second_over_count+=1\n",
    "print (\"first_over_count:\"+str(first_over_count))\n",
    "print (\"second_over_count:\"+str(second_over_count))"
   ]
  },
  {
   "cell_type": "code",
   "execution_count": 17,
   "id": "03ee7db0",
   "metadata": {},
   "outputs": [
    {
     "name": "stdout",
     "output_type": "stream",
     "text": [
      "성 길이 초과 탐색\n",
      "first_over_count:0\n",
      "second_over_count:1\n"
     ]
    }
   ],
   "source": [
    "first_over_count = 0                 # 이렇게 초기값을 주어야 에러가 나지 않는다!\n",
    "second_over_count = 0\n",
    "\n",
    "first_name = \"용녀\"\n",
    "second_name = \"선우\"\n",
    "if len(first_name) > 3 :\n",
    "    print(\"이름 길이 초과 탐색\")\n",
    "    first_over_count += 1\n",
    "if len(second_name) > 1 :\n",
    "    print(\"성 길이 초과 탐색\")\n",
    "    second_over_count += 1\n",
    "print(\"first_over_count:\"+str(first_over_count))\n",
    "print(\"second_over_count:\"+str(second_over_count))"
   ]
  },
  {
   "cell_type": "code",
   "execution_count": 15,
   "id": "05d96224",
   "metadata": {},
   "outputs": [],
   "source": [
    "first_over_count = 0\n",
    "second_over_count = 0"
   ]
  },
  {
   "cell_type": "code",
   "execution_count": 16,
   "id": "969e3884",
   "metadata": {},
   "outputs": [
    {
     "name": "stdout",
     "output_type": "stream",
     "text": [
      "성 길이 초과 탐색\n",
      "first_over_count:0\n",
      "second_over_count:1\n"
     ]
    }
   ],
   "source": [
    "first_name = \"용녀\"\n",
    "second_name = \"선우\"\n",
    "if len(first_name) > 3 :\n",
    "    print(\"이름 길이 초과 탐색\")\n",
    "    first_over_count+=1\n",
    "if len(second_name) > 1 :\n",
    "    print(\"성 길이 초과 탐색\")\n",
    "    second_over_count+=1\n",
    "print(\"first_over_count:\"+str(first_over_count))\n",
    "print(\"second_over_count:\"+str(second_over_count))"
   ]
  },
  {
   "cell_type": "code",
   "execution_count": null,
   "id": "6fbbcb10",
   "metadata": {},
   "outputs": [],
   "source": []
  }
 ],
 "metadata": {
  "kernelspec": {
   "display_name": "Python 3",
   "language": "python",
   "name": "python3"
  },
  "language_info": {
   "codemirror_mode": {
    "name": "ipython",
    "version": 3
   },
   "file_extension": ".py",
   "mimetype": "text/x-python",
   "name": "python",
   "nbconvert_exporter": "python",
   "pygments_lexer": "ipython3",
   "version": "3.8.8"
  }
 },
 "nbformat": 4,
 "nbformat_minor": 5
}
